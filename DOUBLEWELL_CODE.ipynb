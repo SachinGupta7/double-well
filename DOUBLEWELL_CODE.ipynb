{
 "cells": [
  {
   "cell_type": "markdown",
   "metadata": {},
   "source": [
    "### <center>  Double-Well Program Output </center>\n",
    "##### Wait for few minutes \n",
    "\n",
    "\n",
    "\n"
   ]
  },
  {
   "cell_type": "code",
   "execution_count": 2,
   "metadata": {},
   "outputs": [
    {
     "data": {
      "application/vnd.jupyter.widget-view+json": {
       "model_id": "245a7dc5055a4fdfb53a3a194a7a77bb",
       "version_major": 2,
       "version_minor": 0
      },
      "text/plain": [
       "VBox(children=(Figure(animation_duration=900, axes=[Axis(scale=LinearScale()), Axis(orientation='vertical', sc…"
      ]
     },
     "metadata": {},
     "output_type": "display_data"
    },
    {
     "data": {
      "application/vnd.jupyter.widget-view+json": {
       "model_id": "f77bcbabb2234a239aebfadc88e1c023",
       "version_major": 2,
       "version_minor": 0
      },
      "text/plain": [
       "interactive(children=(IntSlider(value=5, description='inner width', layout=Layout(width='700px'), max=58), Int…"
      ]
     },
     "metadata": {},
     "output_type": "display_data"
    }
   ],
   "source": [
    "import numpy as np   ##importing libraries\n",
    "import bqplot as bq\n",
    "from bqplot import pyplot as plt\n",
    "from ipywidgets import*\n",
    "\n",
    "\n",
    "def pot(xc,W1,W2,V1,V2): ##defining potential for variables as inner-outer width , inner and outer potential\n",
    "    if(xc>=(W1/2.0+W2)):\n",
    "        return 0;\n",
    "    elif(xc<=-(W1/2.0+W2)):\n",
    "        return 0;\n",
    "    \n",
    "    elif(xc<=W1/2 and xc>=-W1/2):\n",
    "        return -V1;\n",
    "    else:\n",
    "        return -V2;\n",
    "def kdirac(i,j): ##defining kronecker deltafunction\n",
    "    if(i==j):\n",
    "        return 1;\n",
    "    else:\n",
    "        return 0;\n",
    "    \n",
    "N = 200 #descrete points   \n",
    "x = np.linspace(-30,30,N) ##x array\n",
    "dx = x[2]-x[1] ## delta x\n",
    "def hamil(i,j,VPO): ##hamiltonian function\n",
    "    v =(-kdirac(i+1,j)+2*kdirac(i,j)-kdirac(i-1,j))/(dx**2) + kdirac(i,j)*VPO;\n",
    "    return v;\n",
    "\n",
    "#############creating figures\n",
    "figure = plt.figure(\"Double well \")\n",
    "figure.animation_duration = 900\n",
    "figure.layout= {'width':'840px','height':'600px'}\n",
    "plt.clear()    \n",
    "plot = plt.plot(x,x) ##just to declare it globally we will use it within f_main\n",
    "\n",
    " \n",
    "plt.show()\n",
    "def destroy(WSD): ##tthat restes the figure\n",
    "    plt.clear()\n",
    "    plot = plt.plot(x,WSD)\n",
    "    return plot;\n",
    "def gh(EVe,EVal,N): ##this will plot the desired eigenvalues\n",
    "    \n",
    "\n",
    "    for i in range(0,N):\n",
    "             \n",
    "        vb =  ((EVe[:,i])*3)+EVal[i] +i*.5\n",
    "    #plt.ylim(-10,-8)\n",
    "        plt.plot(x,vb,colors = ['Orange'])\n",
    "        \n",
    "        \n",
    "#this is THE masster function which will take data from the sliders and communicate with all functions in the cell  \n",
    "def f_main(W1,W2,V1,V2,N2,ctrl): ##\n",
    "    global plot \n",
    "     ##making plot as a global because we have defined this earlier so that figure doen't load again and again and intaerction runs smooth\n",
    "\n",
    "    pot_array = np.array([pot(x1,W1,W2,V1,V2) for x1 in x]) ##it creates potential array by getting values from sliders\n",
    "   \n",
    "    plot.y = pot_array ##plotting potential array we just need to change y array of plot\n",
    "    \n",
    "    \n",
    "    Ham = np.zeros(N*N).reshape(N,N) ##creating hamiltonian matrix\n",
    "\n",
    "    \n",
    "    if(ctrl==1):\n",
    "        ## the condition is given when you click on plot button and because it takes time to load hamiltonian matrix when this  \n",
    "        ### is ssatisfied  then only we calculate hamiltonian in this section we do everythin like calculating vectors and plotting them too\n",
    "\n",
    "        for i in range(N):\n",
    "            for j in range(N):\n",
    "                Ham[i,j] = hamil(i,j,pot_array[i])\n",
    "        Eigval,Eigvect = np.linalg.eigh(Ham)\n",
    "        np.sort(Eigval)\n",
    "        np.sort(Eigvect)\n",
    "        gh(Eigvect,Eigval,N2);\n",
    "        \n",
    "    elif(ctrl==2):   ## This condition will reset the plot\n",
    "                                 \n",
    "        plot = destroy(pot_array)\n",
    "\n",
    "        \n",
    "    else:\n",
    "        return;\n",
    "\n",
    "\n",
    "zx = 0   \n",
    "w = interactive(f_main,W1 = IntSlider(description = 'inner width',value = 5,min = 0,max = 58,layout = {'width':'700px'}),\n",
    "                W2 = IntSlider(description = 'Outer width',value = 5,min = 0,max = 20,layout = {'width':'700px'}),\n",
    "                V1 = IntSlider(description = 'V1',value = 5,min = 0,max = 40,layout = {'width':'700px'}),\n",
    "                N2 = IntSlider(description = 'Number of Vectors',value = 6,min = 0,max = 47,layout = {'width':'700px'}),\n",
    "                V2 = IntSlider(description = 'V2',value = 12,min = 0,max = 100,layout = {'width':'700px'}),\n",
    "                ctrl = ToggleButtons(options=[('Modifying well',0),('plot',1), ('reset',2)],value = 0)\n",
    "               ) \n",
    "w\n"
   ]
  }
 ],
 "metadata": {
  "kernelspec": {
   "display_name": "Python 3",
   "language": "python",
   "name": "python3"
  },
  "language_info": {
   "codemirror_mode": {
    "name": "ipython",
    "version": 3
   },
   "file_extension": ".py",
   "mimetype": "text/x-python",
   "name": "python",
   "nbconvert_exporter": "python",
   "pygments_lexer": "ipython3",
   "version": "3.8.3"
  },
  "latex_envs": {
   "LaTeX_envs_menu_present": true,
   "autoclose": false,
   "autocomplete": false,
   "bibliofile": "biblio.bib",
   "cite_by": "apalike",
   "current_citInitial": 1,
   "eqLabelWithNumbers": true,
   "eqNumInitial": 1,
   "hotkeys": {
    "equation": "Ctrl-E",
    "itemize": "Ctrl-I"
   },
   "labels_anchors": false,
   "latex_user_defs": false,
   "report_style_numbering": false,
   "user_envs_cfg": false
  },
  "widgets": {
   "application/vnd.jupyter.widget-state+json": {
    "state": {
     "00a338fa581e49b889d2d6ee4bf56927": {
      "buffers": [
       {
        "data": "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",
        "encoding": "base64",
        "path": [
         "x",
         "value"
        ]
       },
       {
        "data": "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",
        "encoding": "base64",
        "path": [
         "y",
         "value"
        ]
       }
      ],
      "model_module": "bqplot",
      "model_module_version": "^0.5.16",
      "model_name": "LinesModel",
      "state": {
       "colors": [
        "Orange"
       ],
       "fill_colors": [],
       "labels": [
        "C1"
       ],
       "scales": {
        "x": "IPY_MODEL_d0c5c3334445488da47dd8c54c780abd",
        "y": "IPY_MODEL_77389d936796448ba51dfdc163b507f0"
       },
       "x": {
        "dtype": "float64",
        "shape": [
         200
        ],
        "type": null
       },
       "y": {
        "dtype": "float64",
        "shape": [
         200
        ],
        "type": null
       }
      }
     },
     "034ce6ae31a74009bc8f33d10db18a1c": {
      "model_module": "@jupyter-widgets/controls",
      "model_module_version": "1.5.0",
      "model_name": "IntSliderModel",
      "state": {
       "description": "V2",
       "layout": "IPY_MODEL_a8ee59baa7d94dddad4419af7f8ffbf4",
       "style": "IPY_MODEL_d02ff4a6b05b4239af98387bf4c9e6b9",
       "value": 12
      }
     },
     "039f7746d5a44057ba8d80c1d154da3c": {
      "model_module": "@jupyter-widgets/base",
      "model_module_version": "1.2.0",
      "model_name": "LayoutModel",
      "state": {
       "width": "700px"
      }
     },
     "041a48303954486685d9c2b76a9d1dde": {
      "model_module": "@jupyter-widgets/base",
      "model_module_version": "1.2.0",
      "model_name": "LayoutModel",
      "state": {
       "width": "700px"
      }
     },
     "0503c721ee2b4058a93de99aefb0a300": {
      "model_module": "@jupyter-widgets/controls",
      "model_module_version": "1.5.0",
      "model_name": "IntSliderModel",
      "state": {
       "description": "Outer width",
       "layout": "IPY_MODEL_30a066d620294bc7a1d36110db1ca36d",
       "max": 20,
       "style": "IPY_MODEL_df72073749db458cae28da3a43ba08f4",
       "value": 5
      }
     },
     "05081f0be6fa45aaae6e60e552bebe68": {
      "model_module": "@jupyter-widgets/controls",
      "model_module_version": "1.5.0",
      "model_name": "SliderStyleModel",
      "state": {
       "description_width": ""
      }
     },
     "07a79c3cc24d40bf808a27ccb8146db6": {
      "model_module": "@jupyter-widgets/controls",
      "model_module_version": "1.5.0",
      "model_name": "VBoxModel",
      "state": {
       "_dom_classes": [
        "widget-interact"
       ],
       "children": [
        "IPY_MODEL_51ca2ea5d16a4ce48208da4bb519a0a7",
        "IPY_MODEL_c594b680a756416199eeb3c6c7d89028",
        "IPY_MODEL_46b43525047f428787677508450a309a",
        "IPY_MODEL_034ce6ae31a74009bc8f33d10db18a1c",
        "IPY_MODEL_1e1db8ec9ed341edb31f8a183793affb",
        "IPY_MODEL_eb8e5989179f46878584adc2b86f94a8",
        "IPY_MODEL_e86882b8a2054625b715e7504296403f"
       ],
       "layout": "IPY_MODEL_c10a70de82bd487c9ec9faf00b2bcf83"
      }
     },
     "07e3fe4ae0a74f6bada0c133cef4e594": {
      "model_module": "bqplot",
      "model_module_version": "^0.5.16",
      "model_name": "LinearScaleModel",
      "state": {
       "stabilized": false
      }
     },
     "07f3f2b9060c4e45917b22a162834e53": {
      "buffers": [
       {
        "data": "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",
        "encoding": "base64",
        "path": [
         "x",
         "value"
        ]
       },
       {
        "data": "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",
        "encoding": "base64",
        "path": [
         "y",
         "value"
        ]
       }
      ],
      "model_module": "bqplot",
      "model_module_version": "^0.5.16",
      "model_name": "LinesModel",
      "state": {
       "colors": [
        "Orange"
       ],
       "fill_colors": [],
       "labels": [
        "C1"
       ],
       "scales": {
        "x": "IPY_MODEL_d0c5c3334445488da47dd8c54c780abd",
        "y": "IPY_MODEL_77389d936796448ba51dfdc163b507f0"
       },
       "x": {
        "dtype": "float64",
        "shape": [
         200
        ],
        "type": null
       },
       "y": {
        "dtype": "float64",
        "shape": [
         200
        ],
        "type": null
       }
      }
     },
     "09c684f834e24082ab273c2c4b0ced97": {
      "model_module": "bqplot",
      "model_module_version": "^0.5.16",
      "model_name": "AxisModel",
      "state": {
       "orientation": "vertical",
       "scale": "IPY_MODEL_07e3fe4ae0a74f6bada0c133cef4e594",
       "side": "left",
       "tick_values": null
      }
     },
     "0a922d99ac254c5ba6a6f150ad948849": {
      "model_module": "@jupyter-widgets/base",
      "model_module_version": "1.2.0",
      "model_name": "LayoutModel",
      "state": {}
     },
     "0a94a0b15d504b67ab802af52ba9a512": {
      "model_module": "bqplot",
      "model_module_version": "^0.5.16",
      "model_name": "AxisModel",
      "state": {
       "scale": "IPY_MODEL_dea90c2dc9044716a8ff11cf43d1b0bb",
       "side": "bottom",
       "tick_values": null
      }
     },
     "0bb097a3407f4dc1bb106d0b0fc63e11": {
      "model_module": "@jupyter-widgets/controls",
      "model_module_version": "1.5.0",
      "model_name": "SliderStyleModel",
      "state": {
       "description_width": ""
      }
     },
     "0bbdbcf10ee54a578984638d317c5282": {
      "buffers": [
       {
        "data": "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",
        "encoding": "base64",
        "path": [
         "x",
         "value"
        ]
       },
       {
        "data": "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",
        "encoding": "base64",
        "path": [
         "y",
         "value"
        ]
       }
      ],
      "model_module": "bqplot",
      "model_module_version": "^0.5.16",
      "model_name": "LinesModel",
      "state": {
       "colors": [
        "Orange"
       ],
       "fill_colors": [],
       "labels": [
        "C1"
       ],
       "scales": {
        "x": "IPY_MODEL_d0c5c3334445488da47dd8c54c780abd",
        "y": "IPY_MODEL_77389d936796448ba51dfdc163b507f0"
       },
       "x": {
        "dtype": "float64",
        "shape": [
         200
        ],
        "type": null
       },
       "y": {
        "dtype": "float64",
        "shape": [
         200
        ],
        "type": null
       }
      }
     },
     "0c9596c856034e9db50df48f622bd1e9": {
      "model_module": "@jupyter-widgets/base",
      "model_module_version": "1.2.0",
      "model_name": "LayoutModel",
      "state": {
       "height": "450px",
       "width": "740px"
      }
     },
     "0ca51cd3657d4bcdab559fbd2e7672a1": {
      "model_module": "@jupyter-widgets/controls",
      "model_module_version": "1.5.0",
      "model_name": "SliderStyleModel",
      "state": {
       "description_width": ""
      }
     },
     "119545c859a74ab58e5d82e722de879d": {
      "buffers": [
       {
        "data": "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",
        "encoding": "base64",
        "path": [
         "x",
         "value"
        ]
       },
       {
        "data": "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",
        "encoding": "base64",
        "path": [
         "y",
         "value"
        ]
       }
      ],
      "model_module": "bqplot",
      "model_module_version": "^0.5.16",
      "model_name": "LinesModel",
      "state": {
       "colors": [
        "Orange"
       ],
       "fill_colors": [],
       "labels": [
        "C1"
       ],
       "scales": {
        "x": "IPY_MODEL_d0c5c3334445488da47dd8c54c780abd",
        "y": "IPY_MODEL_77389d936796448ba51dfdc163b507f0"
       },
       "x": {
        "dtype": "float64",
        "shape": [
         200
        ],
        "type": null
       },
       "y": {
        "dtype": "float64",
        "shape": [
         200
        ],
        "type": null
       }
      }
     },
     "147ee6082d154481809404b7df3201c9": {
      "buffers": [
       {
        "data": "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",
        "encoding": "base64",
        "path": [
         "x",
         "value"
        ]
       },
       {
        "data": "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",
        "encoding": "base64",
        "path": [
         "y",
         "value"
        ]
       }
      ],
      "model_module": "bqplot",
      "model_module_version": "^0.5.16",
      "model_name": "LinesModel",
      "state": {
       "colors": [
        "Orange"
       ],
       "fill_colors": [],
       "labels": [
        "C1"
       ],
       "scales": {
        "x": "IPY_MODEL_d0c5c3334445488da47dd8c54c780abd",
        "y": "IPY_MODEL_77389d936796448ba51dfdc163b507f0"
       },
       "x": {
        "dtype": "float64",
        "shape": [
         200
        ],
        "type": null
       },
       "y": {
        "dtype": "float64",
        "shape": [
         200
        ],
        "type": null
       }
      }
     },
     "1502fcff4f084a1f9949bf3f48175252": {
      "model_module": "@jupyter-widgets/base",
      "model_module_version": "1.2.0",
      "model_name": "LayoutModel",
      "state": {
       "width": "700px"
      }
     },
     "160e639f1d6349688017d9a325bd80b7": {
      "model_module": "@jupyter-widgets/output",
      "model_module_version": "1.0.0",
      "model_name": "OutputModel",
      "state": {
       "layout": "IPY_MODEL_d109fd7d8ac144379a493de48619bb62"
      }
     },
     "16b46c7001a549649489a3ca12133115": {
      "buffers": [
       {
        "data": "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",
        "encoding": "base64",
        "path": [
         "x",
         "value"
        ]
       },
       {
        "data": "xEAUbFtnL8DEQBRsW2cvwMRAFGxbZy/AxEAUbFtnL8DEQBRsW2cvwMRAFGxbZy/AxEAUbFtnL8DEQBRsW2cvwMRAFGxbZy/AxEAUbFtnL8DEQBRsW2cvwMRAFGxbZy/AxEAUbFtnL8DEQBRsW2cvwMRAFGxbZy/AxEAUbFtnL8DEQBRsW2cvwMRAFGxbZy/AxEAUbFtnL8DEQBRsW2cvwMRAFGxbZy/AxEAUbFtnL8DEQBRsW2cvwMRAFGxbZy/AxEAUbFtnL8DEQBRsW2cvwMRAFGxbZy/AxEAUbFtnL8DEQBRsW2cvwMRAFGxbZy/AxEAUbFtnL8DEQBRsW2cvwMRAFGxbZy/AxEAUbFtnL8DCQBRsW2cvwL5AFGxbZy/ArkAUbFtnL8B4QBRsW2cvwLg/FGxbZy/AGj0UbFtnL8DsMxRsW2cvwLoTFGxbZy/A4KITbFtnL8A4FxJsW2cvwCisDGxbZy/AYq35a1tnL8CGFbdrW2cvwEifzWpbZy/ATCebZ1tnL8DaxWVcW2cvwJpSGjVbZy/AxvxXq1pnL8CKkWPIWGcvwGgPQCtSZy/Acnx1+zpnL8D0Bpl99WYvwMYRTYAeZi/AuoX3IoNjL8DGYNXLalsvwEwjYGhHQi/AdJQMDjf0LsBKPPMsvbMuwMJ+RJx1iC7ADoe82Ht3LsB+7RW50IIuwEQ+CekdqS7AkkIpT97lLsAUky2Z5jEvwOAzhNE9hC/A2DgYbyzTL8CSVDrxsAowwDOy//2GITDAspESe2YrMMBollEkJScwwLyH94ZDFTDAVrwMrLvvL8BWK2tV2KQvwO7zfG2zUi/AFFFWjf4CL8DK8empIb8uwHTk/eoejy7AXIlou6B4LsDWFY6fTn4uwHDF+QR9ny7APm2bgUHYLsD4Tv4e6SEvwK7gyLvCcy/ALjSKoSXEL8DH2gepygQwwLubaw7wHTDAe21rVYsqMMDX4BWlHykwwH60jujXGTDAsJj0fAP9L8Be/an+rbQvwBLh2JA4Yy/A1PxfF0ASL8CeRzW3UssuwBjTsivPli7AgOoQ6ud6LsCA6hDq53ouwBjTsivPli7AoEc1t1LLLsDU/F8XQBIvwBTh2JA4Yy/AXv2p/q20L8CwmPR8A/0vwH60jujXGTDA1uAVpR8pMMB7bWtViyowwLubaw7wHTDAyNoHqcoEMMAyNIqhJcQvwLDgyLvCcy/A+k7+HukhL8BAbZuBQdguwHLF+QR9ny7A1hWOn05+LsBeiWi7oHguwHbk/eoejy7AzPHpqSG/LsAUUVaN/gIvwOzzfG2zUi/AVCtrVdikL8BSvAysu+8vwLqH94ZDFTDAZZZRJCUnMMCwkRJ7ZiswwDGy//2GITDAkFQ68bAKMMDWOBhvLNMvwOAzhNE9hC/AFpMtmeYxL8CUQilP3uUuwEg+CekdqS7Agu0VudCCLsASh7zYe3cuwMZ+RJx1iC7ATjzzLL2zLsB2lAwON/QuwE4jYGhHQi/AxmDVy2pbL8C6hfcig2MvwMYRTYAeZi/A9AaZffVmL8ByfHX7OmcvwGgPQCtSZy/AipFjyFhnL8DG/FerWmcvwJpSGjVbZy/A2sVlXFtnL8BMJ5tnW2cvwEifzWpbZy/AhhW3a1tnL8BirflrW2cvwCisDGxbZy/AOBcSbFtnL8DgohNsW2cvwLoTFGxbZy/A7DMUbFtnL8AaPRRsW2cvwLg/FGxbZy/AeEAUbFtnL8CuQBRsW2cvwL5AFGxbZy/AwkAUbFtnL8DEQBRsW2cvwMRAFGxbZy/AxEAUbFtnL8DEQBRsW2cvwMRAFGxbZy/AxEAUbFtnL8DEQBRsW2cvwMRAFGxbZy/AxEAUbFtnL8DEQBRsW2cvwMRAFGxbZy/AxEAUbFtnL8DEQBRsW2cvwMRAFGxbZy/AxEAUbFtnL8DEQBRsW2cvwMRAFGxbZy/AxEAUbFtnL8DEQBRsW2cvwMRAFGxbZy/AxEAUbFtnL8DEQBRsW2cvwMRAFGxbZy/AxEAUbFtnL8DEQBRsW2cvwMRAFGxbZy/AxEAUbFtnL8DEQBRsW2cvwMRAFGxbZy/AxEAUbFtnL8DEQBRsW2cvwMRAFGxbZy/AxEAUbFtnL8DEQBRsW2cvwA==",
        "encoding": "base64",
        "path": [
         "y",
         "value"
        ]
       }
      ],
      "model_module": "bqplot",
      "model_module_version": "^0.5.16",
      "model_name": "LinesModel",
      "state": {
       "colors": [
        "Orange"
       ],
       "fill_colors": [],
       "labels": [
        "C1"
       ],
       "scales": {
        "x": "IPY_MODEL_d0c5c3334445488da47dd8c54c780abd",
        "y": "IPY_MODEL_77389d936796448ba51dfdc163b507f0"
       },
       "x": {
        "dtype": "float64",
        "shape": [
         200
        ],
        "type": null
       },
       "y": {
        "dtype": "float64",
        "shape": [
         200
        ],
        "type": null
       }
      }
     },
     "16da07ceb611436bb4d0c9139eed20da": {
      "buffers": [
       {
        "data": "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",
        "encoding": "base64",
        "path": [
         "x",
         "value"
        ]
       },
       {
        "data": "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",
        "encoding": "base64",
        "path": [
         "y",
         "value"
        ]
       }
      ],
      "model_module": "bqplot",
      "model_module_version": "^0.5.16",
      "model_name": "LinesModel",
      "state": {
       "colors": [
        "Orange"
       ],
       "fill_colors": [],
       "labels": [
        "C1"
       ],
       "scales": {
        "x": "IPY_MODEL_d0c5c3334445488da47dd8c54c780abd",
        "y": "IPY_MODEL_77389d936796448ba51dfdc163b507f0"
       },
       "x": {
        "dtype": "float64",
        "shape": [
         200
        ],
        "type": null
       },
       "y": {
        "dtype": "float64",
        "shape": [
         200
        ],
        "type": null
       }
      }
     },
     "183ba8ff03a042f5bdfd29cd9dff8488": {
      "model_module": "@jupyter-widgets/base",
      "model_module_version": "1.2.0",
      "model_name": "LayoutModel",
      "state": {
       "width": "700px"
      }
     },
     "1a452cbbe13044398d6d262354119ea0": {
      "model_module": "@jupyter-widgets/base",
      "model_module_version": "1.2.0",
      "model_name": "LayoutModel",
      "state": {
       "height": "600px",
       "width": "840px"
      }
     },
     "1bcad25867e34ce48a462cde3abc3399": {
      "model_module": "bqplot",
      "model_module_version": "^0.5.16",
      "model_name": "ToolbarModel",
      "state": {
       "figure": "IPY_MODEL_a94de22a84bb42dd97c1cb8c3eb31669",
       "layout": "IPY_MODEL_2dfe994530d242a99c67a567647bdbe3"
      }
     },
     "1ca4f3b7e4d3406ea295b8bc2df979f4": {
      "model_module": "@jupyter-widgets/base",
      "model_module_version": "1.2.0",
      "model_name": "LayoutModel",
      "state": {}
     },
     "1e1db8ec9ed341edb31f8a183793affb": {
      "model_module": "@jupyter-widgets/controls",
      "model_module_version": "1.5.0",
      "model_name": "IntSliderModel",
      "state": {
       "description": "Number of Vectors",
       "layout": "IPY_MODEL_ef52bc070a474a9197c620adeee90545",
       "max": 47,
       "style": "IPY_MODEL_bf470f1b1b824d4480b09eefc681b30c",
       "value": 6
      }
     },
     "1f0bf070232e42449aa75ac4ec3070a4": {
      "model_module": "bqplot",
      "model_module_version": "^0.5.16",
      "model_name": "LinearScaleModel",
      "state": {
       "stabilized": false
      }
     },
     "207162f30a784e80a117bba1f777a595": {
      "model_module": "@jupyter-widgets/controls",
      "model_module_version": "1.5.0",
      "model_name": "SliderStyleModel",
      "state": {
       "description_width": ""
      }
     },
     "21dfcffca4f94f5dabcadbf214207d9d": {
      "buffers": [
       {
        "data": "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",
        "encoding": "base64",
        "path": [
         "x",
         "value"
        ]
       },
       {
        "data": "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",
        "encoding": "base64",
        "path": [
         "y",
         "value"
        ]
       }
      ],
      "model_module": "bqplot",
      "model_module_version": "^0.5.16",
      "model_name": "LinesModel",
      "state": {
       "colors": [
        "Orange"
       ],
       "fill_colors": [],
       "labels": [
        "C1"
       ],
       "scales": {
        "x": "IPY_MODEL_d0c5c3334445488da47dd8c54c780abd",
        "y": "IPY_MODEL_77389d936796448ba51dfdc163b507f0"
       },
       "x": {
        "dtype": "float64",
        "shape": [
         200
        ],
        "type": null
       },
       "y": {
        "dtype": "float64",
        "shape": [
         200
        ],
        "type": null
       }
      }
     },
     "226310d15ed34fa8a50d09419f0da99d": {
      "model_module": "@jupyter-widgets/base",
      "model_module_version": "1.2.0",
      "model_name": "LayoutModel",
      "state": {}
     },
     "23656f86d4ee471387c0ffa7a23d3fa3": {
      "model_module": "bqplot",
      "model_module_version": "^0.5.16",
      "model_name": "AxisModel",
      "state": {
       "orientation": "vertical",
       "scale": "IPY_MODEL_4591d15b09f544c9be542dc4910a288d",
       "side": "left",
       "tick_values": null
      }
     },
     "245a7dc5055a4fdfb53a3a194a7a77bb": {
      "model_module": "@jupyter-widgets/controls",
      "model_module_version": "1.5.0",
      "model_name": "VBoxModel",
      "state": {
       "children": [
        "IPY_MODEL_a94de22a84bb42dd97c1cb8c3eb31669",
        "IPY_MODEL_1bcad25867e34ce48a462cde3abc3399"
       ],
       "layout": "IPY_MODEL_226310d15ed34fa8a50d09419f0da99d"
      }
     },
     "27529baea6684341af993152a111590b": {
      "model_module": "@jupyter-widgets/base",
      "model_module_version": "1.2.0",
      "model_name": "LayoutModel",
      "state": {}
     },
     "27e26bff614b4b12953bde252a0baa0e": {
      "model_module": "@jupyter-widgets/controls",
      "model_module_version": "1.5.0",
      "model_name": "IntSliderModel",
      "state": {
       "description": "inner width",
       "layout": "IPY_MODEL_588487c9decc4af4a339a8694de2c1eb",
       "max": 58,
       "style": "IPY_MODEL_84ca308a9ab84bbe8982384a82bc692d",
       "value": 5
      }
     },
     "28252f75080b4e98b605ac055e3d5b15": {
      "model_module": "@jupyter-widgets/controls",
      "model_module_version": "1.5.0",
      "model_name": "ToggleButtonsStyleModel",
      "state": {
       "button_width": "",
       "description_width": ""
      }
     },
     "2d8d05ac469b4919998c375895650d6c": {
      "model_module": "@jupyter-widgets/base",
      "model_module_version": "1.2.0",
      "model_name": "LayoutModel",
      "state": {
       "width": "700px"
      }
     },
     "2ddd6153aa184d769b897f9f423c5d86": {
      "model_module": "@jupyter-widgets/controls",
      "model_module_version": "1.5.0",
      "model_name": "VBoxModel",
      "state": {
       "_dom_classes": [
        "widget-interact"
       ],
       "children": [
        "IPY_MODEL_27e26bff614b4b12953bde252a0baa0e",
        "IPY_MODEL_8f526fd2d436459c8ee5ba436fc34289",
        "IPY_MODEL_4d9b2e3b51bb44309a9fe5ba8182024a",
        "IPY_MODEL_c4e9a2f186724190a6c687ef7da0a322",
        "IPY_MODEL_e8a55d83e8ba4054b16f3556205e74aa",
        "IPY_MODEL_793c241e463e475293d7cbae7b0a56d3",
        "IPY_MODEL_4c9edd003e734df2a4b5cae6688df666"
       ],
       "layout": "IPY_MODEL_2ece534baeac4f4d9bd930e4b8d32a31"
      }
     },
     "2de6eddc014a499e9dd87c1f864437a1": {
      "model_module": "@jupyter-widgets/base",
      "model_module_version": "1.2.0",
      "model_name": "LayoutModel",
      "state": {
       "width": "700px"
      }
     },
     "2dfe994530d242a99c67a567647bdbe3": {
      "model_module": "@jupyter-widgets/base",
      "model_module_version": "1.2.0",
      "model_name": "LayoutModel",
      "state": {}
     },
     "2ece534baeac4f4d9bd930e4b8d32a31": {
      "model_module": "@jupyter-widgets/base",
      "model_module_version": "1.2.0",
      "model_name": "LayoutModel",
      "state": {}
     },
     "2ece9d0fe99242e18a35873e9467f6af": {
      "model_module": "@jupyter-widgets/base",
      "model_module_version": "1.2.0",
      "model_name": "LayoutModel",
      "state": {
       "width": "700px"
      }
     },
     "30504961d19342c4be1eca7ae43de7d5": {
      "model_module": "@jupyter-widgets/output",
      "model_module_version": "1.0.0",
      "model_name": "OutputModel",
      "state": {
       "layout": "IPY_MODEL_3d7c4a681f194bada4545f3e23954763"
      }
     },
     "30a066d620294bc7a1d36110db1ca36d": {
      "model_module": "@jupyter-widgets/base",
      "model_module_version": "1.2.0",
      "model_name": "LayoutModel",
      "state": {
       "width": "700px"
      }
     },
     "30d47fa429ca4f24ac2108d82808e151": {
      "model_module": "bqplot",
      "model_module_version": "^0.5.16",
      "model_name": "AxisModel",
      "state": {
       "orientation": "vertical",
       "scale": "IPY_MODEL_1f0bf070232e42449aa75ac4ec3070a4",
       "side": "left",
       "tick_values": null
      }
     },
     "31d7f16d71514f05a818b3d31d85c08d": {
      "model_module": "@jupyter-widgets/controls",
      "model_module_version": "1.5.0",
      "model_name": "IntSliderModel",
      "state": {
       "description": "V1",
       "layout": "IPY_MODEL_a2378f6e054b4e74a88c339c95b097bd",
       "max": 40,
       "style": "IPY_MODEL_72af1f7d9f1f450e90d0db70a9a32f34",
       "value": 5
      }
     },
     "32f7c977f120498f9df70975f65af983": {
      "model_module": "@jupyter-widgets/base",
      "model_module_version": "1.2.0",
      "model_name": "LayoutModel",
      "state": {}
     },
     "33844659078e4a0ca8b5e51e63ace803": {
      "model_module": "@jupyter-widgets/output",
      "model_module_version": "1.0.0",
      "model_name": "OutputModel",
      "state": {
       "layout": "IPY_MODEL_ad4d38de3482468aaf0715a076839b98",
       "outputs": [
        {
         "ename": "NameError",
         "evalue": "name 'plot' is not defined",
         "output_type": "error",
         "traceback": [
          "\u001b[1;31m---------------------------------------------------------------------------\u001b[0m",
          "\u001b[1;31mNameError\u001b[0m                                 Traceback (most recent call last)",
          "\u001b[1;32m~\\anaconda3\\lib\\site-packages\\ipywidgets\\widgets\\interaction.py\u001b[0m in \u001b[0;36mupdate\u001b[1;34m(self, *args)\u001b[0m\n\u001b[0;32m    254\u001b[0m                     \u001b[0mvalue\u001b[0m \u001b[1;33m=\u001b[0m \u001b[0mwidget\u001b[0m\u001b[1;33m.\u001b[0m\u001b[0mget_interact_value\u001b[0m\u001b[1;33m(\u001b[0m\u001b[1;33m)\u001b[0m\u001b[1;33m\u001b[0m\u001b[1;33m\u001b[0m\u001b[0m\n\u001b[0;32m    255\u001b[0m                     \u001b[0mself\u001b[0m\u001b[1;33m.\u001b[0m\u001b[0mkwargs\u001b[0m\u001b[1;33m[\u001b[0m\u001b[0mwidget\u001b[0m\u001b[1;33m.\u001b[0m\u001b[0m_kwarg\u001b[0m\u001b[1;33m]\u001b[0m \u001b[1;33m=\u001b[0m \u001b[0mvalue\u001b[0m\u001b[1;33m\u001b[0m\u001b[1;33m\u001b[0m\u001b[0m\n\u001b[1;32m--> 256\u001b[1;33m                 \u001b[0mself\u001b[0m\u001b[1;33m.\u001b[0m\u001b[0mresult\u001b[0m \u001b[1;33m=\u001b[0m \u001b[0mself\u001b[0m\u001b[1;33m.\u001b[0m\u001b[0mf\u001b[0m\u001b[1;33m(\u001b[0m\u001b[1;33m**\u001b[0m\u001b[0mself\u001b[0m\u001b[1;33m.\u001b[0m\u001b[0mkwargs\u001b[0m\u001b[1;33m)\u001b[0m\u001b[1;33m\u001b[0m\u001b[1;33m\u001b[0m\u001b[0m\n\u001b[0m\u001b[0;32m    257\u001b[0m                 \u001b[0mshow_inline_matplotlib_plots\u001b[0m\u001b[1;33m(\u001b[0m\u001b[1;33m)\u001b[0m\u001b[1;33m\u001b[0m\u001b[1;33m\u001b[0m\u001b[0m\n\u001b[0;32m    258\u001b[0m                 \u001b[1;32mif\u001b[0m \u001b[0mself\u001b[0m\u001b[1;33m.\u001b[0m\u001b[0mauto_display\u001b[0m \u001b[1;32mand\u001b[0m \u001b[0mself\u001b[0m\u001b[1;33m.\u001b[0m\u001b[0mresult\u001b[0m \u001b[1;32mis\u001b[0m \u001b[1;32mnot\u001b[0m \u001b[1;32mNone\u001b[0m\u001b[1;33m:\u001b[0m\u001b[1;33m\u001b[0m\u001b[1;33m\u001b[0m\u001b[0m\n",
          "\u001b[1;32m<ipython-input-1-8283c03d0452>\u001b[0m in \u001b[0;36mfg\u001b[1;34m(W1, W2, V1, V2, N2, ctrl)\u001b[0m\n\u001b[0;32m     56\u001b[0m     \u001b[0mpot_array\u001b[0m \u001b[1;33m=\u001b[0m \u001b[0mnp\u001b[0m\u001b[1;33m.\u001b[0m\u001b[0marray\u001b[0m\u001b[1;33m(\u001b[0m\u001b[1;33m[\u001b[0m\u001b[0mpot\u001b[0m\u001b[1;33m(\u001b[0m\u001b[0mx1\u001b[0m\u001b[1;33m,\u001b[0m\u001b[0mW1\u001b[0m\u001b[1;33m,\u001b[0m\u001b[0mW2\u001b[0m\u001b[1;33m,\u001b[0m\u001b[0mV1\u001b[0m\u001b[1;33m,\u001b[0m\u001b[0mV2\u001b[0m\u001b[1;33m)\u001b[0m \u001b[1;32mfor\u001b[0m \u001b[0mx1\u001b[0m \u001b[1;32min\u001b[0m \u001b[0mx\u001b[0m\u001b[1;33m]\u001b[0m\u001b[1;33m)\u001b[0m\u001b[1;33m\u001b[0m\u001b[1;33m\u001b[0m\u001b[0m\n\u001b[0;32m     57\u001b[0m \u001b[1;33m\u001b[0m\u001b[0m\n\u001b[1;32m---> 58\u001b[1;33m     \u001b[0mplot\u001b[0m\u001b[1;33m.\u001b[0m\u001b[0my\u001b[0m \u001b[1;33m=\u001b[0m \u001b[0mpot_array\u001b[0m\u001b[1;33m\u001b[0m\u001b[1;33m\u001b[0m\u001b[0m\n\u001b[0m\u001b[0;32m     59\u001b[0m \u001b[1;33m\u001b[0m\u001b[0m\n\u001b[0;32m     60\u001b[0m \u001b[1;33m\u001b[0m\u001b[0m\n",
          "\u001b[1;31mNameError\u001b[0m: name 'plot' is not defined"
         ]
        }
       ]
      }
     },
     "35c4e012fea34c5eaf53045ad7d84002": {
      "model_module": "@jupyter-widgets/controls",
      "model_module_version": "1.5.0",
      "model_name": "SliderStyleModel",
      "state": {
       "description_width": ""
      }
     },
     "3624a6817dea441ca4f1362f1429adfa": {
      "model_module": "@jupyter-widgets/controls",
      "model_module_version": "1.5.0",
      "model_name": "VBoxModel",
      "state": {
       "_dom_classes": [
        "widget-interact"
       ],
       "children": [
        "IPY_MODEL_aeec32d37c9c40c183b98d064ccecb31",
        "IPY_MODEL_bca294891db44b18ae9950a4b6db1bf0",
        "IPY_MODEL_839fb11e8fca476da36d8b884a7a8872",
        "IPY_MODEL_a535034f6d29458fb1a3e40bd386e6c4",
        "IPY_MODEL_893d9b21950a44c991600668e66f88d3",
        "IPY_MODEL_55da3a42034b4f9cb89c6ba349ad11d0",
        "IPY_MODEL_30504961d19342c4be1eca7ae43de7d5"
       ],
       "layout": "IPY_MODEL_b72303918e9f4953ae4562aaf2f7df0b"
      }
     },
     "375db822d5514516a8bc9d2ce9341cbf": {
      "model_module": "@jupyter-widgets/base",
      "model_module_version": "1.2.0",
      "model_name": "LayoutModel",
      "state": {}
     },
     "3793e004565c4791b1bc7a2b6fcd3250": {
      "model_module": "@jupyter-widgets/base",
      "model_module_version": "1.2.0",
      "model_name": "LayoutModel",
      "state": {
       "width": "700px"
      }
     },
     "3920212b8c5542b0b67d25c0068926f8": {
      "model_module": "bqplot",
      "model_module_version": "^0.5.16",
      "model_name": "AxisModel",
      "state": {
       "scale": "IPY_MODEL_eef391ad6ca340ee9c650df7fbf0521b",
       "side": "bottom",
       "tick_values": null
      }
     },
     "3b101167d4374c51bd9e1059a22a2b82": {
      "model_module": "bqplot",
      "model_module_version": "^0.5.16",
      "model_name": "LinearScaleModel",
      "state": {
       "allow_padding": false,
       "max": 1,
       "min": 0,
       "stabilized": false
      }
     },
     "3b56b5e48a55494f80935d61b070dbf0": {
      "model_module": "@jupyter-widgets/base",
      "model_module_version": "1.2.0",
      "model_name": "LayoutModel",
      "state": {}
     },
     "3b7e3e2de7a8408fbe98811104e310b3": {
      "buffers": [
       {
        "data": "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",
        "encoding": "base64",
        "path": [
         "x",
         "value"
        ]
       },
       {
        "data": "AAAAAAAAAAAAAAAAAAAAAAAAAAAAAAAAAAAAAAAAAAAAAAAAAAAAAAAAAAAAAAAAAAAAAAAAAAAAAAAAAAAAAAAAAAAAAAAAAAAAAAAAAAAAAAAAAAAAAAAAAAAAAAAAAAAAAAAAAAAAAAAAAAAAAAAAAAAAAAAAAAAAAAAAAAAAAAAAAAAAAAAAAAAAAAAAAAAAAAAAAAAAAAAAAAAAAAAAAAAAAAAAAAAAAAAAAAAAAAAAAAAAAAAAAAAAAAAAAAAAAAAAAAAAAAAAAAAAAAAAAAAAAAAA/P////z////8/////P////z////8////6////+v////r////6////+v////r////6////+v////r////6////+v////r////6////+v////r////6////+v////r////6////+v////r////6////+v////r////6////+v////r////6////+v////r////6////+v////r////6////+v////r////6////+v////r////6////+v////r////6////+v////r////6////+v////r////6////+v////r////6////+v////r////6////+v////r////6////+v////r////6////+v////r////6////+v////r////6////+v////r////6////+v////r////6////+v////r////6////+v////r////6////+v////8/////P////z////8/////P////z///8AAAAAAAAAAAAAAAAAAAAAAAAAAAAAAAAAAAAAAAAAAAAAAAAAAAAAAAAAAAAAAAAAAAAAAAAAAAAAAAAAAAAAAAAAAAAAAAAAAAAAAAAAAAAAAAAAAAAAAAAAAAAAAAAAAAAAAAAAAAAAAAAAAAAAAAAAAAAAAAAAAAAAAAAAAAAAAAAAAAAAAAAAAAAAAAAAAAAAAAAAAAAAAAAAAAAAAAAAAAAAAAAAAAAAAAAAAAAAAAAAAAAAAAAAAAAAAAAAAAAAAAAAAAAAAAAAAAAAAAAAAAAAAAA=",
        "encoding": "base64",
        "path": [
         "y",
         "value"
        ]
       }
      ],
      "model_module": "bqplot",
      "model_module_version": "^0.5.16",
      "model_name": "LinesModel",
      "state": {
       "fill_colors": [],
       "labels": [
        "C1"
       ],
       "scales": {
        "x": "IPY_MODEL_d0c5c3334445488da47dd8c54c780abd",
        "y": "IPY_MODEL_77389d936796448ba51dfdc163b507f0"
       },
       "x": {
        "dtype": "float64",
        "shape": [
         200
        ],
        "type": null
       },
       "y": {
        "dtype": "int32",
        "shape": [
         200
        ],
        "type": null
       }
      }
     },
     "3bfa1538e6054af8bc2563bd1f24eb69": {
      "buffers": [
       {
        "data": "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",
        "encoding": "base64",
        "path": [
         "x",
         "value"
        ]
       },
       {
        "data": "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",
        "encoding": "base64",
        "path": [
         "y",
         "value"
        ]
       }
      ],
      "model_module": "bqplot",
      "model_module_version": "^0.5.16",
      "model_name": "LinesModel",
      "state": {
       "colors": [
        "Orange"
       ],
       "fill_colors": [],
       "labels": [
        "C1"
       ],
       "scales": {
        "x": "IPY_MODEL_d0c5c3334445488da47dd8c54c780abd",
        "y": "IPY_MODEL_77389d936796448ba51dfdc163b507f0"
       },
       "x": {
        "dtype": "float64",
        "shape": [
         200
        ],
        "type": null
       },
       "y": {
        "dtype": "float64",
        "shape": [
         200
        ],
        "type": null
       }
      }
     },
     "3c0424ca1fc34b3ea60969587d8d61ca": {
      "model_module": "@jupyter-widgets/controls",
      "model_module_version": "1.5.0",
      "model_name": "IntSliderModel",
      "state": {
       "description": "V1",
       "layout": "IPY_MODEL_d055f6a850c0421ebe760d8d6280af84",
       "max": 40,
       "style": "IPY_MODEL_c4303d63942d49f995e0e3382ac5085f",
       "value": 5
      }
     },
     "3d794a51b07546cc912c6276fcbdef34": {
      "model_module": "@jupyter-widgets/base",
      "model_module_version": "1.2.0",
      "model_name": "LayoutModel",
      "state": {
       "width": "700px"
      }
     },
     "3d7c4a681f194bada4545f3e23954763": {
      "model_module": "@jupyter-widgets/base",
      "model_module_version": "1.2.0",
      "model_name": "LayoutModel",
      "state": {}
     },
     "40664eb00e344b3394e8e06b57dc0ce6": {
      "buffers": [
       {
        "data": "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",
        "encoding": "base64",
        "path": [
         "x",
         "value"
        ]
       },
       {
        "data": "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",
        "encoding": "base64",
        "path": [
         "y",
         "value"
        ]
       }
      ],
      "model_module": "bqplot",
      "model_module_version": "^0.5.16",
      "model_name": "LinesModel",
      "state": {
       "colors": [
        "Orange"
       ],
       "fill_colors": [],
       "labels": [
        "C1"
       ],
       "scales": {
        "x": "IPY_MODEL_d0c5c3334445488da47dd8c54c780abd",
        "y": "IPY_MODEL_77389d936796448ba51dfdc163b507f0"
       },
       "x": {
        "dtype": "float64",
        "shape": [
         200
        ],
        "type": null
       },
       "y": {
        "dtype": "float64",
        "shape": [
         200
        ],
        "type": null
       }
      }
     },
     "40ca5c84c7d64cf58684acc72fd7b89b": {
      "model_module": "@jupyter-widgets/controls",
      "model_module_version": "1.5.0",
      "model_name": "ToggleButtonsModel",
      "state": {
       "_options_labels": [
        "Modifying well",
        "plot",
        "reset"
       ],
       "button_style": "",
       "description": "ctrl",
       "icons": [],
       "index": 0,
       "layout": "IPY_MODEL_375db822d5514516a8bc9d2ce9341cbf",
       "style": "IPY_MODEL_9dd7543fd27247bd8d4fef44cec1d178",
       "tooltips": []
      }
     },
     "4196b28f4c1d490ea7534c0b43bf0854": {
      "model_module": "@jupyter-widgets/controls",
      "model_module_version": "1.5.0",
      "model_name": "SliderStyleModel",
      "state": {
       "description_width": ""
      }
     },
     "41b63bb5c26440cdab8d24abaf267b38": {
      "model_module": "@jupyter-widgets/base",
      "model_module_version": "1.2.0",
      "model_name": "LayoutModel",
      "state": {
       "width": "700px"
      }
     },
     "4233553db91f4becbc8807b9d2f45615": {
      "model_module": "bqplot",
      "model_module_version": "^0.5.16",
      "model_name": "AxisModel",
      "state": {
       "scale": "IPY_MODEL_d2149f09188b482cbe8f7f6272927603",
       "side": "bottom",
       "tick_values": null
      }
     },
     "42489391370944c3ae0787681982e200": {
      "model_module": "bqplot",
      "model_module_version": "^0.5.16",
      "model_name": "LinearScaleModel",
      "state": {
       "stabilized": false
      }
     },
     "4252f718efc44184b5eca27a90350189": {
      "model_module": "@jupyter-widgets/controls",
      "model_module_version": "1.5.0",
      "model_name": "IntSliderModel",
      "state": {
       "description": "inner width",
       "layout": "IPY_MODEL_c18c1a59319148f195d75f423344a3cc",
       "max": 58,
       "style": "IPY_MODEL_63c054ea93e64bd39d1a722364a9df8f",
       "value": 26
      }
     },
     "4367e8ea78ef4b749e7560a0c480f891": {
      "model_module": "@jupyter-widgets/base",
      "model_module_version": "1.2.0",
      "model_name": "LayoutModel",
      "state": {
       "width": "700px"
      }
     },
     "43f13a792ab14f1ba74517cb80c03f4d": {
      "model_module": "@jupyter-widgets/controls",
      "model_module_version": "1.5.0",
      "model_name": "ToggleButtonsModel",
      "state": {
       "_options_labels": [
        "Modifying well",
        "plot",
        "reset"
       ],
       "button_style": "",
       "description": "ctrl",
       "icons": [],
       "index": 0,
       "layout": "IPY_MODEL_3b56b5e48a55494f80935d61b070dbf0",
       "style": "IPY_MODEL_c26d20625e78402ca433a8fe870cf084",
       "tooltips": []
      }
     },
     "446b343612314aa79d19b06524f4165b": {
      "model_module": "@jupyter-widgets/base",
      "model_module_version": "1.2.0",
      "model_name": "LayoutModel",
      "state": {
       "height": "400px",
       "width": "640px"
      }
     },
     "4591d15b09f544c9be542dc4910a288d": {
      "model_module": "bqplot",
      "model_module_version": "^0.5.16",
      "model_name": "LinearScaleModel",
      "state": {
       "stabilized": false
      }
     },
     "46abc8b691aa4defa5ff82691aa6e437": {
      "model_module": "@jupyter-widgets/controls",
      "model_module_version": "1.5.0",
      "model_name": "SliderStyleModel",
      "state": {
       "description_width": ""
      }
     },
     "46b43525047f428787677508450a309a": {
      "model_module": "@jupyter-widgets/controls",
      "model_module_version": "1.5.0",
      "model_name": "IntSliderModel",
      "state": {
       "description": "V1",
       "layout": "IPY_MODEL_4367e8ea78ef4b749e7560a0c480f891",
       "max": 40,
       "style": "IPY_MODEL_dbbb7b96f0294f9699ae46c297bdc8df",
       "value": 5
      }
     },
     "46d95f287925456f8dee2bffc1f9269c": {
      "model_module": "bqplot",
      "model_module_version": "^0.5.16",
      "model_name": "AxisModel",
      "state": {
       "scale": "IPY_MODEL_c255abfeecad427c87cab918f7f9e9ca",
       "side": "bottom",
       "tick_values": null
      }
     },
     "471fc76b1c2141b0a4ccdb4c09f27bba": {
      "model_module": "bqplot",
      "model_module_version": "^0.5.16",
      "model_name": "LinearScaleModel",
      "state": {
       "stabilized": false
      }
     },
     "47a36ad2221646c6affeb144957b573d": {
      "model_module": "bqplot",
      "model_module_version": "^0.5.16",
      "model_name": "AxisModel",
      "state": {
       "scale": "IPY_MODEL_f5ce64a7cbd3455384aa70ba586786f6",
       "side": "bottom",
       "tick_values": null
      }
     },
     "4c82a770d8e14ea4932e2510184bc113": {
      "model_module": "@jupyter-widgets/controls",
      "model_module_version": "1.5.0",
      "model_name": "VBoxModel",
      "state": {
       "_dom_classes": [
        "widget-interact"
       ],
       "children": [
        "IPY_MODEL_7352756e08914f79afe9c6642b677d9d",
        "IPY_MODEL_783c92a500d04d27bdc04b963b34eced",
        "IPY_MODEL_3c0424ca1fc34b3ea60969587d8d61ca",
        "IPY_MODEL_ca1dbc8188ad4744b965b4065289be09",
        "IPY_MODEL_af43fab4200248d4b0f3d6a5afe1a4f0",
        "IPY_MODEL_6683c2655aca4f0b86e3f7f42d0aced9",
        "IPY_MODEL_33844659078e4a0ca8b5e51e63ace803"
       ],
       "layout": "IPY_MODEL_5d633123b13942c9bbcbc09f50d19efc"
      }
     },
     "4c9edd003e734df2a4b5cae6688df666": {
      "model_module": "@jupyter-widgets/output",
      "model_module_version": "1.0.0",
      "model_name": "OutputModel",
      "state": {
       "layout": "IPY_MODEL_4fa60f80d8b34b5ebb65cd7fa87f9b95"
      }
     },
     "4d6c8fe325fe446c85fe641f7be147a5": {
      "model_module": "@jupyter-widgets/controls",
      "model_module_version": "1.5.0",
      "model_name": "SliderStyleModel",
      "state": {
       "description_width": ""
      }
     },
     "4d9b2e3b51bb44309a9fe5ba8182024a": {
      "model_module": "@jupyter-widgets/controls",
      "model_module_version": "1.5.0",
      "model_name": "IntSliderModel",
      "state": {
       "description": "V1",
       "layout": "IPY_MODEL_d2a8b39f575d43b2ad2bd43e6e83d49f",
       "max": 40,
       "style": "IPY_MODEL_eeec34c0fca344e2b8a6b1ef5d44e389",
       "value": 5
      }
     },
     "4fa60f80d8b34b5ebb65cd7fa87f9b95": {
      "model_module": "@jupyter-widgets/base",
      "model_module_version": "1.2.0",
      "model_name": "LayoutModel",
      "state": {}
     },
     "5090fab6eb3b4fa99db3030d5e0e2ceb": {
      "model_module": "@jupyter-widgets/base",
      "model_module_version": "1.2.0",
      "model_name": "LayoutModel",
      "state": {
       "width": "700px"
      }
     },
     "515bd76674f04ec387e853e2b6242f49": {
      "buffers": [
       {
        "data": "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",
        "encoding": "base64",
        "path": [
         "x",
         "value"
        ]
       },
       {
        "data": "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",
        "encoding": "base64",
        "path": [
         "y",
         "value"
        ]
       }
      ],
      "model_module": "bqplot",
      "model_module_version": "^0.5.16",
      "model_name": "LinesModel",
      "state": {
       "colors": [
        "Orange"
       ],
       "fill_colors": [],
       "labels": [
        "C1"
       ],
       "scales": {
        "x": "IPY_MODEL_d0c5c3334445488da47dd8c54c780abd",
        "y": "IPY_MODEL_77389d936796448ba51dfdc163b507f0"
       },
       "x": {
        "dtype": "float64",
        "shape": [
         200
        ],
        "type": null
       },
       "y": {
        "dtype": "float64",
        "shape": [
         200
        ],
        "type": null
       }
      }
     },
     "51ca2ea5d16a4ce48208da4bb519a0a7": {
      "model_module": "@jupyter-widgets/controls",
      "model_module_version": "1.5.0",
      "model_name": "IntSliderModel",
      "state": {
       "description": "inner width",
       "layout": "IPY_MODEL_710629cb302442248a0249b0c3324ecc",
       "max": 58,
       "style": "IPY_MODEL_53dcd6ce1e5e49c08c57fde7e4aff621",
       "value": 9
      }
     },
     "5286a8f377994adbb8b25dc3bfc7fbe9": {
      "buffers": [
       {
        "data": "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",
        "encoding": "base64",
        "path": [
         "x",
         "value"
        ]
       },
       {
        "data": "AAAAAAAAAAAAAAAAAAAAAAAAAAAAAAAAAAAAAAAAAAAAAAAAAAAAAAAAAAAAAAAAAAAAAAAAAAAAAAAAAAAAAAAAAAAAAAAAAAAAAAAAAAAAAAAAAAAAAAAAAAAAAAAAAAAAAAAAAAAAAAAAAAAAAAAAAAAAAAAAAAAAAAAAAAAAAAAAAAAAAAAAAAAAAAAAAAAAAAAAAAAAAAAAAAAAAAAAAAAAAAAAAAAAAAAAAAAAAAAAAAAAAAAAAAAAAAAAAAAAAAAAAAAAAAAAAAAAAAAAAAAAAAAAAAAAAAAAAAAAAAAAAAAAAAAAAAAAAAAAAAAAAAAAAAAAAAAAAAAAAAAAAAAAAAAAAAAAAAAAAAAAAAAAAAAAAAAAAAAAAAAAAAAAAAAAAAAAAAAAAAAAAAAAAAAAAAAAAAAAAAAAAAAAAAAAAAAAAAAAAAAAAAAAAAAAAAAAAAAAAAAAAAAAAAAAAAAAAAAAAAAAAAAAAAAAAAAAAAAAAAAAAAAAAAAAAAAAAAAAAAAAAAAAAAAAAPT////0////9P////T////0////9P////T////0////9P////T////0////9P////T////0////9P////T////0////9P////T////0////9P////T////0////9P////T////0////9P////T////0////9P////T////0////9P////T////0////9P////T////0////9P////T////0////9P////v////7////+/////v////7////+/////v////7////+/////v////7////+/////v////7////+/////v////7////+/////v////7////+/////v////7////+/////v////7////+/////v////7////+/////v////7////+/////v////7////+/////v////7////+/////v////7////+/////v////7////+/////v////7////+/////v////7////+/////v////7////+/////v////7////+/////v////7////+/////v////7////+/////v////7////+/////v////7////+/////v////7////+/////v////7////+/////v////7////+/////v////7////+/////v////7////+/////v////7////+/////v////7////+/////v////7////+/////v////7////+/////v////7////+/////v////7////+/////v////7////+/////v////7////+/////v////7////+/////v////7////+/////v////7////+/////v////7////+/////v////7////+/////v////7////+/////v////7////+/////v////7////+/////v////7////+/////v////7////+/////v////7////+/////v////7////+/////v////7////+/////v////7////+/////v////7////+/////v////7////+/////v////7////+/////v////7////+/////v////7////+/////v////7////+/////v////7////+/////v////7////+/////v////7////+/////v////7////+/////v////7////+/////v////7////+/////v////7////+/////v////7////+/////v////7////+/////v////7////+/////v////7////+/////v////7////+/////v////7////+/////v////7////+/////v////7////+/////v////7////+/////T////0////9P////T////0////9P////T////0////9P////T////0////9P////T////0////9P////T////0////9P////T////0////9P////T////0////9P////T////0////9P////T////0////9P////T////0////9P////T////0////9P////T////0////9P////T////0////9P///wAAAAAAAAAAAAAAAAAAAAAAAAAAAAAAAAAAAAAAAAAAAAAAAAAAAAAAAAAAAAAAAAAAAAAAAAAAAAAAAAAAAAAAAAAAAAAAAAAAAAAAAAAAAAAAAAAAAAAAAAAAAAAAAAAAAAAAAAAAAAAAAAAAAAAAAAAAAAAAAAAAAAAAAAAAAAAAAAAAAAAAAAAAAAAAAAAAAAAAAAAAAAAAAAAAAAAAAAAAAAAAAAAAAAAAAAAAAAAAAAAAAAAAAAAAAAAAAAAAAAAAAAAAAAAAAAAAAAAAAAAAAAAAAAAAAAAAAAAAAAAAAAAAAAAAAAAAAAAAAAAAAAAAAAAAAAAAAAAAAAAAAAAAAAAAAAAAAAAAAAAAAAAAAAAAAAAAAAAAAAAAAAAAAAAAAAAAAAAAAAAAAAAAAAAAAAAAAAAAAAAAAAAAAAAAAAAAAAAAAAAAAAAAAAAAAAAAAAAAAAAAAAAAAAAAAAAAAAAAAAAAAAAAAAAAAAAAAAAAAAAAAAAAAAAAAAAAAAAAAAAAAAAAAAAAAAA=",
        "encoding": "base64",
        "path": [
         "y",
         "value"
        ]
       }
      ],
      "model_module": "bqplot",
      "model_module_version": "^0.5.16",
      "model_name": "LinesModel",
      "state": {
       "fill_colors": [],
       "labels": [
        "C1"
       ],
       "scales": {
        "x": "IPY_MODEL_c8d9099b9ca74e998409f7b30446416b",
        "y": "IPY_MODEL_5485e4152e954d7897e486baae7e240c"
       },
       "x": {
        "dtype": "float64",
        "shape": [
         500
        ],
        "type": null
       },
       "y": {
        "dtype": "int32",
        "shape": [
         500
        ],
        "type": null
       }
      }
     },
     "52cece14d7bf48ba9d24837f62846817": {
      "model_module": "@jupyter-widgets/controls",
      "model_module_version": "1.5.0",
      "model_name": "IntSliderModel",
      "state": {
       "description": "V1",
       "layout": "IPY_MODEL_944fa4d371174f7e856073d5f8cec798",
       "max": 40,
       "style": "IPY_MODEL_ce59eb2f593b43e0933794940b797904",
       "value": 5
      }
     },
     "53dcd6ce1e5e49c08c57fde7e4aff621": {
      "model_module": "@jupyter-widgets/controls",
      "model_module_version": "1.5.0",
      "model_name": "SliderStyleModel",
      "state": {
       "description_width": ""
      }
     },
     "5485e4152e954d7897e486baae7e240c": {
      "model_module": "bqplot",
      "model_module_version": "^0.5.16",
      "model_name": "LinearScaleModel",
      "state": {
       "stabilized": false
      }
     },
     "55da3a42034b4f9cb89c6ba349ad11d0": {
      "model_module": "@jupyter-widgets/controls",
      "model_module_version": "1.5.0",
      "model_name": "ToggleButtonsModel",
      "state": {
       "_options_labels": [
        "Modifying well",
        "plot",
        "reset"
       ],
       "button_style": "",
       "description": "ctrl",
       "icons": [],
       "index": 0,
       "layout": "IPY_MODEL_1ca4f3b7e4d3406ea295b8bc2df979f4",
       "style": "IPY_MODEL_28252f75080b4e98b605ac055e3d5b15",
       "tooltips": []
      }
     },
     "564281351f854606b62082b53ac13f41": {
      "model_module": "@jupyter-widgets/base",
      "model_module_version": "1.2.0",
      "model_name": "LayoutModel",
      "state": {}
     },
     "565da90d9a4a41beb5f5de57c5642261": {
      "buffers": [
       {
        "data": "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",
        "encoding": "base64",
        "path": [
         "x",
         "value"
        ]
       },
       {
        "data": "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",
        "encoding": "base64",
        "path": [
         "y",
         "value"
        ]
       }
      ],
      "model_module": "bqplot",
      "model_module_version": "^0.5.16",
      "model_name": "LinesModel",
      "state": {
       "colors": [
        "Orange"
       ],
       "fill_colors": [],
       "labels": [
        "C1"
       ],
       "scales": {
        "x": "IPY_MODEL_d0c5c3334445488da47dd8c54c780abd",
        "y": "IPY_MODEL_77389d936796448ba51dfdc163b507f0"
       },
       "x": {
        "dtype": "float64",
        "shape": [
         200
        ],
        "type": null
       },
       "y": {
        "dtype": "float64",
        "shape": [
         200
        ],
        "type": null
       }
      }
     },
     "57b4e909d5a64f64bdd9f894a72c14a0": {
      "model_module": "bqplot",
      "model_module_version": "^0.5.16",
      "model_name": "AxisModel",
      "state": {
       "scale": "IPY_MODEL_471fc76b1c2141b0a4ccdb4c09f27bba",
       "side": "bottom",
       "tick_values": null
      }
     },
     "588487c9decc4af4a339a8694de2c1eb": {
      "model_module": "@jupyter-widgets/base",
      "model_module_version": "1.2.0",
      "model_name": "LayoutModel",
      "state": {
       "width": "700px"
      }
     },
     "592e7086585e4ff9a241c01132e07eaa": {
      "model_module": "@jupyter-widgets/controls",
      "model_module_version": "1.5.0",
      "model_name": "IntSliderModel",
      "state": {
       "description": "V1",
       "layout": "IPY_MODEL_3d794a51b07546cc912c6276fcbdef34",
       "max": 40,
       "style": "IPY_MODEL_87fb9b6f91a24f9f913f527d6fedbb6b",
       "value": 21
      }
     },
     "5957d3f40a114f579d93100b5e8a9ce9": {
      "buffers": [
       {
        "data": "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",
        "encoding": "base64",
        "path": [
         "x",
         "value"
        ]
       },
       {
        "data": "JJXvsj/5D0Akle+yP/kPQCSV77I/+Q9AJJXvsj/5D0Akle+yP/kPQCSV77I/+Q9AJJXvsj/5D0Akle+yP/kPQCSV77I/+Q9AJJXvsj/5D0Akle+yP/kPQCSV77I/+Q9AJJXvsj/5D0Akle+yP/kPQCSV77I/+Q9AJJXvsj/5D0Akle+yP/kPQCSV77I/+Q9AJJXvsj/5D0Akle+yP/kPQCSV77I/+Q9AJJXvsj/5D0Aole+yP/kPQDCV77I/+Q9ARJXvsj/5D0Bsle+yP/kPQNiV77I/+Q9A4Jbvsj/5D0Bsme+yP/kPQKif77I/+Q9A+K7vsj/5D0CY1O+yP/kPQAgx8LI/+Q9AJBTxsj/5D0AgQvOyP/kPQAyd+LI/+Q9AQMUFsz/5D0CYGCazP/kPQESEdbM/+Q9ADKU4tD/5D0DoDRi2P/kPQATqsbo/+Q9AQMv/xT/5D0AEwsXhP/kPQHA0AiZA+Q9A5F+ozUD5D0B84o1pQvkPQIicil1G+Q9AsLbjE1D5D0AsAZfwZ/kPQCAhCZGi+Q9ALJw8mzL6D0DMD1d/lPsPQNCzm/j5/g9AcHzPFqkDEEAel1lUWgsQQJI9ZuRpGhBAQPhNqmA4EEAK9bE8PHQQQESyzMru6xBAojxmZ1rbEUDMstzCcNYQQLiSk5rD2w1AuHVofpFADEBUqxvNC4kOQNrv5ucrKRFAms3bqrXTEUD2zy0355EQQLg7yZcpaA1AzCtRG0JbDEBg7mIUIhYPQAiM2cEvXxFANtGHWb7AEUBw5dkox0kQQNhrLaBaBA1AcGXcUzSMDEBgo0jMragPQAQgDv6tjBFA4PoeJumiEUBgw/HBmP8PQBQHhNK8sgxAvGDB/TrSDEBIC4qhlB4QQE7rYrGOsBFAQuk5oO16EUDg2zgjfGsPQKgmGV5GdQxAmI55OqcrDUCGv11uAWgQQMyFgBr1yRFA9nniysFJEUDs5f/Jx9oOQNBu0XBxTQxAEJBi0lKWDUDysyiE2a4QQGy4J/BE2BFAapfeMpQQEUA4gqoT9lAOQGRyOyAzPAxAmBM5bq0PDkBYC9P7aPEQQPLb0SIm2xFAClQaqcTQEEB0+yEAV9ENQHC5j4X1QQxAZMKNXcyUDkAcTb5JFi4RQLzdhvqG0hFALqLvzduLEEBgNhrQ+14NQLQe3jCVXgxAPKsjiXwiD0DWzbIVbGMRQNAB44OcvhFANCdToYFDEEDIV2slpPwMQKxTGQNikQxAtBPLIla1D0DE5A40IpARQJqRrUnhnxFA7Gbto+byD0CINKEZrawMQEDqwmkj2QxAckPLzOgkEEBqYgGJJbMRQDjf2GISdxFAaF8rFPFeD0Dch8+yAnEMQDgSLOIfNA1A9B2+qC5uEEA+/0alnssRQEj3CucqRRFAXIqD97DODkAUjycQFEsMQJRKEZYnoA1Aer9hzLm0EEBIWrvz9tgRQMjLpeVdCxFAsMQl4J1FDkAEsRKXyjsMQMDFRdChGg5ANEB77AYKD0DIOUMRvoEPQCSvEp2rvQ9ADPwrvcrbD0BoMUA4LesPQHh2Q22F8w9AfBqI5ur2D0AcjqLKTPgPQCgJ1tTc+A9AHClIdRf5D0CYc/tRL/kPQMCNVAg5+Q9AzEdR/Dz5D0BkyjaYPvkPQNj13D8/+Q9ARGgZhD/5D0AIX9+fP/kPQERALas/+Q9AYBzHrz/5D0A8haaxP/kPQASmabI/+Q9AsBG5sj/5D0AIZdmyP/kPQDyN5rI/+Q9AKOjrsj/5D0AkFu6yP/kPQED57rI/+Q9AsFXvsj/5D0BQe++yP/kPQKCK77I/+Q9A3JDvsj/5D0Bok++yP/kPQHCU77I/+Q9A3JTvsj/5D0AEle+yP/kPQBiV77I/+Q9AIJXvsj/5D0Akle+yP/kPQCSV77I/+Q9AJJXvsj/5D0Akle+yP/kPQCSV77I/+Q9AJJXvsj/5D0Akle+yP/kPQCSV77I/+Q9AJJXvsj/5D0Akle+yP/kPQCSV77I/+Q9AJJXvsj/5D0Akle+yP/kPQCSV77I/+Q9AJJXvsj/5D0Akle+yP/kPQCSV77I/+Q9AJJXvsj/5D0Akle+yP/kPQCSV77I/+Q9AJJXvsj/5D0Akle+yP/kPQA==",
        "encoding": "base64",
        "path": [
         "y",
         "value"
        ]
       }
      ],
      "model_module": "bqplot",
      "model_module_version": "^0.5.16",
      "model_name": "LinesModel",
      "state": {
       "colors": [
        "Orange"
       ],
       "fill_colors": [],
       "labels": [
        "C1"
       ],
       "scales": {
        "x": "IPY_MODEL_d0c5c3334445488da47dd8c54c780abd",
        "y": "IPY_MODEL_77389d936796448ba51dfdc163b507f0"
       },
       "x": {
        "dtype": "float64",
        "shape": [
         200
        ],
        "type": null
       },
       "y": {
        "dtype": "float64",
        "shape": [
         200
        ],
        "type": null
       }
      }
     },
     "59b98e82218b4d54a702794490215d77": {
      "buffers": [
       {
        "data": "AAAAAAAAPsByIepm0LI9wOVC1M2gZT3AWGS+NHEYPcDKhaibQcs8wDynkgISfjzAr8h8aeIwPMAi6mbQsuM7wJQLUTeDljvABi07nlNJO8B5TiUFJPw6wOxvD2z0rjrAXpH50sRhOsDQsuM5lRQ6wEPUzaBlxznAtvW3BzZ6OcAoF6JuBi05wJo4jNXW3zjADVp2PKeSOMCAe2Cjd0U4wPKcSgpI+DfAZL40cRirN8DX3x7Y6F03wEoBCT+5EDfAvCLzpYnDNsAuRN0MWnY2wKFlx3MqKTbAFIex2vrbNcCGqJtBy441wPjJhaibQTXAa+tvD2z0NMDeDFp2PKc0wFAuRN0MWjTAwk8uRN0MNMA1cRirrb8zwKiSAhJ+cjPAGrTseE4lM8CM1dbfHtgywP/2wEbvijLAchirrb89MsDkOZUUkPAxwFZbf3tgozHAyXxp4jBWMcA8nlNJAQkxwK6/PbDRuzDAIOEnF6JuMMCTAhJ+ciEwwAtI+MmFqC/A8IrMlyYOL8DVzaBlx3MuwLoQdTNo2S3An1NJAQk/LcCElh3PqaQswGnZ8ZxKCizAThzGautvK8A0X5o4jNUqwBiibgYtOyrA/ORC1M2gKcDiJxeibgYpwMhq628PbCjArK2/PbDRJ8CQ8JMLUTcnwHYzaNnxnCbAXHY8p5ICJsBAuRB1M2glwCT85ELUzSTACj+5EHUzJMDwgY3eFZkjwNTEYay2/iLAuAc2eldkIsCeSgpI+MkhwISN3hWZLyHAaNCy4zmVIMCYJg5jtfUfwGSstv72wB7AMDJfmjiMHcD4twc2elccwMA9sNG7IhvAjMNYbf3tGcBYSQEJP7kYwCDPqaSAhBfA6FRSQMJPFsC02vrbAxsVwIBgo3dF5hPASOZLE4exEsAQbPSuyHwRwNzxnEoKSBDAUO+KzJcmDsDg+tsDG70LwHAGLTueUwnACBJ+ciHqBsCgHc+ppIAEwDApIOEnFwLAgGniMFZb/7+wgISfXIj6v+CXJg5jtfW/AK/IfGni8L9AjNXW3x7ov0B1M2jZ8dy/AKR3ReZLw78Ao3dF5kvDPwB1M2jZ8dw/IIzV1t8e6D/grsh8aeLwP8CXJg5jtfU/oICEn1yI+j9waeIwVlv/PyApIOEnFwJAkB3PqaSABEAAEn5yIeoGQGAGLTueUwlA0PrbAxu9C0BA74rMlyYOQNjxnEoKSBBAEGz0rsh8EUBA5ksTh7ESQHhgo3dF5hNAsNr62wMbFUDgVFJAwk8WQBjPqaSAhBdAUEkBCT+5GECIw1ht/e0ZQMA9sNG7IhtA8LcHNnpXHEAoMl+aOIwdQGCstv72wB5AkCYOY7X1H0Bk0LLjOZUgQICN3hWZLyFAnEoKSPjJIUC4BzZ6V2QiQNDEYay2/iJA7IGN3hWZI0AIP7kQdTMkQCD85ELUzSRAPLkQdTNoJUBYdjynkgImQHQzaNnxnCZAkPCTC1E3J0Corb89sNEnQMRq628PbChA4CcXom4GKUD45ELUzaApQBSibgYtOypAMF+aOIzVKkBMHMZq628rQGjZ8ZxKCixAgJYdz6mkLECcU0kBCT8tQLgQdTNo2S1A0M2gZcdzLkDsisyXJg4vQAhI+MmFqC9AkgISfnIhMEAg4ScXom4wQKy/PbDRuzBAOp5TSQEJMUDIfGniMFYxQFRbf3tgozFA4jmVFJDwMUBwGKutvz0yQP72wEbvijJAjNXW3x7YMkAYtOx4TiUzQKaSAhJ+cjNANHEYq62/M0DATy5E3Qw0QE4uRN0MWjRA3AxadjynNEBq628PbPQ0QPjJhaibQTVAhKibQcuONUASh7Ha+ts1QKBlx3MqKTZALETdDFp2NkC6IvOlicM2QEgBCT+5EDdA1t8e2OhdN0BkvjRxGKs3QPCcSgpI+DdAfntgo3dFOEAMWnY8p5I4QJg4jNXW3zhAJheibgYtOUC09bcHNno5QELUzaBlxzlA0LLjOZUUOkBckfnSxGE6QOpvD2z0rjpAeE4lBST8OkAELTueU0k7QJILUTeDljtAIOpm0LLjO0CuyHxp4jA8QDynkgISfjxAyIWom0HLPEBWZL40cRg9QORC1M2gZT1AcCHqZtCyPUAAAAAAAAA+QA==",
        "encoding": "base64",
        "path": [
         "x",
         "value"
        ]
       },
       {
        "data": "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",
        "encoding": "base64",
        "path": [
         "y",
         "value"
        ]
       }
      ],
      "model_module": "bqplot",
      "model_module_version": "^0.5.16",
      "model_name": "LinesModel",
      "state": {
       "colors": [
        "Orange"
       ],
       "fill_colors": [],
       "labels": [
        "C1"
       ],
       "scales": {
        "x": "IPY_MODEL_d0c5c3334445488da47dd8c54c780abd",
        "y": "IPY_MODEL_77389d936796448ba51dfdc163b507f0"
       },
       "x": {
        "dtype": "float64",
        "shape": [
         200
        ],
        "type": null
       },
       "y": {
        "dtype": "float64",
        "shape": [
         200
        ],
        "type": null
       }
      }
     },
     "5bd140bbecca4b998c19f8024ddce5e8": {
      "model_module": "@jupyter-widgets/controls",
      "model_module_version": "1.5.0",
      "model_name": "SliderStyleModel",
      "state": {
       "description_width": ""
      }
     },
     "5d633123b13942c9bbcbc09f50d19efc": {
      "model_module": "@jupyter-widgets/base",
      "model_module_version": "1.2.0",
      "model_name": "LayoutModel",
      "state": {}
     },
     "5d93988a6673430e9285d767edaf5382": {
      "model_module": "@jupyter-widgets/base",
      "model_module_version": "1.2.0",
      "model_name": "LayoutModel",
      "state": {
       "width": "700px"
      }
     },
     "5e9b51fbd07f4c4fad9acd7ca34d1e8a": {
      "buffers": [
       {
        "data": "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",
        "encoding": "base64",
        "path": [
         "x",
         "value"
        ]
       },
       {
        "data": "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",
        "encoding": "base64",
        "path": [
         "y",
         "value"
        ]
       }
      ],
      "model_module": "bqplot",
      "model_module_version": "^0.5.16",
      "model_name": "LinesModel",
      "state": {
       "colors": [
        "Orange"
       ],
       "fill_colors": [],
       "labels": [
        "C1"
       ],
       "scales": {
        "x": "IPY_MODEL_d0c5c3334445488da47dd8c54c780abd",
        "y": "IPY_MODEL_77389d936796448ba51dfdc163b507f0"
       },
       "x": {
        "dtype": "float64",
        "shape": [
         200
        ],
        "type": null
       },
       "y": {
        "dtype": "float64",
        "shape": [
         200
        ],
        "type": null
       }
      }
     },
     "5f83604301ea43c397bab1fee161ccb4": {
      "model_module": "bqplot",
      "model_module_version": "^0.5.16",
      "model_name": "AxisModel",
      "state": {
       "scale": "IPY_MODEL_d0c5c3334445488da47dd8c54c780abd",
       "side": "bottom",
       "tick_values": null
      }
     },
     "5f985ea8856a4f469056933b23e9140f": {
      "buffers": [
       {
        "data": "AAAAAAAAPsByIepm0LI9wOVC1M2gZT3AWGS+NHEYPcDKhaibQcs8wDynkgISfjzAr8h8aeIwPMAi6mbQsuM7wJQLUTeDljvABi07nlNJO8B5TiUFJPw6wOxvD2z0rjrAXpH50sRhOsDQsuM5lRQ6wEPUzaBlxznAtvW3BzZ6OcAoF6JuBi05wJo4jNXW3zjADVp2PKeSOMCAe2Cjd0U4wPKcSgpI+DfAZL40cRirN8DX3x7Y6F03wEoBCT+5EDfAvCLzpYnDNsAuRN0MWnY2wKFlx3MqKTbAFIex2vrbNcCGqJtBy441wPjJhaibQTXAa+tvD2z0NMDeDFp2PKc0wFAuRN0MWjTAwk8uRN0MNMA1cRirrb8zwKiSAhJ+cjPAGrTseE4lM8CM1dbfHtgywP/2wEbvijLAchirrb89MsDkOZUUkPAxwFZbf3tgozHAyXxp4jBWMcA8nlNJAQkxwK6/PbDRuzDAIOEnF6JuMMCTAhJ+ciEwwAtI+MmFqC/A8IrMlyYOL8DVzaBlx3MuwLoQdTNo2S3An1NJAQk/LcCElh3PqaQswGnZ8ZxKCizAThzGautvK8A0X5o4jNUqwBiibgYtOyrA/ORC1M2gKcDiJxeibgYpwMhq628PbCjArK2/PbDRJ8CQ8JMLUTcnwHYzaNnxnCbAXHY8p5ICJsBAuRB1M2glwCT85ELUzSTACj+5EHUzJMDwgY3eFZkjwNTEYay2/iLAuAc2eldkIsCeSgpI+MkhwISN3hWZLyHAaNCy4zmVIMCYJg5jtfUfwGSstv72wB7AMDJfmjiMHcD4twc2elccwMA9sNG7IhvAjMNYbf3tGcBYSQEJP7kYwCDPqaSAhBfA6FRSQMJPFsC02vrbAxsVwIBgo3dF5hPASOZLE4exEsAQbPSuyHwRwNzxnEoKSBDAUO+KzJcmDsDg+tsDG70LwHAGLTueUwnACBJ+ciHqBsCgHc+ppIAEwDApIOEnFwLAgGniMFZb/7+wgISfXIj6v+CXJg5jtfW/AK/IfGni8L9AjNXW3x7ov0B1M2jZ8dy/AKR3ReZLw78Ao3dF5kvDPwB1M2jZ8dw/IIzV1t8e6D/grsh8aeLwP8CXJg5jtfU/oICEn1yI+j9waeIwVlv/PyApIOEnFwJAkB3PqaSABEAAEn5yIeoGQGAGLTueUwlA0PrbAxu9C0BA74rMlyYOQNjxnEoKSBBAEGz0rsh8EUBA5ksTh7ESQHhgo3dF5hNAsNr62wMbFUDgVFJAwk8WQBjPqaSAhBdAUEkBCT+5GECIw1ht/e0ZQMA9sNG7IhtA8LcHNnpXHEAoMl+aOIwdQGCstv72wB5AkCYOY7X1H0Bk0LLjOZUgQICN3hWZLyFAnEoKSPjJIUC4BzZ6V2QiQNDEYay2/iJA7IGN3hWZI0AIP7kQdTMkQCD85ELUzSRAPLkQdTNoJUBYdjynkgImQHQzaNnxnCZAkPCTC1E3J0Corb89sNEnQMRq628PbChA4CcXom4GKUD45ELUzaApQBSibgYtOypAMF+aOIzVKkBMHMZq628rQGjZ8ZxKCixAgJYdz6mkLECcU0kBCT8tQLgQdTNo2S1A0M2gZcdzLkDsisyXJg4vQAhI+MmFqC9AkgISfnIhMEAg4ScXom4wQKy/PbDRuzBAOp5TSQEJMUDIfGniMFYxQFRbf3tgozFA4jmVFJDwMUBwGKutvz0yQP72wEbvijJAjNXW3x7YMkAYtOx4TiUzQKaSAhJ+cjNANHEYq62/M0DATy5E3Qw0QE4uRN0MWjRA3AxadjynNEBq628PbPQ0QPjJhaibQTVAhKibQcuONUASh7Ha+ts1QKBlx3MqKTZALETdDFp2NkC6IvOlicM2QEgBCT+5EDdA1t8e2OhdN0BkvjRxGKs3QPCcSgpI+DdAfntgo3dFOEAMWnY8p5I4QJg4jNXW3zhAJheibgYtOUC09bcHNno5QELUzaBlxzlA0LLjOZUUOkBckfnSxGE6QOpvD2z0rjpAeE4lBST8OkAELTueU0k7QJILUTeDljtAIOpm0LLjO0CuyHxp4jA8QDynkgISfjxAyIWom0HLPEBWZL40cRg9QORC1M2gZT1AcCHqZtCyPUAAAAAAAAA+QA==",
        "encoding": "base64",
        "path": [
         "x",
         "value"
        ]
       },
       {
        "data": "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",
        "encoding": "base64",
        "path": [
         "y",
         "value"
        ]
       }
      ],
      "model_module": "bqplot",
      "model_module_version": "^0.5.16",
      "model_name": "LinesModel",
      "state": {
       "colors": [
        "Orange"
       ],
       "fill_colors": [],
       "labels": [
        "C1"
       ],
       "scales": {
        "x": "IPY_MODEL_d0c5c3334445488da47dd8c54c780abd",
        "y": "IPY_MODEL_77389d936796448ba51dfdc163b507f0"
       },
       "x": {
        "dtype": "float64",
        "shape": [
         200
        ],
        "type": null
       },
       "y": {
        "dtype": "float64",
        "shape": [
         200
        ],
        "type": null
       }
      }
     },
     "627827c2ca3142d6b0752e59969a3cc2": {
      "model_module": "@jupyter-widgets/controls",
      "model_module_version": "1.5.0",
      "model_name": "IntSliderModel",
      "state": {
       "description": "inner width",
       "layout": "IPY_MODEL_2ece9d0fe99242e18a35873e9467f6af",
       "max": 58,
       "style": "IPY_MODEL_f2338d775f424f65aff66d574c6babad",
       "value": 24
      }
     },
     "63c054ea93e64bd39d1a722364a9df8f": {
      "model_module": "@jupyter-widgets/controls",
      "model_module_version": "1.5.0",
      "model_name": "SliderStyleModel",
      "state": {
       "description_width": ""
      }
     },
     "6635d5446d454554ae4c1003de3c5cab": {
      "buffers": [
       {
        "data": "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",
        "encoding": "base64",
        "path": [
         "x",
         "value"
        ]
       },
       {
        "data": "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",
        "encoding": "base64",
        "path": [
         "y",
         "value"
        ]
       }
      ],
      "model_module": "bqplot",
      "model_module_version": "^0.5.16",
      "model_name": "LinesModel",
      "state": {
       "colors": [
        "Orange"
       ],
       "fill_colors": [],
       "labels": [
        "C1"
       ],
       "scales": {
        "x": "IPY_MODEL_d0c5c3334445488da47dd8c54c780abd",
        "y": "IPY_MODEL_77389d936796448ba51dfdc163b507f0"
       },
       "x": {
        "dtype": "float64",
        "shape": [
         200
        ],
        "type": null
       },
       "y": {
        "dtype": "float64",
        "shape": [
         200
        ],
        "type": null
       }
      }
     },
     "6683c2655aca4f0b86e3f7f42d0aced9": {
      "model_module": "@jupyter-widgets/controls",
      "model_module_version": "1.5.0",
      "model_name": "ToggleButtonsModel",
      "state": {
       "_options_labels": [
        "Modifying well",
        "plot",
        "reset"
       ],
       "button_style": "",
       "description": "ctrl",
       "icons": [],
       "index": 0,
       "layout": "IPY_MODEL_9de94a86958c4ac88af46e958d3fd46a",
       "style": "IPY_MODEL_7a4bcbcd8b9241e3a210d760926d9d56",
       "tooltips": []
      }
     },
     "6706d27b4e914032a351af6c1f72e54f": {
      "buffers": [
       {
        "data": "AAAAAAAAPsByIepm0LI9wOVC1M2gZT3AWGS+NHEYPcDKhaibQcs8wDynkgISfjzAr8h8aeIwPMAi6mbQsuM7wJQLUTeDljvABi07nlNJO8B5TiUFJPw6wOxvD2z0rjrAXpH50sRhOsDQsuM5lRQ6wEPUzaBlxznAtvW3BzZ6OcAoF6JuBi05wJo4jNXW3zjADVp2PKeSOMCAe2Cjd0U4wPKcSgpI+DfAZL40cRirN8DX3x7Y6F03wEoBCT+5EDfAvCLzpYnDNsAuRN0MWnY2wKFlx3MqKTbAFIex2vrbNcCGqJtBy441wPjJhaibQTXAa+tvD2z0NMDeDFp2PKc0wFAuRN0MWjTAwk8uRN0MNMA1cRirrb8zwKiSAhJ+cjPAGrTseE4lM8CM1dbfHtgywP/2wEbvijLAchirrb89MsDkOZUUkPAxwFZbf3tgozHAyXxp4jBWMcA8nlNJAQkxwK6/PbDRuzDAIOEnF6JuMMCTAhJ+ciEwwAtI+MmFqC/A8IrMlyYOL8DVzaBlx3MuwLoQdTNo2S3An1NJAQk/LcCElh3PqaQswGnZ8ZxKCizAThzGautvK8A0X5o4jNUqwBiibgYtOyrA/ORC1M2gKcDiJxeibgYpwMhq628PbCjArK2/PbDRJ8CQ8JMLUTcnwHYzaNnxnCbAXHY8p5ICJsBAuRB1M2glwCT85ELUzSTACj+5EHUzJMDwgY3eFZkjwNTEYay2/iLAuAc2eldkIsCeSgpI+MkhwISN3hWZLyHAaNCy4zmVIMCYJg5jtfUfwGSstv72wB7AMDJfmjiMHcD4twc2elccwMA9sNG7IhvAjMNYbf3tGcBYSQEJP7kYwCDPqaSAhBfA6FRSQMJPFsC02vrbAxsVwIBgo3dF5hPASOZLE4exEsAQbPSuyHwRwNzxnEoKSBDAUO+KzJcmDsDg+tsDG70LwHAGLTueUwnACBJ+ciHqBsCgHc+ppIAEwDApIOEnFwLAgGniMFZb/7+wgISfXIj6v+CXJg5jtfW/AK/IfGni8L9AjNXW3x7ov0B1M2jZ8dy/AKR3ReZLw78Ao3dF5kvDPwB1M2jZ8dw/IIzV1t8e6D/grsh8aeLwP8CXJg5jtfU/oICEn1yI+j9waeIwVlv/PyApIOEnFwJAkB3PqaSABEAAEn5yIeoGQGAGLTueUwlA0PrbAxu9C0BA74rMlyYOQNjxnEoKSBBAEGz0rsh8EUBA5ksTh7ESQHhgo3dF5hNAsNr62wMbFUDgVFJAwk8WQBjPqaSAhBdAUEkBCT+5GECIw1ht/e0ZQMA9sNG7IhtA8LcHNnpXHEAoMl+aOIwdQGCstv72wB5AkCYOY7X1H0Bk0LLjOZUgQICN3hWZLyFAnEoKSPjJIUC4BzZ6V2QiQNDEYay2/iJA7IGN3hWZI0AIP7kQdTMkQCD85ELUzSRAPLkQdTNoJUBYdjynkgImQHQzaNnxnCZAkPCTC1E3J0Corb89sNEnQMRq628PbChA4CcXom4GKUD45ELUzaApQBSibgYtOypAMF+aOIzVKkBMHMZq628rQGjZ8ZxKCixAgJYdz6mkLECcU0kBCT8tQLgQdTNo2S1A0M2gZcdzLkDsisyXJg4vQAhI+MmFqC9AkgISfnIhMEAg4ScXom4wQKy/PbDRuzBAOp5TSQEJMUDIfGniMFYxQFRbf3tgozFA4jmVFJDwMUBwGKutvz0yQP72wEbvijJAjNXW3x7YMkAYtOx4TiUzQKaSAhJ+cjNANHEYq62/M0DATy5E3Qw0QE4uRN0MWjRA3AxadjynNEBq628PbPQ0QPjJhaibQTVAhKibQcuONUASh7Ha+ts1QKBlx3MqKTZALETdDFp2NkC6IvOlicM2QEgBCT+5EDdA1t8e2OhdN0BkvjRxGKs3QPCcSgpI+DdAfntgo3dFOEAMWnY8p5I4QJg4jNXW3zhAJheibgYtOUC09bcHNno5QELUzaBlxzlA0LLjOZUUOkBckfnSxGE6QOpvD2z0rjpAeE4lBST8OkAELTueU0k7QJILUTeDljtAIOpm0LLjO0CuyHxp4jA8QDynkgISfjxAyIWom0HLPEBWZL40cRg9QORC1M2gZT1AcCHqZtCyPUAAAAAAAAA+QA==",
        "encoding": "base64",
        "path": [
         "x",
         "value"
        ]
       },
       {
        "data": "AAAAAAAAAAAAAAAAAAAAAAAAAAAAAAAAAAAAAAAAAAAAAAAAAAAAAAAAAAAAAAAAAAAAAAAAAAAAAAAAAAAAAAAAAAAAAAAAAAAAAAAAAAAAAAAAAAAAAAAAAAAAAAAAAAAAAAAAAAAAAAAAAAAAAAAAAAAAAAAAAAAAAAAAAAAAAAAAAAAAAAAAAAAAAAAAAAAAAAAAAAAAAAAAAAAAAAAAAAAAAAAAAAAAAAAAAAAAAAAAAAAAAAAAAAAAAAAAAAAAAAAAAAAAAAAAAAAAAAAAAAAAAAAA/P////z////8/////P////z////8////6////+v////r////6////+v////r////6////+v////r////6////+v////r////6////+v////r////6////+v////r////6////+v////r////6////+v////r////6////+v////r////6////+v////r////6////+v////r////6////+v////r////6////+v////r////6////+v////r////6////+v////r////6////+v////r////6////+v////r////6////+v////r////6////+v////r////6////+v////r////6////+v////r////6////+v////r////6////+v////r////6////+v////r////6////+v////r////6////+v////r////6////+v////8/////P////z////8/////P////z///8AAAAAAAAAAAAAAAAAAAAAAAAAAAAAAAAAAAAAAAAAAAAAAAAAAAAAAAAAAAAAAAAAAAAAAAAAAAAAAAAAAAAAAAAAAAAAAAAAAAAAAAAAAAAAAAAAAAAAAAAAAAAAAAAAAAAAAAAAAAAAAAAAAAAAAAAAAAAAAAAAAAAAAAAAAAAAAAAAAAAAAAAAAAAAAAAAAAAAAAAAAAAAAAAAAAAAAAAAAAAAAAAAAAAAAAAAAAAAAAAAAAAAAAAAAAAAAAAAAAAAAAAAAAAAAAAAAAAAAAAAAAAAAAA=",
        "encoding": "base64",
        "path": [
         "y",
         "value"
        ]
       }
      ],
      "model_module": "bqplot",
      "model_module_version": "^0.5.16",
      "model_name": "LinesModel",
      "state": {
       "fill_colors": [],
       "labels": [
        "C1"
       ],
       "scales": {
        "x": "IPY_MODEL_eef391ad6ca340ee9c650df7fbf0521b",
        "y": "IPY_MODEL_fe5e821101a7443daf02cc19eafda9b9"
       },
       "x": {
        "dtype": "float64",
        "shape": [
         200
        ],
        "type": null
       },
       "y": {
        "dtype": "int32",
        "shape": [
         200
        ],
        "type": null
       }
      }
     },
     "681792a841ad40809c8f4f6a2c6e3bae": {
      "buffers": [
       {
        "data": "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",
        "encoding": "base64",
        "path": [
         "x",
         "value"
        ]
       },
       {
        "data": "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",
        "encoding": "base64",
        "path": [
         "y",
         "value"
        ]
       }
      ],
      "model_module": "bqplot",
      "model_module_version": "^0.5.16",
      "model_name": "LinesModel",
      "state": {
       "colors": [
        "Orange"
       ],
       "fill_colors": [],
       "labels": [
        "C1"
       ],
       "scales": {
        "x": "IPY_MODEL_d0c5c3334445488da47dd8c54c780abd",
        "y": "IPY_MODEL_77389d936796448ba51dfdc163b507f0"
       },
       "x": {
        "dtype": "float64",
        "shape": [
         200
        ],
        "type": null
       },
       "y": {
        "dtype": "float64",
        "shape": [
         200
        ],
        "type": null
       }
      }
     },
     "68f4393e2b5346e2a030dc40218a865e": {
      "model_module": "bqplot",
      "model_module_version": "^0.5.16",
      "model_name": "AxisModel",
      "state": {
       "scale": "IPY_MODEL_c8d9099b9ca74e998409f7b30446416b",
       "side": "bottom",
       "tick_values": null
      }
     },
     "6a341fd742ab4ffe91dabb7ad20af0bf": {
      "model_module": "@jupyter-widgets/base",
      "model_module_version": "1.2.0",
      "model_name": "LayoutModel",
      "state": {}
     },
     "6aacc07ee2f34cc09eb068566efca7e1": {
      "buffers": [
       {
        "data": "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",
        "encoding": "base64",
        "path": [
         "x",
         "value"
        ]
       },
       {
        "data": "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",
        "encoding": "base64",
        "path": [
         "y",
         "value"
        ]
       }
      ],
      "model_module": "bqplot",
      "model_module_version": "^0.5.16",
      "model_name": "LinesModel",
      "state": {
       "colors": [
        "Orange"
       ],
       "fill_colors": [],
       "labels": [
        "C1"
       ],
       "scales": {
        "x": "IPY_MODEL_f5ce64a7cbd3455384aa70ba586786f6",
        "y": "IPY_MODEL_07e3fe4ae0a74f6bada0c133cef4e594"
       },
       "x": {
        "dtype": "float64",
        "shape": [
         200
        ],
        "type": null
       },
       "y": {
        "dtype": "float64",
        "shape": [
         200
        ],
        "type": null
       }
      }
     },
     "6c1b740b14e94c2f85fc346fd79cf1b3": {
      "buffers": [
       {
        "data": "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",
        "encoding": "base64",
        "path": [
         "x",
         "value"
        ]
       },
       {
        "data": "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",
        "encoding": "base64",
        "path": [
         "y",
         "value"
        ]
       }
      ],
      "model_module": "bqplot",
      "model_module_version": "^0.5.16",
      "model_name": "LinesModel",
      "state": {
       "colors": [
        "Orange"
       ],
       "fill_colors": [],
       "labels": [
        "C1"
       ],
       "scales": {
        "x": "IPY_MODEL_f5ce64a7cbd3455384aa70ba586786f6",
        "y": "IPY_MODEL_07e3fe4ae0a74f6bada0c133cef4e594"
       },
       "x": {
        "dtype": "float64",
        "shape": [
         200
        ],
        "type": null
       },
       "y": {
        "dtype": "float64",
        "shape": [
         200
        ],
        "type": null
       }
      }
     },
     "6d7144624d2443d79503b6c718bfbe59": {
      "model_module": "@jupyter-widgets/controls",
      "model_module_version": "1.5.0",
      "model_name": "IntSliderModel",
      "state": {
       "description": "Number of Vectors",
       "layout": "IPY_MODEL_3793e004565c4791b1bc7a2b6fcd3250",
       "max": 47,
       "style": "IPY_MODEL_a2d01aaafd52466ca11c875ec6b6fb54",
       "value": 39
      }
     },
     "710629cb302442248a0249b0c3324ecc": {
      "model_module": "@jupyter-widgets/base",
      "model_module_version": "1.2.0",
      "model_name": "LayoutModel",
      "state": {
       "width": "700px"
      }
     },
     "7239159e0812447cb58e64249be56989": {
      "buffers": [
       {
        "data": "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",
        "encoding": "base64",
        "path": [
         "x",
         "value"
        ]
       },
       {
        "data": "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",
        "encoding": "base64",
        "path": [
         "y",
         "value"
        ]
       }
      ],
      "model_module": "bqplot",
      "model_module_version": "^0.5.16",
      "model_name": "LinesModel",
      "state": {
       "colors": [
        "Orange"
       ],
       "fill_colors": [],
       "labels": [
        "C1"
       ],
       "scales": {
        "x": "IPY_MODEL_d0c5c3334445488da47dd8c54c780abd",
        "y": "IPY_MODEL_77389d936796448ba51dfdc163b507f0"
       },
       "x": {
        "dtype": "float64",
        "shape": [
         200
        ],
        "type": null
       },
       "y": {
        "dtype": "float64",
        "shape": [
         200
        ],
        "type": null
       }
      }
     },
     "72af1f7d9f1f450e90d0db70a9a32f34": {
      "model_module": "@jupyter-widgets/controls",
      "model_module_version": "1.5.0",
      "model_name": "SliderStyleModel",
      "state": {
       "description_width": ""
      }
     },
     "7352756e08914f79afe9c6642b677d9d": {
      "model_module": "@jupyter-widgets/controls",
      "model_module_version": "1.5.0",
      "model_name": "IntSliderModel",
      "state": {
       "description": "inner width",
       "layout": "IPY_MODEL_9374f2936fd44516ac828f860997ac3b",
       "max": 58,
       "style": "IPY_MODEL_0bb097a3407f4dc1bb106d0b0fc63e11",
       "value": 5
      }
     },
     "73fae58d9f2545fdac8eaf370aca3e14": {
      "model_module": "@jupyter-widgets/base",
      "model_module_version": "1.2.0",
      "model_name": "LayoutModel",
      "state": {
       "height": "600px",
       "width": "840px"
      }
     },
     "77389d936796448ba51dfdc163b507f0": {
      "model_module": "bqplot",
      "model_module_version": "^0.5.16",
      "model_name": "LinearScaleModel",
      "state": {
       "stabilized": false
      }
     },
     "7832c8b132084b06b228a08ffe3a77f6": {
      "model_module": "@jupyter-widgets/base",
      "model_module_version": "1.2.0",
      "model_name": "LayoutModel",
      "state": {
       "width": "700px"
      }
     },
     "783c92a500d04d27bdc04b963b34eced": {
      "model_module": "@jupyter-widgets/controls",
      "model_module_version": "1.5.0",
      "model_name": "IntSliderModel",
      "state": {
       "description": "Outer width",
       "layout": "IPY_MODEL_baa13eeea4a34a7a9bcb356b03ca42e9",
       "max": 20,
       "style": "IPY_MODEL_8dba9d0b1ea34ec09e15475e21b68d74",
       "value": 5
      }
     },
     "793c241e463e475293d7cbae7b0a56d3": {
      "model_module": "@jupyter-widgets/controls",
      "model_module_version": "1.5.0",
      "model_name": "ToggleButtonsModel",
      "state": {
       "_options_labels": [
        "Modifying well",
        "plot",
        "reset"
       ],
       "button_style": "",
       "description": "ctrl",
       "icons": [],
       "index": 0,
       "layout": "IPY_MODEL_6a341fd742ab4ffe91dabb7ad20af0bf",
       "style": "IPY_MODEL_9dabb72b66194b2ca5405da0a59b9b07",
       "tooltips": []
      }
     },
     "79f70948e1a346cb8848d5e1f4334193": {
      "buffers": [
       {
        "data": "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",
        "encoding": "base64",
        "path": [
         "x",
         "value"
        ]
       },
       {
        "data": "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",
        "encoding": "base64",
        "path": [
         "y",
         "value"
        ]
       }
      ],
      "model_module": "bqplot",
      "model_module_version": "^0.5.16",
      "model_name": "LinesModel",
      "state": {
       "colors": [
        "Orange"
       ],
       "fill_colors": [],
       "labels": [
        "C1"
       ],
       "scales": {
        "x": "IPY_MODEL_d0c5c3334445488da47dd8c54c780abd",
        "y": "IPY_MODEL_77389d936796448ba51dfdc163b507f0"
       },
       "x": {
        "dtype": "float64",
        "shape": [
         200
        ],
        "type": null
       },
       "y": {
        "dtype": "float64",
        "shape": [
         200
        ],
        "type": null
       }
      }
     },
     "7a4bcbcd8b9241e3a210d760926d9d56": {
      "model_module": "@jupyter-widgets/controls",
      "model_module_version": "1.5.0",
      "model_name": "ToggleButtonsStyleModel",
      "state": {
       "button_width": "",
       "description_width": ""
      }
     },
     "7c4693d73aee4198a7151b718532b010": {
      "model_module": "@jupyter-widgets/base",
      "model_module_version": "1.2.0",
      "model_name": "LayoutModel",
      "state": {
       "width": "700px"
      }
     },
     "7f77141d5337439ca8459257bb848c74": {
      "model_module": "@jupyter-widgets/controls",
      "model_module_version": "1.5.0",
      "model_name": "IntSliderModel",
      "state": {
       "description": "Outer width",
       "layout": "IPY_MODEL_2d8d05ac469b4919998c375895650d6c",
       "max": 20,
       "style": "IPY_MODEL_7fa7b5b42fc74972ac5e163fee4a403c",
       "value": 2
      }
     },
     "7fa7b5b42fc74972ac5e163fee4a403c": {
      "model_module": "@jupyter-widgets/controls",
      "model_module_version": "1.5.0",
      "model_name": "SliderStyleModel",
      "state": {
       "description_width": ""
      }
     },
     "8048411d7cb640a89190ce268cf49e88": {
      "buffers": [
       {
        "data": "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",
        "encoding": "base64",
        "path": [
         "x",
         "value"
        ]
       },
       {
        "data": "AAAAAAAAAAAAAAAAAAAAAAAAAAAAAAAAAAAAAAAAAAAAAAAAAAAAAAAAAAAAAAAAAAAAAAAAAAAAAAAAAAAAAAAAAAAAAAAAAAAAAAAAAAAAAAAAAAAAAAAAAAAAAAAAAAAAAAAAAAAAAAAAAAAAAAAAAAAAAAAAAAAAAAAAAAAAAAAAAAAAAAAAAAAAAAAAAAAAAAAAAAAAAAAAAAAAAAAAAAAAAAAAAAAAAAAAAAAAAAAAAAAAAAAAAAAAAAAAAAAAAAAAAAAAAAAAAAAAAAAAAAAAAAAA/P////z////8/////P////z////8////6////+v////r////6////+v////r////6////+v////r////6////+v////r////6////+v////r////6////+v////r////6////+v////r////6////+v////r////6////+v////r////6////+v////r////6////+v////r////6////+v////r////6////+v////r////6////+v////r////6////+v////r////6////+v////r////6////+v////r////6////+v////r////6////+v////r////6////+v////r////6////+v////r////6////+v////r////6////+v////r////6////+v////r////6////+v////r////6////+v////r////6////+v////8/////P////z////8/////P////z///8AAAAAAAAAAAAAAAAAAAAAAAAAAAAAAAAAAAAAAAAAAAAAAAAAAAAAAAAAAAAAAAAAAAAAAAAAAAAAAAAAAAAAAAAAAAAAAAAAAAAAAAAAAAAAAAAAAAAAAAAAAAAAAAAAAAAAAAAAAAAAAAAAAAAAAAAAAAAAAAAAAAAAAAAAAAAAAAAAAAAAAAAAAAAAAAAAAAAAAAAAAAAAAAAAAAAAAAAAAAAAAAAAAAAAAAAAAAAAAAAAAAAAAAAAAAAAAAAAAAAAAAAAAAAAAAAAAAAAAAAAAAAAAAA=",
        "encoding": "base64",
        "path": [
         "y",
         "value"
        ]
       }
      ],
      "model_module": "bqplot",
      "model_module_version": "^0.5.16",
      "model_name": "LinesModel",
      "state": {
       "fill_colors": [],
       "labels": [
        "C1"
       ],
       "scales": {
        "x": "IPY_MODEL_f5ce64a7cbd3455384aa70ba586786f6",
        "y": "IPY_MODEL_07e3fe4ae0a74f6bada0c133cef4e594"
       },
       "x": {
        "dtype": "float64",
        "shape": [
         200
        ],
        "type": null
       },
       "y": {
        "dtype": "int32",
        "shape": [
         200
        ],
        "type": null
       }
      }
     },
     "81734b42dd2c45f19b8847f366cd0151": {
      "model_module": "@jupyter-widgets/base",
      "model_module_version": "1.2.0",
      "model_name": "LayoutModel",
      "state": {}
     },
     "82f4444871e748f3ab4ca9dcafd359d3": {
      "model_module": "@jupyter-widgets/base",
      "model_module_version": "1.2.0",
      "model_name": "LayoutModel",
      "state": {
       "width": "700px"
      }
     },
     "839fb11e8fca476da36d8b884a7a8872": {
      "model_module": "@jupyter-widgets/controls",
      "model_module_version": "1.5.0",
      "model_name": "IntSliderModel",
      "state": {
       "description": "V1",
       "layout": "IPY_MODEL_f31dd2b966a644c69e4fe35d1ff9c00b",
       "max": 40,
       "style": "IPY_MODEL_b377f97a251044e8b43b0c375b757447",
       "value": 5
      }
     },
     "83ad0d7aba4e42199096d17d45e9dd01": {
      "buffers": [
       {
        "data": "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",
        "encoding": "base64",
        "path": [
         "x",
         "value"
        ]
       },
       {
        "data": "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",
        "encoding": "base64",
        "path": [
         "y",
         "value"
        ]
       }
      ],
      "model_module": "bqplot",
      "model_module_version": "^0.5.16",
      "model_name": "LinesModel",
      "state": {
       "colors": [
        "Orange"
       ],
       "fill_colors": [],
       "labels": [
        "C1"
       ],
       "scales": {
        "x": "IPY_MODEL_d0c5c3334445488da47dd8c54c780abd",
        "y": "IPY_MODEL_77389d936796448ba51dfdc163b507f0"
       },
       "x": {
        "dtype": "float64",
        "shape": [
         200
        ],
        "type": null
       },
       "y": {
        "dtype": "float64",
        "shape": [
         200
        ],
        "type": null
       }
      }
     },
     "84857afd613e412eade6b3c7e22b88a3": {
      "buffers": [
       {
        "data": "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",
        "encoding": "base64",
        "path": [
         "x",
         "value"
        ]
       },
       {
        "data": "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",
        "encoding": "base64",
        "path": [
         "y",
         "value"
        ]
       }
      ],
      "model_module": "bqplot",
      "model_module_version": "^0.5.16",
      "model_name": "LinesModel",
      "state": {
       "colors": [
        "Orange"
       ],
       "fill_colors": [],
       "labels": [
        "C1"
       ],
       "scales": {
        "x": "IPY_MODEL_d0c5c3334445488da47dd8c54c780abd",
        "y": "IPY_MODEL_77389d936796448ba51dfdc163b507f0"
       },
       "x": {
        "dtype": "float64",
        "shape": [
         200
        ],
        "type": null
       },
       "y": {
        "dtype": "float64",
        "shape": [
         200
        ],
        "type": null
       }
      }
     },
     "84ca308a9ab84bbe8982384a82bc692d": {
      "model_module": "@jupyter-widgets/controls",
      "model_module_version": "1.5.0",
      "model_name": "SliderStyleModel",
      "state": {
       "description_width": ""
      }
     },
     "874dea4a21274b8c8bcc522dad553b60": {
      "buffers": [
       {
        "data": "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",
        "encoding": "base64",
        "path": [
         "x",
         "value"
        ]
       },
       {
        "data": "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",
        "encoding": "base64",
        "path": [
         "y",
         "value"
        ]
       }
      ],
      "model_module": "bqplot",
      "model_module_version": "^0.5.16",
      "model_name": "LinesModel",
      "state": {
       "colors": [
        "Orange"
       ],
       "fill_colors": [],
       "labels": [
        "C1"
       ],
       "scales": {
        "x": "IPY_MODEL_d0c5c3334445488da47dd8c54c780abd",
        "y": "IPY_MODEL_77389d936796448ba51dfdc163b507f0"
       },
       "x": {
        "dtype": "float64",
        "shape": [
         200
        ],
        "type": null
       },
       "y": {
        "dtype": "float64",
        "shape": [
         200
        ],
        "type": null
       }
      }
     },
     "87fb9b6f91a24f9f913f527d6fedbb6b": {
      "model_module": "@jupyter-widgets/controls",
      "model_module_version": "1.5.0",
      "model_name": "SliderStyleModel",
      "state": {
       "description_width": ""
      }
     },
     "893d9b21950a44c991600668e66f88d3": {
      "model_module": "@jupyter-widgets/controls",
      "model_module_version": "1.5.0",
      "model_name": "IntSliderModel",
      "state": {
       "description": "Number of Vectors",
       "layout": "IPY_MODEL_1502fcff4f084a1f9949bf3f48175252",
       "max": 47,
       "style": "IPY_MODEL_f4f69ac3840149a6aa3ef9943d2e9487",
       "value": 6
      }
     },
     "89734e0dcd974d4daf7f32d18e2cbfce": {
      "model_module": "@jupyter-widgets/controls",
      "model_module_version": "1.5.0",
      "model_name": "IntSliderModel",
      "state": {
       "description": "V2",
       "layout": "IPY_MODEL_7832c8b132084b06b228a08ffe3a77f6",
       "style": "IPY_MODEL_207162f30a784e80a117bba1f777a595",
       "value": 12
      }
     },
     "8ac6c60a0c10472c89085b5e145a7608": {
      "buffers": [
       {
        "data": "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",
        "encoding": "base64",
        "path": [
         "x",
         "value"
        ]
       },
       {
        "data": "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",
        "encoding": "base64",
        "path": [
         "y",
         "value"
        ]
       }
      ],
      "model_module": "bqplot",
      "model_module_version": "^0.5.16",
      "model_name": "LinesModel",
      "state": {
       "colors": [
        "Orange"
       ],
       "fill_colors": [],
       "labels": [
        "C1"
       ],
       "scales": {
        "x": "IPY_MODEL_f5ce64a7cbd3455384aa70ba586786f6",
        "y": "IPY_MODEL_07e3fe4ae0a74f6bada0c133cef4e594"
       },
       "x": {
        "dtype": "float64",
        "shape": [
         200
        ],
        "type": null
       },
       "y": {
        "dtype": "float64",
        "shape": [
         200
        ],
        "type": null
       }
      }
     },
     "8af83bb749974895a33dcc950e4ba855": {
      "buffers": [
       {
        "data": "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",
        "encoding": "base64",
        "path": [
         "x",
         "value"
        ]
       },
       {
        "data": "AAAAAAAAAAAAAAAAAAAAAAAAAAAAAAAAAAAAAAAAAAAAAAAAAAAAAAAAAAAAAAAAAAAAAAAAAAAAAAAAAAAAAAAAAAAAAAAAAAAAAAAAAAAAAAAAAAAAAAAAAAAAAAAAAAAAAAAAAAAAAAAAAAAAAAAAAAAAAAAAAAAAAAAAAAAAAAAAAAAAAAAAAAAAAAAAAAAAAAAAAAAAAAAAAAAAAAAAAAAAAAAAAAAAAAAAAAAAAAAAAAAAAAAAAAAAAAAAAAAAAAAAAAAAAAAAAAAAAAAAAAAAAAAA/P////z////8/////P////z////8////6////+v////r////6////+v////r////6////+v////r////6////+v////r////6////+v////r////6////+v////r////6////+v////r////6////+v////r////6////+v////r////6////+v////r////6////+v////r////6////+v////r////6////+v////r////6////+v////r////6////+v////r////6////+v////r////6////+v////r////6////+v////r////6////+v////r////6////+v////r////6////+v////r////6////+v////r////6////+v////r////6////+v////r////6////+v////r////6////+v////r////6////+v////8/////P////z////8/////P////z///8AAAAAAAAAAAAAAAAAAAAAAAAAAAAAAAAAAAAAAAAAAAAAAAAAAAAAAAAAAAAAAAAAAAAAAAAAAAAAAAAAAAAAAAAAAAAAAAAAAAAAAAAAAAAAAAAAAAAAAAAAAAAAAAAAAAAAAAAAAAAAAAAAAAAAAAAAAAAAAAAAAAAAAAAAAAAAAAAAAAAAAAAAAAAAAAAAAAAAAAAAAAAAAAAAAAAAAAAAAAAAAAAAAAAAAAAAAAAAAAAAAAAAAAAAAAAAAAAAAAAAAAAAAAAAAAAAAAAAAAAAAAAAAAA=",
        "encoding": "base64",
        "path": [
         "y",
         "value"
        ]
       }
      ],
      "model_module": "bqplot",
      "model_module_version": "^0.5.16",
      "model_name": "LinesModel",
      "state": {
       "fill_colors": [],
       "labels": [
        "C1"
       ],
       "scales": {
        "x": "IPY_MODEL_471fc76b1c2141b0a4ccdb4c09f27bba",
        "y": "IPY_MODEL_a2a8768154f84f3e8305067798d4773d"
       },
       "x": {
        "dtype": "float64",
        "shape": [
         200
        ],
        "type": null
       },
       "y": {
        "dtype": "int32",
        "shape": [
         200
        ],
        "type": null
       }
      }
     },
     "8c317c105bf641e3b9c6614c376680c6": {
      "model_module": "@jupyter-widgets/controls",
      "model_module_version": "1.5.0",
      "model_name": "SliderStyleModel",
      "state": {
       "description_width": ""
      }
     },
     "8dba9d0b1ea34ec09e15475e21b68d74": {
      "model_module": "@jupyter-widgets/controls",
      "model_module_version": "1.5.0",
      "model_name": "SliderStyleModel",
      "state": {
       "description_width": ""
      }
     },
     "8f526fd2d436459c8ee5ba436fc34289": {
      "model_module": "@jupyter-widgets/controls",
      "model_module_version": "1.5.0",
      "model_name": "IntSliderModel",
      "state": {
       "description": "Outer width",
       "layout": "IPY_MODEL_7c4693d73aee4198a7151b718532b010",
       "max": 20,
       "style": "IPY_MODEL_c011b6e646ee4ad59ecd5d09c6a96511",
       "value": 5
      }
     },
     "918d5f37338a4287ade3fa6007aa7ad7": {
      "model_module": "@jupyter-widgets/controls",
      "model_module_version": "1.5.0",
      "model_name": "ToggleButtonsStyleModel",
      "state": {
       "button_width": "",
       "description_width": ""
      }
     },
     "923d1a7f8af842ceb6c0562336d1b73b": {
      "buffers": [
       {
        "data": "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",
        "encoding": "base64",
        "path": [
         "x",
         "value"
        ]
       },
       {
        "data": "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",
        "encoding": "base64",
        "path": [
         "y",
         "value"
        ]
       }
      ],
      "model_module": "bqplot",
      "model_module_version": "^0.5.16",
      "model_name": "LinesModel",
      "state": {
       "colors": [
        "Orange"
       ],
       "fill_colors": [],
       "labels": [
        "C1"
       ],
       "scales": {
        "x": "IPY_MODEL_d0c5c3334445488da47dd8c54c780abd",
        "y": "IPY_MODEL_77389d936796448ba51dfdc163b507f0"
       },
       "x": {
        "dtype": "float64",
        "shape": [
         200
        ],
        "type": null
       },
       "y": {
        "dtype": "float64",
        "shape": [
         200
        ],
        "type": null
       }
      }
     },
     "9374f2936fd44516ac828f860997ac3b": {
      "model_module": "@jupyter-widgets/base",
      "model_module_version": "1.2.0",
      "model_name": "LayoutModel",
      "state": {
       "width": "700px"
      }
     },
     "93df7c2a782a444fa678b3f39790db35": {
      "buffers": [
       {
        "data": "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",
        "encoding": "base64",
        "path": [
         "x",
         "value"
        ]
       },
       {
        "data": "uWz7cnnrMcC5bPtyeesxwLls+3J56zHAuWz7cnnrMcC5bPtyeesxwLls+3J56zHAuWz7cnnrMcC5bPtyeesxwLls+3J56zHAuWz7cnnrMcC5bPtyeesxwLls+3J56zHAuWz7cnnrMcC5bPtyeesxwLls+3J56zHAuWz7cnnrMcC5bPtyeesxwLls+3J56zHAuWz7cnnrMcC5bPtyeesxwLls+3J56zHAuWz7cnnrMcC5bPtyeesxwLls+3J56zHAuWz7cnnrMcC5bPtyeesxwLls+3J56zHAuWz7cnnrMcC5bPtyeesxwLls+3J56zHAuWz7cnnrMcC5bPtyeesxwLls+3J56zHAuWz7cnnrMcC5bPtyeesxwLps+3J56zHAvmz7cnnrMcDJbPtyeesxwPNs+3J56zHAh237cnnrMcCbb/tyeesxwAl3+3J56zHAnZH7cnnrMcCr8PtyeesxwKlE/XJ56zHAtAQCc3nrMcAmAhNzeesxwN/GT3N56zHA0iApdHnrMcAtiDJ3eesxwEQVD4J56zHA+1HoqHnrMcDIl9szeusxwO/f1yR86zHAFRlrFoPrMcCi4BFrmOsxwExRxPnb6zHAu+7XmbLsMcBcXNyoXO8xwGouET7U9zHArB2617wSMsASaZ5PkysywIjby0kIQTLAZkYpEPpRMsAEFCTag10ywOlJuN0JYzLAXuzmhkFiMsAq2KlmNVsywJ02SaRETjLA4dKY+B08MsB+IeB2tiUywLVs2Z88DDLAmkJObQjxMcAOgbwtidUxwOID+CQyuzHADkda92ajMcC57eLnaI8xwGX/i+ZFgDHAtAaZU8p2McABohs4dnMxwLcCOIV2djHAPK1WtaJ/McBXjkTvfo4xwLgeZo5CojHAfZDLt+K5McBkFURtINQxwCSSZ2CZ7zHAFC9totoKMsD0dX80dCQywPqbZ3AMOzLASRKBQ3JNMsDWQNBFrVoywFKL/NMKYjLAMEhIeydjMsBqTFA49F0ywKRHwUG3UjLAXPlRVAhCMsAgbwKyyCwywFCHrkAXFDLASwhdaEH5McAg0Zl9sd0xwBxSSKXbwjHATGr0MyqqMcAR4KSR6pQxwMqRNaQ7hDHABY2mrf54McBBka5qy3MxwCFO+hHodDHAnpgmoEV8McAsx3WigIkxwHs9j3XmmzHAgWN3sX6yMcBiqolDGMwxwFFHj4VZ5zHAEcSyeNICMsD3SCsuEB0ywLy6kFewNDLAG0uy9nNIMsA1LKAwUFcywLnWvmB8YDLAbjfbrXxjMsC60l2SKGAywAnaav+sVjLAtusT/olHMsBhkpzuizMywI7V/sDAGzLAYVg6uGkBMsDXlqh46uUxwL1sHUa2yjHA9LcWbzyxMcCSBl7t1JoxwNairUGuiDHASgFNf717McAW7Q9fsXQxwIyPPgjpczHAcMXSC295McAOk83V+IQxwOz9KpzqlTHAYnBYll+rMcDHuzwONsQxwAir5ace3zHAFn0aPZbnMcC36h5MQOoxwCaIMuwW6zHA0PjkelrrMcBdwIvPb+sxwIP5HsF26zHAqkEbsnjrMcB3hw49eesxwC7E52N56zHARVHEbnnrMcCguM1xeesxwJMSp3J56zHATNfjcnnrMcC+1PRyeesxwMmU+XJ56zHAx+j6cnnrMcDVR/tyeesxwGli+3J56zHA12n7cnnrMcDra/tyeesxwH9s+3J56zHAqWz7cnnrMcC0bPtyeesxwLhs+3J56zHAuWz7cnnrMcC5bPtyeesxwLls+3J56zHAuWz7cnnrMcC5bPtyeesxwLls+3J56zHAuWz7cnnrMcC5bPtyeesxwLls+3J56zHAuWz7cnnrMcC5bPtyeesxwLls+3J56zHAuWz7cnnrMcC5bPtyeesxwLls+3J56zHAuWz7cnnrMcC5bPtyeesxwLls+3J56zHAuWz7cnnrMcC5bPtyeesxwLls+3J56zHAuWz7cnnrMcC5bPtyeesxwLls+3J56zHAuWz7cnnrMcC5bPtyeesxwLls+3J56zHAuWz7cnnrMcC5bPtyeesxwLls+3J56zHAuWz7cnnrMcC5bPtyeesxwLls+3J56zHAuWz7cnnrMcC5bPtyeesxwA==",
        "encoding": "base64",
        "path": [
         "y",
         "value"
        ]
       }
      ],
      "model_module": "bqplot",
      "model_module_version": "^0.5.16",
      "model_name": "LinesModel",
      "state": {
       "colors": [
        "Orange"
       ],
       "fill_colors": [],
       "labels": [
        "C1"
       ],
       "scales": {
        "x": "IPY_MODEL_f5ce64a7cbd3455384aa70ba586786f6",
        "y": "IPY_MODEL_07e3fe4ae0a74f6bada0c133cef4e594"
       },
       "x": {
        "dtype": "float64",
        "shape": [
         200
        ],
        "type": null
       },
       "y": {
        "dtype": "float64",
        "shape": [
         200
        ],
        "type": null
       }
      }
     },
     "944fa4d371174f7e856073d5f8cec798": {
      "model_module": "@jupyter-widgets/base",
      "model_module_version": "1.2.0",
      "model_name": "LayoutModel",
      "state": {
       "width": "700px"
      }
     },
     "955364f7a3394ffda5603de7d728718b": {
      "model_module": "@jupyter-widgets/controls",
      "model_module_version": "1.5.0",
      "model_name": "ToggleButtonsModel",
      "state": {
       "_options_labels": [
        "Modifying well",
        "plot",
        "reset"
       ],
       "button_style": "",
       "description": "ctrl",
       "icons": [],
       "index": 2,
       "layout": "IPY_MODEL_a1216ce5ec2a4d889d6b3116027c35bc",
       "style": "IPY_MODEL_918d5f37338a4287ade3fa6007aa7ad7",
       "tooltips": []
      }
     },
     "95d79244fbdb4104b4424f412f36c886": {
      "model_module": "@jupyter-widgets/controls",
      "model_module_version": "1.5.0",
      "model_name": "IntSliderModel",
      "state": {
       "description": "inner width",
       "layout": "IPY_MODEL_a72fac7a1ad74037bd209e19d5a186bf",
       "max": 58,
       "style": "IPY_MODEL_4196b28f4c1d490ea7534c0b43bf0854",
       "value": 5
      }
     },
     "96890d5c5e88485883b5cdc2865c4157": {
      "model_module": "@jupyter-widgets/output",
      "model_module_version": "1.0.0",
      "model_name": "OutputModel",
      "state": {
       "layout": "IPY_MODEL_e39161a0a859403892dbc88e80a18e6e"
      }
     },
     "9696da78209648cc95ec5e35fb3685db": {
      "model_module": "@jupyter-widgets/controls",
      "model_module_version": "1.5.0",
      "model_name": "IntSliderModel",
      "state": {
       "description": "V2",
       "layout": "IPY_MODEL_041a48303954486685d9c2b76a9d1dde",
       "style": "IPY_MODEL_e693f2a46fdc400f9627942b22ec2949",
       "value": 12
      }
     },
     "9714f2d160c34d2383d1e29245975976": {
      "buffers": [
       {
        "data": "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",
        "encoding": "base64",
        "path": [
         "x",
         "value"
        ]
       },
       {
        "data": "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",
        "encoding": "base64",
        "path": [
         "y",
         "value"
        ]
       }
      ],
      "model_module": "bqplot",
      "model_module_version": "^0.5.16",
      "model_name": "LinesModel",
      "state": {
       "colors": [
        "Orange"
       ],
       "fill_colors": [],
       "labels": [
        "C1"
       ],
       "scales": {
        "x": "IPY_MODEL_d0c5c3334445488da47dd8c54c780abd",
        "y": "IPY_MODEL_77389d936796448ba51dfdc163b507f0"
       },
       "x": {
        "dtype": "float64",
        "shape": [
         200
        ],
        "type": null
       },
       "y": {
        "dtype": "float64",
        "shape": [
         200
        ],
        "type": null
       }
      }
     },
     "9949fde2bcac4b819a065c9e8c32a385": {
      "buffers": [
       {
        "data": "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",
        "encoding": "base64",
        "path": [
         "x",
         "value"
        ]
       },
       {
        "data": "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",
        "encoding": "base64",
        "path": [
         "y",
         "value"
        ]
       }
      ],
      "model_module": "bqplot",
      "model_module_version": "^0.5.16",
      "model_name": "LinesModel",
      "state": {
       "colors": [
        "Orange"
       ],
       "fill_colors": [],
       "labels": [
        "C1"
       ],
       "scales": {
        "x": "IPY_MODEL_f5ce64a7cbd3455384aa70ba586786f6",
        "y": "IPY_MODEL_07e3fe4ae0a74f6bada0c133cef4e594"
       },
       "x": {
        "dtype": "float64",
        "shape": [
         200
        ],
        "type": null
       },
       "y": {
        "dtype": "float64",
        "shape": [
         200
        ],
        "type": null
       }
      }
     },
     "9999bbe528ca4e6e93533913f4e6c4bd": {
      "model_module": "bqplot",
      "model_module_version": "^0.5.16",
      "model_name": "LinearScaleModel",
      "state": {
       "allow_padding": false,
       "max": 1,
       "min": 0,
       "stabilized": false
      }
     },
     "9dabb72b66194b2ca5405da0a59b9b07": {
      "model_module": "@jupyter-widgets/controls",
      "model_module_version": "1.5.0",
      "model_name": "ToggleButtonsStyleModel",
      "state": {
       "button_width": "",
       "description_width": ""
      }
     },
     "9dd7543fd27247bd8d4fef44cec1d178": {
      "model_module": "@jupyter-widgets/controls",
      "model_module_version": "1.5.0",
      "model_name": "ToggleButtonsStyleModel",
      "state": {
       "button_width": "",
       "description_width": ""
      }
     },
     "9de94a86958c4ac88af46e958d3fd46a": {
      "model_module": "@jupyter-widgets/base",
      "model_module_version": "1.2.0",
      "model_name": "LayoutModel",
      "state": {}
     },
     "a1009c6dfc8245678df5c59cd505d434": {
      "model_module": "@jupyter-widgets/controls",
      "model_module_version": "1.5.0",
      "model_name": "SliderStyleModel",
      "state": {
       "description_width": ""
      }
     },
     "a1216ce5ec2a4d889d6b3116027c35bc": {
      "model_module": "@jupyter-widgets/base",
      "model_module_version": "1.2.0",
      "model_name": "LayoutModel",
      "state": {}
     },
     "a2378f6e054b4e74a88c339c95b097bd": {
      "model_module": "@jupyter-widgets/base",
      "model_module_version": "1.2.0",
      "model_name": "LayoutModel",
      "state": {
       "width": "700px"
      }
     },
     "a2a8768154f84f3e8305067798d4773d": {
      "model_module": "bqplot",
      "model_module_version": "^0.5.16",
      "model_name": "LinearScaleModel",
      "state": {
       "stabilized": false
      }
     },
     "a2d01aaafd52466ca11c875ec6b6fb54": {
      "model_module": "@jupyter-widgets/controls",
      "model_module_version": "1.5.0",
      "model_name": "SliderStyleModel",
      "state": {
       "description_width": ""
      }
     },
     "a3f2ec3d85374356bf3a9cf855a97a91": {
      "model_module": "bqplot",
      "model_module_version": "^0.5.16",
      "model_name": "AxisModel",
      "state": {
       "orientation": "vertical",
       "scale": "IPY_MODEL_fe5e821101a7443daf02cc19eafda9b9",
       "side": "left",
       "tick_values": null
      }
     },
     "a535034f6d29458fb1a3e40bd386e6c4": {
      "model_module": "@jupyter-widgets/controls",
      "model_module_version": "1.5.0",
      "model_name": "IntSliderModel",
      "state": {
       "description": "V2",
       "layout": "IPY_MODEL_82f4444871e748f3ab4ca9dcafd359d3",
       "style": "IPY_MODEL_0ca51cd3657d4bcdab559fbd2e7672a1",
       "value": 12
      }
     },
     "a61da95521c844d29013478189d05b63": {
      "model_module": "@jupyter-widgets/base",
      "model_module_version": "1.2.0",
      "model_name": "LayoutModel",
      "state": {
       "width": "700px"
      }
     },
     "a72fac7a1ad74037bd209e19d5a186bf": {
      "model_module": "@jupyter-widgets/base",
      "model_module_version": "1.2.0",
      "model_name": "LayoutModel",
      "state": {
       "width": "700px"
      }
     },
     "a8c12b5d164c407ca5eace552ec80eee": {
      "model_module": "bqplot",
      "model_module_version": "^0.5.16",
      "model_name": "LinearScaleModel",
      "state": {
       "allow_padding": false,
       "max": 1,
       "min": 0,
       "stabilized": false
      }
     },
     "a8ee59baa7d94dddad4419af7f8ffbf4": {
      "model_module": "@jupyter-widgets/base",
      "model_module_version": "1.2.0",
      "model_name": "LayoutModel",
      "state": {
       "width": "700px"
      }
     },
     "a94de22a84bb42dd97c1cb8c3eb31669": {
      "model_module": "bqplot",
      "model_module_version": "^0.5.16",
      "model_name": "FigureModel",
      "state": {
       "animation_duration": 900,
       "axes": [
        "IPY_MODEL_ae804063e209426cbd335ff61eccde25",
        "IPY_MODEL_fe2013860487486aadb08806267ef712"
       ],
       "layout": "IPY_MODEL_d1edaf91f4944773978d5217bbab89c0",
       "marks": [
        "IPY_MODEL_e48cb56776e84dde993cd78c684d69c9"
       ],
       "scale_x": "IPY_MODEL_9999bbe528ca4e6e93533913f4e6c4bd",
       "scale_y": "IPY_MODEL_a8c12b5d164c407ca5eace552ec80eee",
       "title": "Figure Double well "
      }
     },
     "ac4653423b0f4f809ecbc7267b6aa326": {
      "model_module": "bqplot",
      "model_module_version": "^0.5.16",
      "model_name": "LinearScaleModel",
      "state": {
       "stabilized": false
      }
     },
     "ad09e176abb4486facf69abbba0a95f5": {
      "model_module": "bqplot",
      "model_module_version": "^0.5.16",
      "model_name": "LinearScaleModel",
      "state": {
       "stabilized": false
      }
     },
     "ad4d38de3482468aaf0715a076839b98": {
      "model_module": "@jupyter-widgets/base",
      "model_module_version": "1.2.0",
      "model_name": "LayoutModel",
      "state": {}
     },
     "ad67e484937b4ddfa8c29094c8496b38": {
      "model_module": "@jupyter-widgets/controls",
      "model_module_version": "1.5.0",
      "model_name": "VBoxModel",
      "state": {
       "_dom_classes": [
        "widget-interact"
       ],
       "children": [
        "IPY_MODEL_95d79244fbdb4104b4424f412f36c886",
        "IPY_MODEL_0503c721ee2b4058a93de99aefb0a300",
        "IPY_MODEL_52cece14d7bf48ba9d24837f62846817",
        "IPY_MODEL_89734e0dcd974d4daf7f32d18e2cbfce",
        "IPY_MODEL_f220ab3df5bb4a258816ca9a24929856",
        "IPY_MODEL_43f13a792ab14f1ba74517cb80c03f4d",
        "IPY_MODEL_cef490f5a8604cfc8dd09886fbce35a2"
       ],
       "layout": "IPY_MODEL_564281351f854606b62082b53ac13f41"
      }
     },
     "adaccae84a8b453cb6067ad6afb3940b": {
      "model_module": "bqplot",
      "model_module_version": "^0.5.16",
      "model_name": "LinearScaleModel",
      "state": {
       "stabilized": false
      }
     },
     "ae804063e209426cbd335ff61eccde25": {
      "model_module": "bqplot",
      "model_module_version": "^0.5.16",
      "model_name": "AxisModel",
      "state": {
       "scale": "IPY_MODEL_42489391370944c3ae0787681982e200",
       "side": "bottom",
       "tick_values": null
      }
     },
     "aeec32d37c9c40c183b98d064ccecb31": {
      "model_module": "@jupyter-widgets/controls",
      "model_module_version": "1.5.0",
      "model_name": "IntSliderModel",
      "state": {
       "description": "inner width",
       "layout": "IPY_MODEL_fa6a8fc6eba4443d8080462d4d1e7f57",
       "max": 58,
       "style": "IPY_MODEL_4d6c8fe325fe446c85fe641f7be147a5",
       "value": 43
      }
     },
     "af43fab4200248d4b0f3d6a5afe1a4f0": {
      "model_module": "@jupyter-widgets/controls",
      "model_module_version": "1.5.0",
      "model_name": "IntSliderModel",
      "state": {
       "description": "Number of Vectors",
       "layout": "IPY_MODEL_183ba8ff03a042f5bdfd29cd9dff8488",
       "max": 47,
       "style": "IPY_MODEL_35c4e012fea34c5eaf53045ad7d84002",
       "value": 6
      }
     },
     "b28c33b57abb4064aa892d0f1916d125": {
      "model_module": "@jupyter-widgets/controls",
      "model_module_version": "1.5.0",
      "model_name": "VBoxModel",
      "state": {
       "_dom_classes": [
        "widget-interact"
       ],
       "children": [
        "IPY_MODEL_4252f718efc44184b5eca27a90350189",
        "IPY_MODEL_b788bb24e59f4d9b9370e7533c7e58a5",
        "IPY_MODEL_31d7f16d71514f05a818b3d31d85c08d",
        "IPY_MODEL_9696da78209648cc95ec5e35fb3685db",
        "IPY_MODEL_fde0cb7d28b543138766c52cf1130a5c",
        "IPY_MODEL_40ca5c84c7d64cf58684acc72fd7b89b",
        "IPY_MODEL_96890d5c5e88485883b5cdc2865c4157"
       ],
       "layout": "IPY_MODEL_f1895c902eb04cac817fab0ce7bab7d8"
      }
     },
     "b377f97a251044e8b43b0c375b757447": {
      "model_module": "@jupyter-widgets/controls",
      "model_module_version": "1.5.0",
      "model_name": "SliderStyleModel",
      "state": {
       "description_width": ""
      }
     },
     "b4139dbe3dad47678ffc1deea06ea547": {
      "model_module": "@jupyter-widgets/base",
      "model_module_version": "1.2.0",
      "model_name": "LayoutModel",
      "state": {
       "height": "600px",
       "width": "840px"
      }
     },
     "b6b6c8b1b7f64ffeb84aee345cfb7b4a": {
      "model_module": "bqplot",
      "model_module_version": "^0.5.16",
      "model_name": "AxisModel",
      "state": {
       "scale": "IPY_MODEL_ad09e176abb4486facf69abbba0a95f5",
       "side": "bottom",
       "tick_values": null
      }
     },
     "b70260b9bfc74f5f98d7257dea3a44c7": {
      "model_module": "@jupyter-widgets/base",
      "model_module_version": "1.2.0",
      "model_name": "LayoutModel",
      "state": {
       "width": "700px"
      }
     },
     "b72303918e9f4953ae4562aaf2f7df0b": {
      "model_module": "@jupyter-widgets/base",
      "model_module_version": "1.2.0",
      "model_name": "LayoutModel",
      "state": {}
     },
     "b788bb24e59f4d9b9370e7533c7e58a5": {
      "model_module": "@jupyter-widgets/controls",
      "model_module_version": "1.5.0",
      "model_name": "IntSliderModel",
      "state": {
       "description": "Outer width",
       "layout": "IPY_MODEL_a61da95521c844d29013478189d05b63",
       "max": 20,
       "style": "IPY_MODEL_46abc8b691aa4defa5ff82691aa6e437",
       "value": 5
      }
     },
     "b7a04841512b4856b9bdf69e72c6917a": {
      "model_module": "@jupyter-widgets/base",
      "model_module_version": "1.2.0",
      "model_name": "LayoutModel",
      "state": {}
     },
     "b7e3ff3357a5484ca31ddec96b98d8d3": {
      "model_module": "@jupyter-widgets/controls",
      "model_module_version": "1.5.0",
      "model_name": "SliderStyleModel",
      "state": {
       "description_width": ""
      }
     },
     "baa13eeea4a34a7a9bcb356b03ca42e9": {
      "model_module": "@jupyter-widgets/base",
      "model_module_version": "1.2.0",
      "model_name": "LayoutModel",
      "state": {
       "width": "700px"
      }
     },
     "baa684293e1442c6a215d1943145988f": {
      "model_module": "@jupyter-widgets/base",
      "model_module_version": "1.2.0",
      "model_name": "LayoutModel",
      "state": {
       "width": "700px"
      }
     },
     "bc00c696894947c98e691997eb037959": {
      "buffers": [
       {
        "data": "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",
        "encoding": "base64",
        "path": [
         "x",
         "value"
        ]
       },
       {
        "data": "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",
        "encoding": "base64",
        "path": [
         "y",
         "value"
        ]
       }
      ],
      "model_module": "bqplot",
      "model_module_version": "^0.5.16",
      "model_name": "LinesModel",
      "state": {
       "colors": [
        "Orange"
       ],
       "fill_colors": [],
       "labels": [
        "C1"
       ],
       "scales": {
        "x": "IPY_MODEL_d0c5c3334445488da47dd8c54c780abd",
        "y": "IPY_MODEL_77389d936796448ba51dfdc163b507f0"
       },
       "x": {
        "dtype": "float64",
        "shape": [
         200
        ],
        "type": null
       },
       "y": {
        "dtype": "float64",
        "shape": [
         200
        ],
        "type": null
       }
      }
     },
     "bca294891db44b18ae9950a4b6db1bf0": {
      "model_module": "@jupyter-widgets/controls",
      "model_module_version": "1.5.0",
      "model_name": "IntSliderModel",
      "state": {
       "description": "Outer width",
       "layout": "IPY_MODEL_ea13502748a24dff9111771211c4854c",
       "max": 20,
       "style": "IPY_MODEL_05081f0be6fa45aaae6e60e552bebe68",
       "value": 5
      }
     },
     "be5ee7020f814edea341b509d99bf5ef": {
      "buffers": [
       {
        "data": "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",
        "encoding": "base64",
        "path": [
         "x",
         "value"
        ]
       },
       {
        "data": "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",
        "encoding": "base64",
        "path": [
         "y",
         "value"
        ]
       }
      ],
      "model_module": "bqplot",
      "model_module_version": "^0.5.16",
      "model_name": "LinesModel",
      "state": {
       "colors": [
        "Orange"
       ],
       "fill_colors": [],
       "labels": [
        "C1"
       ],
       "scales": {
        "x": "IPY_MODEL_d0c5c3334445488da47dd8c54c780abd",
        "y": "IPY_MODEL_77389d936796448ba51dfdc163b507f0"
       },
       "x": {
        "dtype": "float64",
        "shape": [
         200
        ],
        "type": null
       },
       "y": {
        "dtype": "float64",
        "shape": [
         200
        ],
        "type": null
       }
      }
     },
     "bf470f1b1b824d4480b09eefc681b30c": {
      "model_module": "@jupyter-widgets/controls",
      "model_module_version": "1.5.0",
      "model_name": "SliderStyleModel",
      "state": {
       "description_width": ""
      }
     },
     "c011b6e646ee4ad59ecd5d09c6a96511": {
      "model_module": "@jupyter-widgets/controls",
      "model_module_version": "1.5.0",
      "model_name": "SliderStyleModel",
      "state": {
       "description_width": ""
      }
     },
     "c10a70de82bd487c9ec9faf00b2bcf83": {
      "model_module": "@jupyter-widgets/base",
      "model_module_version": "1.2.0",
      "model_name": "LayoutModel",
      "state": {}
     },
     "c1459dddf12348d4876c6c67b55d7c4a": {
      "buffers": [
       {
        "data": "AAAAAAAAPsByIepm0LI9wOVC1M2gZT3AWGS+NHEYPcDKhaibQcs8wDynkgISfjzAr8h8aeIwPMAi6mbQsuM7wJQLUTeDljvABi07nlNJO8B5TiUFJPw6wOxvD2z0rjrAXpH50sRhOsDQsuM5lRQ6wEPUzaBlxznAtvW3BzZ6OcAoF6JuBi05wJo4jNXW3zjADVp2PKeSOMCAe2Cjd0U4wPKcSgpI+DfAZL40cRirN8DX3x7Y6F03wEoBCT+5EDfAvCLzpYnDNsAuRN0MWnY2wKFlx3MqKTbAFIex2vrbNcCGqJtBy441wPjJhaibQTXAa+tvD2z0NMDeDFp2PKc0wFAuRN0MWjTAwk8uRN0MNMA1cRirrb8zwKiSAhJ+cjPAGrTseE4lM8CM1dbfHtgywP/2wEbvijLAchirrb89MsDkOZUUkPAxwFZbf3tgozHAyXxp4jBWMcA8nlNJAQkxwK6/PbDRuzDAIOEnF6JuMMCTAhJ+ciEwwAtI+MmFqC/A8IrMlyYOL8DVzaBlx3MuwLoQdTNo2S3An1NJAQk/LcCElh3PqaQswGnZ8ZxKCizAThzGautvK8A0X5o4jNUqwBiibgYtOyrA/ORC1M2gKcDiJxeibgYpwMhq628PbCjArK2/PbDRJ8CQ8JMLUTcnwHYzaNnxnCbAXHY8p5ICJsBAuRB1M2glwCT85ELUzSTACj+5EHUzJMDwgY3eFZkjwNTEYay2/iLAuAc2eldkIsCeSgpI+MkhwISN3hWZLyHAaNCy4zmVIMCYJg5jtfUfwGSstv72wB7AMDJfmjiMHcD4twc2elccwMA9sNG7IhvAjMNYbf3tGcBYSQEJP7kYwCDPqaSAhBfA6FRSQMJPFsC02vrbAxsVwIBgo3dF5hPASOZLE4exEsAQbPSuyHwRwNzxnEoKSBDAUO+KzJcmDsDg+tsDG70LwHAGLTueUwnACBJ+ciHqBsCgHc+ppIAEwDApIOEnFwLAgGniMFZb/7+wgISfXIj6v+CXJg5jtfW/AK/IfGni8L9AjNXW3x7ov0B1M2jZ8dy/AKR3ReZLw78Ao3dF5kvDPwB1M2jZ8dw/IIzV1t8e6D/grsh8aeLwP8CXJg5jtfU/oICEn1yI+j9waeIwVlv/PyApIOEnFwJAkB3PqaSABEAAEn5yIeoGQGAGLTueUwlA0PrbAxu9C0BA74rMlyYOQNjxnEoKSBBAEGz0rsh8EUBA5ksTh7ESQHhgo3dF5hNAsNr62wMbFUDgVFJAwk8WQBjPqaSAhBdAUEkBCT+5GECIw1ht/e0ZQMA9sNG7IhtA8LcHNnpXHEAoMl+aOIwdQGCstv72wB5AkCYOY7X1H0Bk0LLjOZUgQICN3hWZLyFAnEoKSPjJIUC4BzZ6V2QiQNDEYay2/iJA7IGN3hWZI0AIP7kQdTMkQCD85ELUzSRAPLkQdTNoJUBYdjynkgImQHQzaNnxnCZAkPCTC1E3J0Corb89sNEnQMRq628PbChA4CcXom4GKUD45ELUzaApQBSibgYtOypAMF+aOIzVKkBMHMZq628rQGjZ8ZxKCixAgJYdz6mkLECcU0kBCT8tQLgQdTNo2S1A0M2gZcdzLkDsisyXJg4vQAhI+MmFqC9AkgISfnIhMEAg4ScXom4wQKy/PbDRuzBAOp5TSQEJMUDIfGniMFYxQFRbf3tgozFA4jmVFJDwMUBwGKutvz0yQP72wEbvijJAjNXW3x7YMkAYtOx4TiUzQKaSAhJ+cjNANHEYq62/M0DATy5E3Qw0QE4uRN0MWjRA3AxadjynNEBq628PbPQ0QPjJhaibQTVAhKibQcuONUASh7Ha+ts1QKBlx3MqKTZALETdDFp2NkC6IvOlicM2QEgBCT+5EDdA1t8e2OhdN0BkvjRxGKs3QPCcSgpI+DdAfntgo3dFOEAMWnY8p5I4QJg4jNXW3zhAJheibgYtOUC09bcHNno5QELUzaBlxzlA0LLjOZUUOkBckfnSxGE6QOpvD2z0rjpAeE4lBST8OkAELTueU0k7QJILUTeDljtAIOpm0LLjO0CuyHxp4jA8QDynkgISfjxAyIWom0HLPEBWZL40cRg9QORC1M2gZT1AcCHqZtCyPUAAAAAAAAA+QA==",
        "encoding": "base64",
        "path": [
         "x",
         "value"
        ]
       },
       {
        "data": "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",
        "encoding": "base64",
        "path": [
         "y",
         "value"
        ]
       }
      ],
      "model_module": "bqplot",
      "model_module_version": "^0.5.16",
      "model_name": "LinesModel",
      "state": {
       "colors": [
        "Orange"
       ],
       "fill_colors": [],
       "labels": [
        "C1"
       ],
       "scales": {
        "x": "IPY_MODEL_d0c5c3334445488da47dd8c54c780abd",
        "y": "IPY_MODEL_77389d936796448ba51dfdc163b507f0"
       },
       "x": {
        "dtype": "float64",
        "shape": [
         200
        ],
        "type": null
       },
       "y": {
        "dtype": "float64",
        "shape": [
         200
        ],
        "type": null
       }
      }
     },
     "c18c1a59319148f195d75f423344a3cc": {
      "model_module": "@jupyter-widgets/base",
      "model_module_version": "1.2.0",
      "model_name": "LayoutModel",
      "state": {
       "width": "700px"
      }
     },
     "c1e7a3a4933d40c98edfacde8c5a5903": {
      "model_module": "@jupyter-widgets/controls",
      "model_module_version": "1.5.0",
      "model_name": "SliderStyleModel",
      "state": {
       "description_width": ""
      }
     },
     "c255abfeecad427c87cab918f7f9e9ca": {
      "model_module": "bqplot",
      "model_module_version": "^0.5.16",
      "model_name": "LinearScaleModel",
      "state": {
       "stabilized": false
      }
     },
     "c26d20625e78402ca433a8fe870cf084": {
      "model_module": "@jupyter-widgets/controls",
      "model_module_version": "1.5.0",
      "model_name": "ToggleButtonsStyleModel",
      "state": {
       "button_width": "",
       "description_width": ""
      }
     },
     "c4303d63942d49f995e0e3382ac5085f": {
      "model_module": "@jupyter-widgets/controls",
      "model_module_version": "1.5.0",
      "model_name": "SliderStyleModel",
      "state": {
       "description_width": ""
      }
     },
     "c4e9a2f186724190a6c687ef7da0a322": {
      "model_module": "@jupyter-widgets/controls",
      "model_module_version": "1.5.0",
      "model_name": "IntSliderModel",
      "state": {
       "description": "V2",
       "layout": "IPY_MODEL_2de6eddc014a499e9dd87c1f864437a1",
       "style": "IPY_MODEL_d95c532ba8024b8b99edc03e86b31ab7",
       "value": 12
      }
     },
     "c594b680a756416199eeb3c6c7d89028": {
      "model_module": "@jupyter-widgets/controls",
      "model_module_version": "1.5.0",
      "model_name": "IntSliderModel",
      "state": {
       "description": "Outer width",
       "layout": "IPY_MODEL_b70260b9bfc74f5f98d7257dea3a44c7",
       "max": 20,
       "style": "IPY_MODEL_a1009c6dfc8245678df5c59cd505d434",
       "value": 5
      }
     },
     "c68eae981b84493fa7507dec3e716b46": {
      "buffers": [
       {
        "data": "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",
        "encoding": "base64",
        "path": [
         "x",
         "value"
        ]
       },
       {
        "data": "AAAAAAAAAAAAAAAAAAAAAAAAAAAAAAAAAAAAAAAAAAAAAAAAAAAAAAAAAAAAAAAAAAAAAAAAAAAAAAAAAAAAAAAAAAAAAAAAAAAAAAAAAAAAAAAAAAAAAAAAAAAAAAAAAAAAAAAAAAAAAAAAAAAAAAAAAAAAAAAAAAAAAAAAAAAAAAAAAAAAAAAAAAAAAAAAAAAAAAAAAAAAAAAAAAAAAAAAAAAAAAAAAAAAAAAAAAAAAAAAAAAAAAAAAAAAAAAAAAAAAAAAAAAAAAAAAAAAAAAAAAAAAAAAAAAAAAAAAAAAAAAAAAAAAAAAAAAAAAAAAAAAAAAAAAAAAAAAAAAAAAAAAAAAAAAAAAAAAAAAAAAAAAAAAAAAAAAAAAAAAAAAAAAAAAAAAAAAAAAAAAAAAAAAAAAAAAAAAAAAAAAAAAAAAAAAAAAAAAAAAAAAAAAAAAAAAAAAAAAAAAAAAAAAAAAAAAAAAAAAAAAAAAAAAAAAAAAAAAAAAAAAAAAAAAAAAAAAAAAAAAAAAAAAAAAAAAAAAAAAAAAAAAAAAAAAAAAAAAAAAAAAAAAAAAAAAAAAAAAAAAAAAAAAAAAAAAAAAAAAAAAAAAAAAAAAAAAAAAAAAAAAAAAAAAAAAAAAAAAAAAAAAAAAAAAAAAAAAAAAAAAAAAAAAAAAAAAAAAAAAAAAAAAAAAAAAAAAAAAAAAAAAAAAAAAAAAAAAAAAAAAAAAAAAAAAAAAAAAAAAAAAAAAAAAAAAAAAAAAAAAAAAAAAAAAAAAAAAAAAAAAAAAAAAAAAAAAAAAAAAAAAAAAAAAAAAAAAAAAAAAAAAAAAAAAAAAAAAAAAAAAAAAAAAAAAAAAAAAAAAAAAAAAAAAAAAAAAAAAAAAAAAAAAAAAAAAAAAAAAAAAAAAAAAAAAAAAAAAAAAAAAAAAAAAAAAAAAAAAAAAAAAAAAAAAAAAAAAAAAAAAAAAAAAAAAAAAAAAAAAAAAAAAAAAAAAAAAAAAAAAD0////9P////T////0////9P////T////0////9P////T////0////9P////T////0////9P////T////0////9P////T////0////9P////T////0////9P////T////0////9P////T////0////9P////T////0////9P////T////0////9P////T////0////9P////T////0////9P////v////7////+/////v////7////+/////v////7////+/////v////7////+/////v////7////+/////v////7////+/////v////7////+/////v////7////+/////v////7////+/////v////7////+/////v////7////+/////v////7////+/////v////7////+/////v////7////+/////T////0////9P////T////0////9P////T////0////9P////T////0////9P////T////0////9P////T////0////9P////T////0////9P////T////0////9P////T////0////9P////T////0////9P////T////0////9P////T////0////9P////T////0////9P////T////0////AAAAAAAAAAAAAAAAAAAAAAAAAAAAAAAAAAAAAAAAAAAAAAAAAAAAAAAAAAAAAAAAAAAAAAAAAAAAAAAAAAAAAAAAAAAAAAAAAAAAAAAAAAAAAAAAAAAAAAAAAAAAAAAAAAAAAAAAAAAAAAAAAAAAAAAAAAAAAAAAAAAAAAAAAAAAAAAAAAAAAAAAAAAAAAAAAAAAAAAAAAAAAAAAAAAAAAAAAAAAAAAAAAAAAAAAAAAAAAAAAAAAAAAAAAAAAAAAAAAAAAAAAAAAAAAAAAAAAAAAAAAAAAAAAAAAAAAAAAAAAAAAAAAAAAAAAAAAAAAAAAAAAAAAAAAAAAAAAAAAAAAAAAAAAAAAAAAAAAAAAAAAAAAAAAAAAAAAAAAAAAAAAAAAAAAAAAAAAAAAAAAAAAAAAAAAAAAAAAAAAAAAAAAAAAAAAAAAAAAAAAAAAAAAAAAAAAAAAAAAAAAAAAAAAAAAAAAAAAAAAAAAAAAAAAAAAAAAAAAAAAAAAAAAAAAAAAAAAAAAAAAAAAAAAAAAAAAAAAAAAAAAAAAAAAAAAAAAAAAAAAAAAAAAAAAAAAAAAAAAAAAAAAAAAAAAAAAAAAAAAAAAAAAAAAAAAAAAAAAAAAAAAAAAAAAAAAAAAAAAAAAAAAAAAAAAAAAAAAAAAAAAAAAAAAAAAAAAAAAAAAAAAAAAAAAAAAAAAAAAAAAAAAAAAAAAAAAAAAAAAAAAAAAAAAAAAAAAAAAAAAAAAAAAAAAAAAAAAAAAAAAAAAAAAAAAAAAAAAAAAAAAAAAAAAAAAAAAAAAAAAAAAAAAAAAAAAAAAAAAAAAAAAAAAAAAAAAAAAAAAAAAAAAAAAAAAAAAAAAAAAAAAAAAAAAAAAAAAAAAAAAAAAAAAAAAAAAAAAAAAAAAAAAAAAAAAAAAAAAAAAAAAAAAAAAAAAAAAAAAAAAAAAAAAAAAAAAAAAAAAAAAAAAAAAAAAAAAAAAAAAAAAAAAAAAAAAAAAAAAAAA=",
        "encoding": "base64",
        "path": [
         "y",
         "value"
        ]
       }
      ],
      "model_module": "bqplot",
      "model_module_version": "^0.5.16",
      "model_name": "LinesModel",
      "state": {
       "fill_colors": [],
       "labels": [
        "C1"
       ],
       "scales": {
        "x": "IPY_MODEL_c255abfeecad427c87cab918f7f9e9ca",
        "y": "IPY_MODEL_4591d15b09f544c9be542dc4910a288d"
       },
       "x": {
        "dtype": "float64",
        "shape": [
         500
        ],
        "type": null
       },
       "y": {
        "dtype": "int32",
        "shape": [
         500
        ],
        "type": null
       }
      }
     },
     "c8d9099b9ca74e998409f7b30446416b": {
      "model_module": "bqplot",
      "model_module_version": "^0.5.16",
      "model_name": "LinearScaleModel",
      "state": {
       "stabilized": false
      }
     },
     "c95fc098b1924ebc95d938fe21472dcf": {
      "model_module": "bqplot",
      "model_module_version": "^0.5.16",
      "model_name": "AxisModel",
      "state": {
       "orientation": "vertical",
       "scale": "IPY_MODEL_5485e4152e954d7897e486baae7e240c",
       "side": "left",
       "tick_values": null
      }
     },
     "ca1dbc8188ad4744b965b4065289be09": {
      "model_module": "@jupyter-widgets/controls",
      "model_module_version": "1.5.0",
      "model_name": "IntSliderModel",
      "state": {
       "description": "V2",
       "layout": "IPY_MODEL_baa684293e1442c6a215d1943145988f",
       "style": "IPY_MODEL_5bd140bbecca4b998c19f8024ddce5e8",
       "value": 12
      }
     },
     "cdd3ee28c3f747d88c0670efdfa5e9ab": {
      "buffers": [
       {
        "data": "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",
        "encoding": "base64",
        "path": [
         "x",
         "value"
        ]
       },
       {
        "data": "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",
        "encoding": "base64",
        "path": [
         "y",
         "value"
        ]
       }
      ],
      "model_module": "bqplot",
      "model_module_version": "^0.5.16",
      "model_name": "LinesModel",
      "state": {
       "colors": [
        "Orange"
       ],
       "fill_colors": [],
       "labels": [
        "C1"
       ],
       "scales": {
        "x": "IPY_MODEL_d0c5c3334445488da47dd8c54c780abd",
        "y": "IPY_MODEL_77389d936796448ba51dfdc163b507f0"
       },
       "x": {
        "dtype": "float64",
        "shape": [
         200
        ],
        "type": null
       },
       "y": {
        "dtype": "float64",
        "shape": [
         200
        ],
        "type": null
       }
      }
     },
     "ce59eb2f593b43e0933794940b797904": {
      "model_module": "@jupyter-widgets/controls",
      "model_module_version": "1.5.0",
      "model_name": "SliderStyleModel",
      "state": {
       "description_width": ""
      }
     },
     "cef490f5a8604cfc8dd09886fbce35a2": {
      "model_module": "@jupyter-widgets/output",
      "model_module_version": "1.0.0",
      "model_name": "OutputModel",
      "state": {
       "layout": "IPY_MODEL_f17f7ab3cdb84a04bb35eba1a38fd52c"
      }
     },
     "cf04c02d9970452c84db4f0c0f6aa7cf": {
      "model_module": "bqplot",
      "model_module_version": "^0.5.16",
      "model_name": "AxisModel",
      "state": {
       "orientation": "vertical",
       "scale": "IPY_MODEL_a2a8768154f84f3e8305067798d4773d",
       "side": "left",
       "tick_values": null
      }
     },
     "d02ff4a6b05b4239af98387bf4c9e6b9": {
      "model_module": "@jupyter-widgets/controls",
      "model_module_version": "1.5.0",
      "model_name": "SliderStyleModel",
      "state": {
       "description_width": ""
      }
     },
     "d03f930fb4f74304a3c3053fa3b35512": {
      "model_module": "@jupyter-widgets/controls",
      "model_module_version": "1.5.0",
      "model_name": "IntSliderModel",
      "state": {
       "description": "V2",
       "layout": "IPY_MODEL_41b63bb5c26440cdab8d24abaf267b38",
       "style": "IPY_MODEL_b7e3ff3357a5484ca31ddec96b98d8d3",
       "value": 4
      }
     },
     "d055f6a850c0421ebe760d8d6280af84": {
      "model_module": "@jupyter-widgets/base",
      "model_module_version": "1.2.0",
      "model_name": "LayoutModel",
      "state": {
       "width": "700px"
      }
     },
     "d0c5c3334445488da47dd8c54c780abd": {
      "model_module": "bqplot",
      "model_module_version": "^0.5.16",
      "model_name": "LinearScaleModel",
      "state": {
       "stabilized": false
      }
     },
     "d109fd7d8ac144379a493de48619bb62": {
      "model_module": "@jupyter-widgets/base",
      "model_module_version": "1.2.0",
      "model_name": "LayoutModel",
      "state": {}
     },
     "d1cce21ffff245c28abc618b4a63e74f": {
      "model_module": "@jupyter-widgets/controls",
      "model_module_version": "1.5.0",
      "model_name": "ToggleButtonsStyleModel",
      "state": {
       "button_width": "",
       "description_width": ""
      }
     },
     "d1edaf91f4944773978d5217bbab89c0": {
      "model_module": "@jupyter-widgets/base",
      "model_module_version": "1.2.0",
      "model_name": "LayoutModel",
      "state": {
       "height": "600px",
       "width": "840px"
      }
     },
     "d2149f09188b482cbe8f7f6272927603": {
      "model_module": "bqplot",
      "model_module_version": "^0.5.16",
      "model_name": "LinearScaleModel",
      "state": {
       "stabilized": false
      }
     },
     "d2a8b39f575d43b2ad2bd43e6e83d49f": {
      "model_module": "@jupyter-widgets/base",
      "model_module_version": "1.2.0",
      "model_name": "LayoutModel",
      "state": {
       "width": "700px"
      }
     },
     "d36acd0b882b4c279f583db7738dab3f": {
      "model_module": "@jupyter-widgets/controls",
      "model_module_version": "1.5.0",
      "model_name": "VBoxModel",
      "state": {
       "children": [
        "IPY_MODEL_d556a1d2a7cd40bba7dd8a126ddd5d4f",
        "IPY_MODEL_d5b454d87051403aac0662625e8c995e"
       ],
       "layout": "IPY_MODEL_81734b42dd2c45f19b8847f366cd0151"
      }
     },
     "d3a9e4fa6715421e89623edc44e48709": {
      "model_module": "bqplot",
      "model_module_version": "^0.5.16",
      "model_name": "LinearScaleModel",
      "state": {
       "allow_padding": false,
       "max": 1,
       "min": 0,
       "stabilized": false
      }
     },
     "d556a1d2a7cd40bba7dd8a126ddd5d4f": {
      "model_module": "bqplot",
      "model_module_version": "^0.5.16",
      "model_name": "FigureModel",
      "state": {
       "animation_duration": 900,
       "axes": [
        "IPY_MODEL_b6b6c8b1b7f64ffeb84aee345cfb7b4a",
        "IPY_MODEL_e6f36ee5fccc4fbd8654290345f0c47f"
       ],
       "layout": "IPY_MODEL_b4139dbe3dad47678ffc1deea06ea547",
       "marks": [
        "IPY_MODEL_f019e36790c245caa3e0ac9ffca2c1bb"
       ],
       "scale_x": "IPY_MODEL_3b101167d4374c51bd9e1059a22a2b82",
       "scale_y": "IPY_MODEL_d3a9e4fa6715421e89623edc44e48709",
       "title": "Figure Double well "
      }
     },
     "d5b454d87051403aac0662625e8c995e": {
      "model_module": "bqplot",
      "model_module_version": "^0.5.16",
      "model_name": "ToolbarModel",
      "state": {
       "figure": "IPY_MODEL_d556a1d2a7cd40bba7dd8a126ddd5d4f",
       "layout": "IPY_MODEL_e3ccb1fb2306444580d7fe68c8fe62e3"
      }
     },
     "d71682da148d415f81f3d7ee1117fe26": {
      "buffers": [
       {
        "data": "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",
        "encoding": "base64",
        "path": [
         "x",
         "value"
        ]
       },
       {
        "data": "AAAAAAAAAAAAAAAAAAAAAAAAAAAAAAAAAAAAAAAAAAAAAAAAAAAAAAAAAAAAAAAAAAAAAAAAAAAAAAAAAAAAAAAAAAAAAAAAAAAAAAAAAAAAAAAAAAAAAAAAAAAAAAAAAAAAAAAAAAAAAAAAAAAAAAAAAAAAAAAA9P////T////0////9P////T////0////9P////T////0////9P////T////0////9P////T////0////9P////T////0////9P////T////0////9P////T////0////9P////T////0////9P////T////0////9P////T////0////9P////T////0////9P////T////0////9P////T////7////+/////v////7////+/////v////7////+/////v////7////+/////v////7////+/////v////7////+/////v////7////+/////v////7////+/////v////7////+/////v////7////+/////v////7////+/////v////7////+/////v////7////+/////v////7////+/////v////7////+/////v////7////+/////v////7////+/////v////7////+/////v////7////+/////v////7////+/////v////7////+/////v////7////+/////v////7////+/////v////7////+/////v////7////+/////v////7////+/////v////7////+/////v////7////+/////v////7////+/////v////7////+/////v////7////+/////v////7////+/////v////7////+/////v////7////+/////v////7////+/////v////7////+/////v////7////+/////v////7////+/////v////7////+/////v////7////+/////v////7////+/////v////7////+/////v////7////+/////v////7////+/////v////7////+/////v////7////+/////v////7////+/////v////7////+/////v////7////+/////v////7////+/////v////7////+/////v////7////+/////v////7////+/////v////7////+/////v////7////+/////v////7////+/////v////7////+/////v////7////+/////v////7////+/////v////7////+/////v////7////+/////v////7////+/////v////7////+/////v////7////+/////v////7////+/////v////7////+/////v////7////+/////v////7////+/////v////7////+/////v////7////+/////v////7////+/////v////7////+/////v////7////+/////v////7////+/////v////7////+/////v////7////+/////v////7////+/////v////7////+/////v////7////+/////v////7////+/////v////7////+/////v////7////+/////v////7////+/////v////7////+/////v////7////+/////v////7////+/////v////7////+/////v////7////+/////v////7////+/////v////7////+/////v////7////+/////v////7////+/////v////7////+/////v////7////+/////v////7////+/////v////7////+/////v////7////+/////v////7////+/////v////7////+/////v////7////+/////v////7////+/////v////7////+/////v////7////+/////v////7////+/////v////7////+/////v////7////+/////v////7////+/////v////7////+/////v////7////+/////v////7////+/////v////7////+/////v////7////+/////v////7////+/////v////7////+/////v////7////+/////v////7////+/////v////7////+/////v////7////+/////v////7////+/////v////7////9P////T////0////9P////T////0////9P////T////0////9P////T////0////9P////T////0////9P////T////0////9P////T////0////9P////T////0////9P////T////0////9P////T////0////9P////T////0////9P////T////0////9P////T////0////9P////T///8AAAAAAAAAAAAAAAAAAAAAAAAAAAAAAAAAAAAAAAAAAAAAAAAAAAAAAAAAAAAAAAAAAAAAAAAAAAAAAAAAAAAAAAAAAAAAAAAAAAAAAAAAAAAAAAAAAAAAAAAAAAAAAAAAAAAAAAAAAAAAAAAAAAAAAAAAAAAAAAA=",
        "encoding": "base64",
        "path": [
         "y",
         "value"
        ]
       }
      ],
      "model_module": "bqplot",
      "model_module_version": "^0.5.16",
      "model_name": "LinesModel",
      "state": {
       "fill_colors": [],
       "labels": [
        "C1"
       ],
       "scales": {
        "x": "IPY_MODEL_dea90c2dc9044716a8ff11cf43d1b0bb",
        "y": "IPY_MODEL_1f0bf070232e42449aa75ac4ec3070a4"
       },
       "x": {
        "dtype": "float64",
        "shape": [
         500
        ],
        "type": null
       },
       "y": {
        "dtype": "int32",
        "shape": [
         500
        ],
        "type": null
       }
      }
     },
     "d896122ea76148d7a5aa3788d941d08e": {
      "model_module": "@jupyter-widgets/base",
      "model_module_version": "1.2.0",
      "model_name": "LayoutModel",
      "state": {
       "height": "600px",
       "width": "840px"
      }
     },
     "d95c532ba8024b8b99edc03e86b31ab7": {
      "model_module": "@jupyter-widgets/controls",
      "model_module_version": "1.5.0",
      "model_name": "SliderStyleModel",
      "state": {
       "description_width": ""
      }
     },
     "da2de14556394018ab985fcc18ebb88b": {
      "buffers": [
       {
        "data": "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",
        "encoding": "base64",
        "path": [
         "x",
         "value"
        ]
       },
       {
        "data": "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",
        "encoding": "base64",
        "path": [
         "y",
         "value"
        ]
       }
      ],
      "model_module": "bqplot",
      "model_module_version": "^0.5.16",
      "model_name": "LinesModel",
      "state": {
       "colors": [
        "Orange"
       ],
       "fill_colors": [],
       "labels": [
        "C1"
       ],
       "scales": {
        "x": "IPY_MODEL_d0c5c3334445488da47dd8c54c780abd",
        "y": "IPY_MODEL_77389d936796448ba51dfdc163b507f0"
       },
       "x": {
        "dtype": "float64",
        "shape": [
         200
        ],
        "type": null
       },
       "y": {
        "dtype": "float64",
        "shape": [
         200
        ],
        "type": null
       }
      }
     },
     "dbb80ee40c6e439f8b94ff7af8dc5b2b": {
      "model_module": "bqplot",
      "model_module_version": "^0.5.16",
      "model_name": "LinearScaleModel",
      "state": {
       "stabilized": false
      }
     },
     "dbbb7b96f0294f9699ae46c297bdc8df": {
      "model_module": "@jupyter-widgets/controls",
      "model_module_version": "1.5.0",
      "model_name": "SliderStyleModel",
      "state": {
       "description_width": ""
      }
     },
     "dea90c2dc9044716a8ff11cf43d1b0bb": {
      "model_module": "bqplot",
      "model_module_version": "^0.5.16",
      "model_name": "LinearScaleModel",
      "state": {
       "stabilized": false
      }
     },
     "df3b1dfe196046a0a44d3ec5533af39e": {
      "buffers": [
       {
        "data": "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",
        "encoding": "base64",
        "path": [
         "x",
         "value"
        ]
       },
       {
        "data": "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",
        "encoding": "base64",
        "path": [
         "y",
         "value"
        ]
       }
      ],
      "model_module": "bqplot",
      "model_module_version": "^0.5.16",
      "model_name": "LinesModel",
      "state": {
       "colors": [
        "Orange"
       ],
       "fill_colors": [],
       "labels": [
        "C1"
       ],
       "scales": {
        "x": "IPY_MODEL_d0c5c3334445488da47dd8c54c780abd",
        "y": "IPY_MODEL_77389d936796448ba51dfdc163b507f0"
       },
       "x": {
        "dtype": "float64",
        "shape": [
         200
        ],
        "type": null
       },
       "y": {
        "dtype": "float64",
        "shape": [
         200
        ],
        "type": null
       }
      }
     },
     "df72073749db458cae28da3a43ba08f4": {
      "model_module": "@jupyter-widgets/controls",
      "model_module_version": "1.5.0",
      "model_name": "SliderStyleModel",
      "state": {
       "description_width": ""
      }
     },
     "dfc878f1bf1940dabc1222211242d44d": {
      "buffers": [
       {
        "data": "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",
        "encoding": "base64",
        "path": [
         "x",
         "value"
        ]
       },
       {
        "data": "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",
        "encoding": "base64",
        "path": [
         "y",
         "value"
        ]
       }
      ],
      "model_module": "bqplot",
      "model_module_version": "^0.5.16",
      "model_name": "LinesModel",
      "state": {
       "colors": [
        "Orange"
       ],
       "fill_colors": [],
       "labels": [
        "C1"
       ],
       "scales": {
        "x": "IPY_MODEL_d0c5c3334445488da47dd8c54c780abd",
        "y": "IPY_MODEL_77389d936796448ba51dfdc163b507f0"
       },
       "x": {
        "dtype": "float64",
        "shape": [
         200
        ],
        "type": null
       },
       "y": {
        "dtype": "float64",
        "shape": [
         200
        ],
        "type": null
       }
      }
     },
     "e35cb05a589140b4983a155a3b0da80b": {
      "buffers": [
       {
        "data": "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",
        "encoding": "base64",
        "path": [
         "x",
         "value"
        ]
       },
       {
        "data": "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",
        "encoding": "base64",
        "path": [
         "y",
         "value"
        ]
       }
      ],
      "model_module": "bqplot",
      "model_module_version": "^0.5.16",
      "model_name": "LinesModel",
      "state": {
       "colors": [
        "Orange"
       ],
       "fill_colors": [],
       "labels": [
        "C1"
       ],
       "scales": {
        "x": "IPY_MODEL_d0c5c3334445488da47dd8c54c780abd",
        "y": "IPY_MODEL_77389d936796448ba51dfdc163b507f0"
       },
       "x": {
        "dtype": "float64",
        "shape": [
         200
        ],
        "type": null
       },
       "y": {
        "dtype": "float64",
        "shape": [
         200
        ],
        "type": null
       }
      }
     },
     "e39161a0a859403892dbc88e80a18e6e": {
      "model_module": "@jupyter-widgets/base",
      "model_module_version": "1.2.0",
      "model_name": "LayoutModel",
      "state": {}
     },
     "e3ccb1fb2306444580d7fe68c8fe62e3": {
      "model_module": "@jupyter-widgets/base",
      "model_module_version": "1.2.0",
      "model_name": "LayoutModel",
      "state": {}
     },
     "e48cb56776e84dde993cd78c684d69c9": {
      "buffers": [
       {
        "data": "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",
        "encoding": "base64",
        "path": [
         "x",
         "value"
        ]
       },
       {
        "data": "AAAAAAAAAAAAAAAAAAAAAAAAAAAAAAAAAAAAAAAAAAAAAAAAAAAAAAAAAAAAAAAAAAAAAAAAAAAAAAAAAAAAAAAAAAAAAAAAAAAAAAAAAAAAAAAAAAAAAAAAAAAAAAAAAAAAAAAAAAAAAAAAAAAAAAAAAAAAAAAAAAAAAAAAAAAAAAAAAAAAAAAAAAAAAAAAAAAAAAAAAAAAAAAAAAAAAAAAAAAAAAAAAAAAAAAAAAAAAAAAAAAAAAAAAAAAAAAAAAAAAAAAAAAAAAAAAAAAAAAAAAAAAAAA/P////z////8/////P////z////8////6////+v////r////6////+v////r////6////+v////r////6////+v////r////6////+v////r////6////+v////r////6////+v////r////6////+v////r////6////+v////r////6////+v////r////6////+v////r////6////+v////r////6////+v////r////6////+v////r////6////+v////r////6////+v////r////6////+v////r////6////+v////r////6////+v////r////6////+v////r////6////+v////r////6////+v////r////6////+v////r////6////+v////r////6////+v////r////6////+v////r////6////+v////8/////P////z////8/////P////z///8AAAAAAAAAAAAAAAAAAAAAAAAAAAAAAAAAAAAAAAAAAAAAAAAAAAAAAAAAAAAAAAAAAAAAAAAAAAAAAAAAAAAAAAAAAAAAAAAAAAAAAAAAAAAAAAAAAAAAAAAAAAAAAAAAAAAAAAAAAAAAAAAAAAAAAAAAAAAAAAAAAAAAAAAAAAAAAAAAAAAAAAAAAAAAAAAAAAAAAAAAAAAAAAAAAAAAAAAAAAAAAAAAAAAAAAAAAAAAAAAAAAAAAAAAAAAAAAAAAAAAAAAAAAAAAAAAAAAAAAAAAAAAAAA=",
        "encoding": "base64",
        "path": [
         "y",
         "value"
        ]
       }
      ],
      "model_module": "bqplot",
      "model_module_version": "^0.5.16",
      "model_name": "LinesModel",
      "state": {
       "fill_colors": [],
       "labels": [
        "C1"
       ],
       "scales": {
        "x": "IPY_MODEL_42489391370944c3ae0787681982e200",
        "y": "IPY_MODEL_dbb80ee40c6e439f8b94ff7af8dc5b2b"
       },
       "x": {
        "dtype": "float64",
        "shape": [
         200
        ],
        "type": null
       },
       "y": {
        "dtype": "int32",
        "shape": [
         200
        ],
        "type": null
       }
      }
     },
     "e693f2a46fdc400f9627942b22ec2949": {
      "model_module": "@jupyter-widgets/controls",
      "model_module_version": "1.5.0",
      "model_name": "SliderStyleModel",
      "state": {
       "description_width": ""
      }
     },
     "e6f36ee5fccc4fbd8654290345f0c47f": {
      "model_module": "bqplot",
      "model_module_version": "^0.5.16",
      "model_name": "AxisModel",
      "state": {
       "orientation": "vertical",
       "scale": "IPY_MODEL_ac4653423b0f4f809ecbc7267b6aa326",
       "side": "left",
       "tick_values": null
      }
     },
     "e86882b8a2054625b715e7504296403f": {
      "model_module": "@jupyter-widgets/output",
      "model_module_version": "1.0.0",
      "model_name": "OutputModel",
      "state": {
       "layout": "IPY_MODEL_32f7c977f120498f9df70975f65af983"
      }
     },
     "e8a55d83e8ba4054b16f3556205e74aa": {
      "model_module": "@jupyter-widgets/controls",
      "model_module_version": "1.5.0",
      "model_name": "IntSliderModel",
      "state": {
       "description": "Number of Vectors",
       "layout": "IPY_MODEL_5d93988a6673430e9285d767edaf5382",
       "max": 47,
       "style": "IPY_MODEL_8c317c105bf641e3b9c6614c376680c6",
       "value": 6
      }
     },
     "e993b22e9daf4e489d6c3b0ce06d4af4": {
      "buffers": [
       {
        "data": "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",
        "encoding": "base64",
        "path": [
         "x",
         "value"
        ]
       },
       {
        "data": "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",
        "encoding": "base64",
        "path": [
         "y",
         "value"
        ]
       }
      ],
      "model_module": "bqplot",
      "model_module_version": "^0.5.16",
      "model_name": "LinesModel",
      "state": {
       "colors": [
        "Orange"
       ],
       "fill_colors": [],
       "labels": [
        "C1"
       ],
       "scales": {
        "x": "IPY_MODEL_d0c5c3334445488da47dd8c54c780abd",
        "y": "IPY_MODEL_77389d936796448ba51dfdc163b507f0"
       },
       "x": {
        "dtype": "float64",
        "shape": [
         200
        ],
        "type": null
       },
       "y": {
        "dtype": "float64",
        "shape": [
         200
        ],
        "type": null
       }
      }
     },
     "ea13502748a24dff9111771211c4854c": {
      "model_module": "@jupyter-widgets/base",
      "model_module_version": "1.2.0",
      "model_name": "LayoutModel",
      "state": {
       "width": "700px"
      }
     },
     "eab76298bad14cfaa73e9e95f48f6998": {
      "buffers": [
       {
        "data": "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",
        "encoding": "base64",
        "path": [
         "x",
         "value"
        ]
       },
       {
        "data": "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",
        "encoding": "base64",
        "path": [
         "y",
         "value"
        ]
       }
      ],
      "model_module": "bqplot",
      "model_module_version": "^0.5.16",
      "model_name": "LinesModel",
      "state": {
       "colors": [
        "Orange"
       ],
       "fill_colors": [],
       "labels": [
        "C1"
       ],
       "scales": {
        "x": "IPY_MODEL_d0c5c3334445488da47dd8c54c780abd",
        "y": "IPY_MODEL_77389d936796448ba51dfdc163b507f0"
       },
       "x": {
        "dtype": "float64",
        "shape": [
         200
        ],
        "type": null
       },
       "y": {
        "dtype": "float64",
        "shape": [
         200
        ],
        "type": null
       }
      }
     },
     "eb8e5989179f46878584adc2b86f94a8": {
      "model_module": "@jupyter-widgets/controls",
      "model_module_version": "1.5.0",
      "model_name": "ToggleButtonsModel",
      "state": {
       "_options_labels": [
        "Modifying well",
        "plot",
        "reset"
       ],
       "button_style": "",
       "description": "ctrl",
       "icons": [],
       "index": 0,
       "layout": "IPY_MODEL_0a922d99ac254c5ba6a6f150ad948849",
       "style": "IPY_MODEL_d1cce21ffff245c28abc618b4a63e74f",
       "tooltips": []
      }
     },
     "ec495a5048ca4ed18b9fb7497a7c3b81": {
      "buffers": [
       {
        "data": "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",
        "encoding": "base64",
        "path": [
         "x",
         "value"
        ]
       },
       {
        "data": "ZgMcfG5vNMBmAxx8bm80wGYDHHxubzTAZgMcfG5vNMBmAxx8bm80wGYDHHxubzTAZgMcfG5vNMBmAxx8bm80wGYDHHxubzTAZgMcfG5vNMBmAxx8bm80wGYDHHxubzTAZgMcfG5vNMBmAxx8bm80wGYDHHxubzTAZgMcfG5vNMBmAxx8bm80wGYDHHxubzTAZgMcfG5vNMBmAxx8bm80wGYDHHxubzTAZgMcfG5vNMBmAxx8bm80wGYDHHxubzTAZgMcfG5vNMBmAxx8bm80wGYDHHxubzTAZgMcfG5vNMBmAxx8bm80wGYDHHxubzTAZgMcfG5vNMBmAxx8bm80wGYDHHxubzTAZgMcfG5vNMBmAxx8bm80wGYDHHxubzTAZwMcfG5vNMBqAxx8bm80wHQDHHxubzTAmQMcfG5vNMAgBBx8bm80wAoGHHxubzTA+gwcfG5vNMAmJhx8bm80wHOBHHxubzTApswdfG5vNMASfiJ8bm80wDaEM3xubzTATkVxfG5vNMCSSFF9bm80wPvifYBubzTA6pcBjG5vNMDlW8a1bm80wN03Sk1vbzTAN6TocnFvNMCJM7koeG80wMJZXcONbzTAwHVuhdNvNMCaPv3TtHA0wD7qBY2MczTAbhXHCrt8NMDpWqaA1YU0wJPXijjOjjTAjgYur5eXNMCADXaoJKA0wDPVZENoqDTAZOh9DVawNMA64YUV4rc0wJ0of/0AvzTA0O/IC6jFNMDAmkY7zcs0wFxGd0pn0TTAya9myW3WNMACfWIm2do0wOXCYLmi3jTAzJwGzsThNMD7uz+sOuQ0wPP9WZ8A5jTAAVWa+xPnNMDbmkIic+c0wDQ+AoQd5zTAaR7OoRPmNMAWUB4MV+Q0wDjvkmDq4TTASIsDRtHeNMB3HP9mENs0wMXKxGqt1jTA6xzA7K7RNMBNYpVyHMw0wBhVzWD+xTTA/AQx7l2/NMCtFOkVRbg0wEQxdYi+sDTAD2iSm9WoNMDcmig5lqA0wHrJWM0MmDTAhjfHM0aPNMDRnD2kT4Y0wMOLwp42fTTAKgpE1wh0NMCy/PMg1Go0wBh7dVmmYTTACmr6U41YNMBUz3DElk80wGA93yrQRjTA/WsPv0Y+NMDJnqVcBzY0wJTVwm8eLjTAKfJO4pcmNMDZAQcKfx80wLuxapfeGDTAhaSihcASNMDm6XcLLg00wAo8c40vCDTAV+o4kcwDNMCGezSyCwA0wJUXpZfy/DPAtbYZ7IX6M8Bi6GlWyfgzwJbINXS/9zPA8Gv11Wn3M8DJsZ38yPczwNYI3ljc+DPAzkr4S6L6M8D9aTEqGP0zwORD1z46ADTAxonV0QMENMAAV9Eubwg0wG3AwK11DTTACWzxvA8TNMD5Fm/sNBk0wCzeuPrbHzTAkCWy4vomNMBmHrrqhi40wJYx07R0NjTASvnBT7g+NMA8AApJRUc0wDgvrb8OUDTA4quRdwdZNMBd8XDtIWI0wI4cMmtQazTAMsg6JChuNMAMkclyCW80wAqt2jRPbzTAQ9N+z2RvNMCVYk+Fa280wO/O7aptbzTA56pxQm5vNMDibjZsbm80wNEjundubzTAOr7mem5vNMB+wcZ7bm80wJaCBHxubzTAuogVfG5vNMAmOhp8bm80wFmFG3xubzTApuAbfG5vNMDS+Rt8bm80wMIAHHxubzTArAIcfG5vNMAzAxx8bm80wFgDHHxubzTAYgMcfG5vNMBlAxx8bm80wGYDHHxubzTAZgMcfG5vNMBmAxx8bm80wGYDHHxubzTAZgMcfG5vNMBmAxx8bm80wGYDHHxubzTAZgMcfG5vNMBmAxx8bm80wGYDHHxubzTAZgMcfG5vNMBmAxx8bm80wGYDHHxubzTAZgMcfG5vNMBmAxx8bm80wGYDHHxubzTAZgMcfG5vNMBmAxx8bm80wGYDHHxubzTAZgMcfG5vNMBmAxx8bm80wGYDHHxubzTAZgMcfG5vNMBmAxx8bm80wGYDHHxubzTAZgMcfG5vNMBmAxx8bm80wGYDHHxubzTAZgMcfG5vNMBmAxx8bm80wGYDHHxubzTAZgMcfG5vNMBmAxx8bm80wGYDHHxubzTAZgMcfG5vNMBmAxx8bm80wA==",
        "encoding": "base64",
        "path": [
         "y",
         "value"
        ]
       }
      ],
      "model_module": "bqplot",
      "model_module_version": "^0.5.16",
      "model_name": "LinesModel",
      "state": {
       "colors": [
        "Orange"
       ],
       "fill_colors": [],
       "labels": [
        "C1"
       ],
       "scales": {
        "x": "IPY_MODEL_f5ce64a7cbd3455384aa70ba586786f6",
        "y": "IPY_MODEL_07e3fe4ae0a74f6bada0c133cef4e594"
       },
       "x": {
        "dtype": "float64",
        "shape": [
         200
        ],
        "type": null
       },
       "y": {
        "dtype": "float64",
        "shape": [
         200
        ],
        "type": null
       }
      }
     },
     "eda2a683d6864b55b905c21516118ee2": {
      "buffers": [
       {
        "data": "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",
        "encoding": "base64",
        "path": [
         "x",
         "value"
        ]
       },
       {
        "data": "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",
        "encoding": "base64",
        "path": [
         "y",
         "value"
        ]
       }
      ],
      "model_module": "bqplot",
      "model_module_version": "^0.5.16",
      "model_name": "LinesModel",
      "state": {
       "colors": [
        "Orange"
       ],
       "fill_colors": [],
       "labels": [
        "C1"
       ],
       "scales": {
        "x": "IPY_MODEL_d0c5c3334445488da47dd8c54c780abd",
        "y": "IPY_MODEL_77389d936796448ba51dfdc163b507f0"
       },
       "x": {
        "dtype": "float64",
        "shape": [
         200
        ],
        "type": null
       },
       "y": {
        "dtype": "float64",
        "shape": [
         200
        ],
        "type": null
       }
      }
     },
     "eeec34c0fca344e2b8a6b1ef5d44e389": {
      "model_module": "@jupyter-widgets/controls",
      "model_module_version": "1.5.0",
      "model_name": "SliderStyleModel",
      "state": {
       "description_width": ""
      }
     },
     "eef391ad6ca340ee9c650df7fbf0521b": {
      "model_module": "bqplot",
      "model_module_version": "^0.5.16",
      "model_name": "LinearScaleModel",
      "state": {
       "stabilized": false
      }
     },
     "ef52bc070a474a9197c620adeee90545": {
      "model_module": "@jupyter-widgets/base",
      "model_module_version": "1.2.0",
      "model_name": "LayoutModel",
      "state": {
       "width": "700px"
      }
     },
     "f019e36790c245caa3e0ac9ffca2c1bb": {
      "buffers": [
       {
        "data": "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",
        "encoding": "base64",
        "path": [
         "x",
         "value"
        ]
       },
       {
        "data": "AAAAAAAAAAAAAAAAAAAAAAAAAAAAAAAAAAAAAAAAAAAAAAAAAAAAAAAAAAAAAAAAAAAAAAAAAAAAAAAAAAAAAAAAAAAAAAAAAAAAAAAAAAAAAAAAAAAAAAAAAAAAAAAAAAAAAAAAAAAAAAAAAAAAAAAAAAAAAAAAAAAAAAAAAAAAAAAAAAAAAAAAAAAAAAAAAAAAAAAAAAAAAAAAAAAAAAAAAAAAAAAAAAAAAAAAAAAAAAAAAAAAAAAAAAAAAAAAAAAAAAAAAAAAAAAAAAAAAAAAAAAAAAAAAAAAAAAAAAAAAAAAAAAAAAAAAAAAAAAAAAAAAAAAAAAAAAAAAAAAAAAAAAAAAAAAAAAAAAAAAAAAAAAAAAAAAAAAAAAAAAAAAAAAAAAAAAAAAAAAAAAAAAAAAAAAAAAAAAAAAAAAAAAAAAAAAAAAAAAAAAAAAAAAAAAAAAAAAAAAAAAAAAAAAAAAAAAAAAAAAAAAAAAAAAAAAAAAAAAAAAAAAAAAAAAAAAAAAAAAAAAAAAAAAAAAAAAAAAAAAAAAAAAAAAAAAAAAAAAAAAAAAAAAAAAAAAAAAAAAAAAAAAAAAAAAAAAAAAAAAAAAAAAAAAAAAAAAAAAAAAAAAAAAAAAAAAAAAAAAAAAAAAAAAAAAAAAAAAAAAAAAAAAAAAAAAAAAAAAAAAAAAAAAAAAAAAAAAAAAAAAAAAAAAAAAAAAAAAAAAAAAAAAAAAAAAAAAAAAAAAAAAAAAAAAAAAAAAAAAAAAAAAAAAAAAAAAAAAAAAAAAAAAAAAAAAAAAAAAAAAAAAAAAAAAAAAAAAAAAAAAAAAAAAAAAAAAAAAAAAAAAAAAAAAAAAAAAAAAAAAAAAAAAAAAAAAAAAAAAAAAAAAAAAAAAAAAAAAAAAAAAAAAAAAAAAAAAAAAAAAAAAAAAAAAAAAAAAAAAAAAAAAAAAAAAAAAAAAAAAAAAAAAAAAAAAAAAAAAAAAAAAAAAAAAAAAAAAAAAAAD0////9P////T////0////9P////T////0////9P////T////0////9P////T////0////9P////T////0////9P////T////0////9P////T////0////9P////T////0////9P////T////0////9P////T////0////9P////T////0////9P////T////0////9P////T////0////9P////v////7////+/////v////7////+/////v////7////+/////v////7////+/////v////7////+/////v////7////+/////v////7////+/////v////7////+/////v////7////+/////v////7////+/////v////7////+/////v////7////+/////v////7////+/////v////7////+/////T////0////9P////T////0////9P////T////0////9P////T////0////9P////T////0////9P////T////0////9P////T////0////9P////T////0////9P////T////0////9P////T////0////9P////T////0////9P////T////0////9P////T////0////9P////T////0////AAAAAAAAAAAAAAAAAAAAAAAAAAAAAAAAAAAAAAAAAAAAAAAAAAAAAAAAAAAAAAAAAAAAAAAAAAAAAAAAAAAAAAAAAAAAAAAAAAAAAAAAAAAAAAAAAAAAAAAAAAAAAAAAAAAAAAAAAAAAAAAAAAAAAAAAAAAAAAAAAAAAAAAAAAAAAAAAAAAAAAAAAAAAAAAAAAAAAAAAAAAAAAAAAAAAAAAAAAAAAAAAAAAAAAAAAAAAAAAAAAAAAAAAAAAAAAAAAAAAAAAAAAAAAAAAAAAAAAAAAAAAAAAAAAAAAAAAAAAAAAAAAAAAAAAAAAAAAAAAAAAAAAAAAAAAAAAAAAAAAAAAAAAAAAAAAAAAAAAAAAAAAAAAAAAAAAAAAAAAAAAAAAAAAAAAAAAAAAAAAAAAAAAAAAAAAAAAAAAAAAAAAAAAAAAAAAAAAAAAAAAAAAAAAAAAAAAAAAAAAAAAAAAAAAAAAAAAAAAAAAAAAAAAAAAAAAAAAAAAAAAAAAAAAAAAAAAAAAAAAAAAAAAAAAAAAAAAAAAAAAAAAAAAAAAAAAAAAAAAAAAAAAAAAAAAAAAAAAAAAAAAAAAAAAAAAAAAAAAAAAAAAAAAAAAAAAAAAAAAAAAAAAAAAAAAAAAAAAAAAAAAAAAAAAAAAAAAAAAAAAAAAAAAAAAAAAAAAAAAAAAAAAAAAAAAAAAAAAAAAAAAAAAAAAAAAAAAAAAAAAAAAAAAAAAAAAAAAAAAAAAAAAAAAAAAAAAAAAAAAAAAAAAAAAAAAAAAAAAAAAAAAAAAAAAAAAAAAAAAAAAAAAAAAAAAAAAAAAAAAAAAAAAAAAAAAAAAAAAAAAAAAAAAAAAAAAAAAAAAAAAAAAAAAAAAAAAAAAAAAAAAAAAAAAAAAAAAAAAAAAAAAAAAAAAAAAAAAAAAAAAAAAAAAAAAAAAAAAAAAAAAAAAAAAAAAAAAAAAAAAAAAAAAAAAAAAAAAAAAAAAAAAAAAAAAAAAAAAAAAAA=",
        "encoding": "base64",
        "path": [
         "y",
         "value"
        ]
       }
      ],
      "model_module": "bqplot",
      "model_module_version": "^0.5.16",
      "model_name": "LinesModel",
      "state": {
       "fill_colors": [],
       "labels": [
        "C1"
       ],
       "scales": {
        "x": "IPY_MODEL_ad09e176abb4486facf69abbba0a95f5",
        "y": "IPY_MODEL_ac4653423b0f4f809ecbc7267b6aa326"
       },
       "x": {
        "dtype": "float64",
        "shape": [
         500
        ],
        "type": null
       },
       "y": {
        "dtype": "int32",
        "shape": [
         500
        ],
        "type": null
       }
      }
     },
     "f17f7ab3cdb84a04bb35eba1a38fd52c": {
      "model_module": "@jupyter-widgets/base",
      "model_module_version": "1.2.0",
      "model_name": "LayoutModel",
      "state": {}
     },
     "f1895c902eb04cac817fab0ce7bab7d8": {
      "model_module": "@jupyter-widgets/base",
      "model_module_version": "1.2.0",
      "model_name": "LayoutModel",
      "state": {}
     },
     "f220ab3df5bb4a258816ca9a24929856": {
      "model_module": "@jupyter-widgets/controls",
      "model_module_version": "1.5.0",
      "model_name": "IntSliderModel",
      "state": {
       "description": "Number of Vectors",
       "layout": "IPY_MODEL_039f7746d5a44057ba8d80c1d154da3c",
       "max": 47,
       "style": "IPY_MODEL_c1e7a3a4933d40c98edfacde8c5a5903",
       "value": 6
      }
     },
     "f2338d775f424f65aff66d574c6babad": {
      "model_module": "@jupyter-widgets/controls",
      "model_module_version": "1.5.0",
      "model_name": "SliderStyleModel",
      "state": {
       "description_width": ""
      }
     },
     "f31dd2b966a644c69e4fe35d1ff9c00b": {
      "model_module": "@jupyter-widgets/base",
      "model_module_version": "1.2.0",
      "model_name": "LayoutModel",
      "state": {
       "width": "700px"
      }
     },
     "f4f69ac3840149a6aa3ef9943d2e9487": {
      "model_module": "@jupyter-widgets/controls",
      "model_module_version": "1.5.0",
      "model_name": "SliderStyleModel",
      "state": {
       "description_width": ""
      }
     },
     "f5ce64a7cbd3455384aa70ba586786f6": {
      "model_module": "bqplot",
      "model_module_version": "^0.5.16",
      "model_name": "LinearScaleModel",
      "state": {
       "stabilized": false
      }
     },
     "f6dd54f363aa47a986d4b9f947e81c9a": {
      "model_module": "bqplot",
      "model_module_version": "^0.5.16",
      "model_name": "AxisModel",
      "state": {
       "orientation": "vertical",
       "scale": "IPY_MODEL_adaccae84a8b453cb6067ad6afb3940b",
       "side": "left",
       "tick_values": null
      }
     },
     "f73f9cf147d54ba6bb422838db1dd6b8": {
      "model_module": "@jupyter-widgets/base",
      "model_module_version": "1.2.0",
      "model_name": "LayoutModel",
      "state": {}
     },
     "f77bcbabb2234a239aebfadc88e1c023": {
      "model_module": "@jupyter-widgets/controls",
      "model_module_version": "1.5.0",
      "model_name": "VBoxModel",
      "state": {
       "_dom_classes": [
        "widget-interact"
       ],
       "children": [
        "IPY_MODEL_627827c2ca3142d6b0752e59969a3cc2",
        "IPY_MODEL_7f77141d5337439ca8459257bb848c74",
        "IPY_MODEL_592e7086585e4ff9a241c01132e07eaa",
        "IPY_MODEL_d03f930fb4f74304a3c3053fa3b35512",
        "IPY_MODEL_6d7144624d2443d79503b6c718bfbe59",
        "IPY_MODEL_955364f7a3394ffda5603de7d728718b",
        "IPY_MODEL_160e639f1d6349688017d9a325bd80b7"
       ],
       "layout": "IPY_MODEL_b7a04841512b4856b9bdf69e72c6917a"
      }
     },
     "f7c712057db04511beec8c775c3026d2": {
      "buffers": [
       {
        "data": "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",
        "encoding": "base64",
        "path": [
         "x",
         "value"
        ]
       },
       {
        "data": "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",
        "encoding": "base64",
        "path": [
         "y",
         "value"
        ]
       }
      ],
      "model_module": "bqplot",
      "model_module_version": "^0.5.16",
      "model_name": "LinesModel",
      "state": {
       "colors": [
        "Orange"
       ],
       "fill_colors": [],
       "labels": [
        "C1"
       ],
       "scales": {
        "x": "IPY_MODEL_d0c5c3334445488da47dd8c54c780abd",
        "y": "IPY_MODEL_77389d936796448ba51dfdc163b507f0"
       },
       "x": {
        "dtype": "float64",
        "shape": [
         200
        ],
        "type": null
       },
       "y": {
        "dtype": "float64",
        "shape": [
         200
        ],
        "type": null
       }
      }
     },
     "fa6a8fc6eba4443d8080462d4d1e7f57": {
      "model_module": "@jupyter-widgets/base",
      "model_module_version": "1.2.0",
      "model_name": "LayoutModel",
      "state": {
       "width": "700px"
      }
     },
     "fad68b5128f443b098ec4a70a4ce5134": {
      "buffers": [
       {
        "data": "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",
        "encoding": "base64",
        "path": [
         "x",
         "value"
        ]
       },
       {
        "data": "AAAAAAAAAAAAAAAAAAAAAAAAAAAAAAAAAAAAAAAAAAAAAAAAAAAAAAAAAAAAAAAAAAAAAAAAAAAAAAAAAAAAAAAAAAAAAAAAAAAAAAAAAAAAAAAAAAAAAAAAAAAAAAAAAAAAAAAAAAAAAAAAAAAAAAAAAAAAAAAAAAAAAAAAAAAAAAAAAAAAAAAAAAAAAAAAAAAAAAAAAAAAAAAAAAAAAAAAAAAAAAAAAAAAAAAAAAAAAAAAAAAAAAAAAAAAAAAAAAAAAAAAAAAAAAAAAAAAAAAAAAAAAAAAAAAAAAAAAAAAAAAAAAAAAAAAAAAAAAAAAAAAAAAAAAAAAAAAAAAAAAAAAAAAAAAAAAAAAAAAAAAAAAAAAAAAAAAAAAAAAAAAAAAAAAAAAAAAAAAAAAAAAAAAAAAAAAAAAAAAAAAAAAAAAAAAAAAAAAAAAAAAAAAAAAAAAAAAAAAAAAAAAAAAAAAAAAAAAAAAAAAAAAAAAAAAAAAAAAAAAAAAAAAAAAAAAAAAAAAAAAAAAAAAAAAAAAAAAAAAAAAAAAAAAAAAAAAAAAAAAAAAAAAAAAAAAAAAAAAAAAAAAAAAAAAAAAAAAAAAAAAAAAAAAAAAAAAAAAAAAAAAAAAAAAAAAAAAAAAAAAAAAAAAAAAAAAAAAAAAAAAAAAAAAAAAAAAAAAAAAAAAAAAAAAAAAAAAAAAAAAAAAAAAAAAAAAAAAAAAAAAAAAAAAAAAAAAAAAAAAAAAAAAAAAAAAAAAAAAAAAAAAAAAAAAAAAAAAAAAAAAAAAAAAAAAAAAAAAAAAAAAAAAAAAAAAAAAAAAAAAAAAAAAAAAAAAAAAAAAAAAAAAAAAAAAAAAAAAAAAAAAAAAAAAAAAAAAAAAAAAAAAAAAAAAAAAAAAAAAAAAAAAAAAAAAAAAAAAAAAAAAAAAAAAAAAAAAAAAAAAAAAAAAAAAAAAAAAAAAAAAAAAAAAAAAAAAAAAAAAAAAAAAAAAAAAAAAAAAAAAD0////9P////T////0////9P////T////0////9P////T////0////9P////T////0////9P////T////0////9P////T////0////9P////T////0////9P////T////0////9P////T////0////9P////T////0////9P////T////0////9P////T////0////9P////T////0////9P////v////7////+/////v////7////+/////v////7////+/////v////7////+/////v////7////+/////v////7////+/////v////7////+/////v////7////+/////v////7////+/////v////7////+/////v////7////+/////v////7////+/////v////7////+/////v////7////+/////T////0////9P////T////0////9P////T////0////9P////T////0////9P////T////0////9P////T////0////9P////T////0////9P////T////0////9P////T////0////9P////T////0////9P////T////0////9P////T////0////9P////T////0////9P////T////0////AAAAAAAAAAAAAAAAAAAAAAAAAAAAAAAAAAAAAAAAAAAAAAAAAAAAAAAAAAAAAAAAAAAAAAAAAAAAAAAAAAAAAAAAAAAAAAAAAAAAAAAAAAAAAAAAAAAAAAAAAAAAAAAAAAAAAAAAAAAAAAAAAAAAAAAAAAAAAAAAAAAAAAAAAAAAAAAAAAAAAAAAAAAAAAAAAAAAAAAAAAAAAAAAAAAAAAAAAAAAAAAAAAAAAAAAAAAAAAAAAAAAAAAAAAAAAAAAAAAAAAAAAAAAAAAAAAAAAAAAAAAAAAAAAAAAAAAAAAAAAAAAAAAAAAAAAAAAAAAAAAAAAAAAAAAAAAAAAAAAAAAAAAAAAAAAAAAAAAAAAAAAAAAAAAAAAAAAAAAAAAAAAAAAAAAAAAAAAAAAAAAAAAAAAAAAAAAAAAAAAAAAAAAAAAAAAAAAAAAAAAAAAAAAAAAAAAAAAAAAAAAAAAAAAAAAAAAAAAAAAAAAAAAAAAAAAAAAAAAAAAAAAAAAAAAAAAAAAAAAAAAAAAAAAAAAAAAAAAAAAAAAAAAAAAAAAAAAAAAAAAAAAAAAAAAAAAAAAAAAAAAAAAAAAAAAAAAAAAAAAAAAAAAAAAAAAAAAAAAAAAAAAAAAAAAAAAAAAAAAAAAAAAAAAAAAAAAAAAAAAAAAAAAAAAAAAAAAAAAAAAAAAAAAAAAAAAAAAAAAAAAAAAAAAAAAAAAAAAAAAAAAAAAAAAAAAAAAAAAAAAAAAAAAAAAAAAAAAAAAAAAAAAAAAAAAAAAAAAAAAAAAAAAAAAAAAAAAAAAAAAAAAAAAAAAAAAAAAAAAAAAAAAAAAAAAAAAAAAAAAAAAAAAAAAAAAAAAAAAAAAAAAAAAAAAAAAAAAAAAAAAAAAAAAAAAAAAAAAAAAAAAAAAAAAAAAAAAAAAAAAAAAAAAAAAAAAAAAAAAAAAAAAAAAAAAAAAAAAAAAAAAAAAAAAAAAAAAAAAAAAAAAAAAAAAAAAAAAAAAAAA=",
        "encoding": "base64",
        "path": [
         "y",
         "value"
        ]
       }
      ],
      "model_module": "bqplot",
      "model_module_version": "^0.5.16",
      "model_name": "LinesModel",
      "state": {
       "fill_colors": [],
       "labels": [
        "C1"
       ],
       "scales": {
        "x": "IPY_MODEL_d2149f09188b482cbe8f7f6272927603",
        "y": "IPY_MODEL_adaccae84a8b453cb6067ad6afb3940b"
       },
       "x": {
        "dtype": "float64",
        "shape": [
         500
        ],
        "type": null
       },
       "y": {
        "dtype": "int32",
        "shape": [
         500
        ],
        "type": null
       }
      }
     },
     "fb35d34c12c549348de9ff2da4a3106f": {
      "buffers": [
       {
        "data": "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",
        "encoding": "base64",
        "path": [
         "x",
         "value"
        ]
       },
       {
        "data": "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",
        "encoding": "base64",
        "path": [
         "y",
         "value"
        ]
       }
      ],
      "model_module": "bqplot",
      "model_module_version": "^0.5.16",
      "model_name": "LinesModel",
      "state": {
       "colors": [
        "Orange"
       ],
       "fill_colors": [],
       "labels": [
        "C1"
       ],
       "scales": {
        "x": "IPY_MODEL_d0c5c3334445488da47dd8c54c780abd",
        "y": "IPY_MODEL_77389d936796448ba51dfdc163b507f0"
       },
       "x": {
        "dtype": "float64",
        "shape": [
         200
        ],
        "type": null
       },
       "y": {
        "dtype": "float64",
        "shape": [
         200
        ],
        "type": null
       }
      }
     },
     "fbaa352051554b55b3a42e475a137336": {
      "model_module": "bqplot",
      "model_module_version": "^0.5.16",
      "model_name": "AxisModel",
      "state": {
       "orientation": "vertical",
       "scale": "IPY_MODEL_77389d936796448ba51dfdc163b507f0",
       "side": "left",
       "tick_values": null
      }
     },
     "fc3b2cd5a5ce4db7aff279fc840c018c": {
      "buffers": [
       {
        "data": "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",
        "encoding": "base64",
        "path": [
         "x",
         "value"
        ]
       },
       {
        "data": "4Ieh+EOr1j/gh6H4Q6vWP+CHofhDq9Y/4Ieh+EOr1j/gh6H4Q6vWP+CHofhDq9Y/4Ieh+EOr1j/gh6H4Q6vWP+CHofhDq9Y/4Ieh+EOr1j/gh6H4Q6vWP+CHofhDq9Y/4Ieh+EOr1j/gh6H4Q6vWP+CHofhDq9Y/4Ieh+EOr1j/gh6H4Q6vWP+CHofhDq9Y/4Ieh+EOr1j/gh6H4Q6vWP+CHofhDq9Y/4Ieh+EOr1j/gh6H4Q6vWP+CHofhDq9Y/4Ieh+EOr1j8AiKH4Q6vWPyCIofhDq9Y/gIih+EOr1j+AiaH4Q6vWP2CMofhDq9Y/4JOh+EOr1j9AqKH4Q6vWP+DeofhDq9Y/gHGi+EOr1j+g+6P4Q6vWP2AeqPhDq9Y/gDqz+EOr1j8gE9H4Q6vWPyBBIflDq9Y/QKf4+UOr1j9ATzv8Q6vWPyDWTQJEq9Y/APydEkSr1j8A93A+RKvWP+AcLLREq9Y/4DNz8EWr1j8ApBxCSavWP6AArixSq9Y/gMWqIGqr1j+AKeZ5qqvWP2B6SlhXrNY/AG8svyeu1j/AEPVVB7PWPyB+d+kewNY/AN2gukrj1j+gM8aMZy3XP8Clw4b40dc/QLkDnF9D2T/giZocXoLcPzCADRhF6OE/QLzMkuEg6j/wMicn98TlPyA5sTroEtE/gAxAtWGIsr8AV+Xs9vyovwArO06wUdQ/wKzmEEfh5j+gXGjJWMjpP0ALltksZuA/gAIjn8yrtT8AO7149Su9vwDRTSc35rU/MHbH45Fu4D9gh00XssrpP0BaLE+V2+Y/4JRv6OU/1D8AlcIiekWpvwAovJ3marK/oHsxvXEk0T/gJs9sXMvlPzC3Sxd3H+o/sFYIGT/g4T+AQxA3AkTAP4Bt5PNHgLy/AJlE4rqepz9AA8w44svdP2DvodsrSuk/QIHEYnTQ5z8A8YRv+XPXPwC2hc0qOpa/gKHlT9UXt7+AmLYYxQ7MPxBRuuvPluQ/ULOHZEZL6j9wqIAnKUfjP0DJj+xBB8Y/gOfvRZZ3ur8AnE1E0vuEP0AEYC3Bpdo/kDWmQ8eg6D+QNaZDx6DoP2AEYC3Bpdo/AJxNRNL7hD+A5+9Flne6v0DJj+xBB8Y/gKiAJylH4z9Qs4dkRkvqPxBRuuvPluQ/gJi2GMUOzD8AoeVP1Re3vwC2hc0qOpa/4PCEb/lz1z9AgcRidNDnP1DvodsrSuk/QAPMOOLL3T8AmETiup6nPwBt5PNHgLy/wEMQNwJEwD/AVggZP+DhPzC3Sxd3H+o/4CbPbFzL5T+gezG9cSTRPwAovJ3marK/AJXCInpFqb/glG/o5T/UP0BaLE+V2+Y/YIdNF7LK6T8wdsfjkW7gPwDRTSc35rU/ADu9ePUrvb+AAiOfzKu1P0ALltksZuA/oFxoyVjI6T/ArOYQR+HmPwArO06wUdQ/AFfl7Pb8qL+ADEC1YYiyvyA5sTroEtE/8DInJ/fE5T9AvMyS4SDqPzCADRhF6OE/4ImaHF6C3D9AuQOcX0PZP8Clw4b40dc/oDPGjGct1z8A3aC6SuPWPyB+d+kewNY/wBD1VQez1j8Abyy/J67WP2B6SlhXrNY/gCnmeaqr1j+AxaogaqvWP6AArixSq9Y/AKQcQkmr1j/gM3PwRavWP+AcLLREq9Y/APdwPkSr1j8A/J0SRKvWPyDWTQJEq9Y/QE87/EOr1j9Ap/j5Q6vWPyBBIflDq9Y/IBPR+EOr1j+AOrP4Q6vWP2AeqPhDq9Y/oPuj+EOr1j+AcaL4Q6vWP+DeofhDq9Y/QKih+EOr1j/gk6H4Q6vWP2CMofhDq9Y/gImh+EOr1j+AiKH4Q6vWPyCIofhDq9Y/AIih+EOr1j/gh6H4Q6vWP+CHofhDq9Y/4Ieh+EOr1j/gh6H4Q6vWP+CHofhDq9Y/4Ieh+EOr1j/gh6H4Q6vWP+CHofhDq9Y/4Ieh+EOr1j/gh6H4Q6vWP+CHofhDq9Y/4Ieh+EOr1j/gh6H4Q6vWP+CHofhDq9Y/4Ieh+EOr1j/gh6H4Q6vWP+CHofhDq9Y/4Ieh+EOr1j/gh6H4Q6vWP+CHofhDq9Y/4Ieh+EOr1j/gh6H4Q6vWP+CHofhDq9Y/4Ieh+EOr1j/gh6H4Q6vWPw==",
        "encoding": "base64",
        "path": [
         "y",
         "value"
        ]
       }
      ],
      "model_module": "bqplot",
      "model_module_version": "^0.5.16",
      "model_name": "LinesModel",
      "state": {
       "colors": [
        "Orange"
       ],
       "fill_colors": [],
       "labels": [
        "C1"
       ],
       "scales": {
        "x": "IPY_MODEL_d0c5c3334445488da47dd8c54c780abd",
        "y": "IPY_MODEL_77389d936796448ba51dfdc163b507f0"
       },
       "x": {
        "dtype": "float64",
        "shape": [
         200
        ],
        "type": null
       },
       "y": {
        "dtype": "float64",
        "shape": [
         200
        ],
        "type": null
       }
      }
     },
     "fda2c10f499d451e952ee1a4e6884cef": {
      "model_module": "@jupyter-widgets/controls",
      "model_module_version": "1.5.0",
      "model_name": "SliderStyleModel",
      "state": {
       "description_width": ""
      }
     },
     "fde0cb7d28b543138766c52cf1130a5c": {
      "model_module": "@jupyter-widgets/controls",
      "model_module_version": "1.5.0",
      "model_name": "IntSliderModel",
      "state": {
       "description": "Number of Vectors",
       "layout": "IPY_MODEL_5090fab6eb3b4fa99db3030d5e0e2ceb",
       "max": 47,
       "style": "IPY_MODEL_fda2c10f499d451e952ee1a4e6884cef",
       "value": 6
      }
     },
     "fe2013860487486aadb08806267ef712": {
      "model_module": "bqplot",
      "model_module_version": "^0.5.16",
      "model_name": "AxisModel",
      "state": {
       "orientation": "vertical",
       "scale": "IPY_MODEL_dbb80ee40c6e439f8b94ff7af8dc5b2b",
       "side": "left",
       "tick_values": null
      }
     },
     "fe5e821101a7443daf02cc19eafda9b9": {
      "model_module": "bqplot",
      "model_module_version": "^0.5.16",
      "model_name": "LinearScaleModel",
      "state": {
       "stabilized": false
      }
     }
    },
    "version_major": 2,
    "version_minor": 0
   }
  }
 },
 "nbformat": 4,
 "nbformat_minor": 4
}
