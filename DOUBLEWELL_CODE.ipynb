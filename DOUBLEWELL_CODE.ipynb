{
 "cells": [
  {
   "cell_type": "markdown",
   "metadata": {},
   "source": [
    "### <center>  Double-Well Program Output </center>\n",
    "##### Wait for few minutes \n",
    "\n",
    "\n",
    "\n"
   ]
  },
  {
   "cell_type": "code",
   "execution_count": 5,
   "metadata": {},
   "outputs": [
    {
     "data": {
      "application/vnd.jupyter.widget-view+json": {
       "model_id": "d36acd0b882b4c279f583db7738dab3f",
       "version_major": 2,
       "version_minor": 0
      },
      "text/plain": [
       "VBox(children=(Figure(animation_duration=900, axes=[Axis(scale=LinearScale()), Axis(orientation='vertical', sc…"
      ]
     },
     "metadata": {},
     "output_type": "display_data"
    },
    {
     "data": {
      "application/vnd.jupyter.widget-view+json": {
       "model_id": "07a79c3cc24d40bf808a27ccb8146db6",
       "version_major": 2,
       "version_minor": 0
      },
      "text/plain": [
       "interactive(children=(IntSlider(value=5, description='inner width', layout=Layout(width='700px'), max=58), Int…"
      ]
     },
     "metadata": {},
     "output_type": "display_data"
    }
   ],
   "source": [
    "import numpy as np\n",
    "import bqplot as bq\n",
    "from bqplot import pyplot as plt\n",
    "from ipywidgets import*\n",
    "\n",
    "\n",
    "def pot(xc,W1,W2,V1,V2):\n",
    "    if(xc>=(W1/2.0+W2)):\n",
    "        return 0;\n",
    "    elif(xc<=-(W1/2.0+W2)):\n",
    "        return 0;\n",
    "    \n",
    "    elif(xc<=W1/2 and xc>=-W1/2):\n",
    "        return -V1;\n",
    "    \n",
    "    else:\n",
    "        return -V2;\n",
    "def kdirac(i,j):\n",
    "    if(i==j):\n",
    "        return 1;\n",
    "    else:\n",
    "        return 0;\n",
    "x = np.linspace(-3*10,3*10,500)\n",
    "dx = x[2]-x[1]\n",
    "def hamil(i,j,VPO):\n",
    "    v =(-kdirac(i+1,j)+2*kdirac(i,j)-kdirac(i-1,j))/(dx**2) + kdirac(i,j)*VPO;\n",
    "    return v;\n",
    "N = 500    \n",
    "\n",
    "figure = plt.figure(\"Double well \")\n",
    "figure.animation_duration = 900\n",
    "figure.layout= {'width':'840px','height':'600px'}\n",
    "plt.clear()    \n",
    "plot = plt.plot(x,x)\n",
    "\n",
    " \n",
    "plt.show()\n",
    "def destroy(WSD):\n",
    "    plt.clear()\n",
    "    plot = plt.plot(x,WSD)\n",
    "    return plot;\n",
    "def gh(EVe,EVal,N):\n",
    "    \n",
    "\n",
    "    for i in range(0,N):\n",
    "             \n",
    "        vb =  ((EVe[:,i])*3)+EVal[i] +i*.5\n",
    "    #plt.ylim(-10,-8)\n",
    "        plt.plot(x,vb,colors = ['Orange'])\n",
    "        \n",
    "        \n",
    "s = 0     \n",
    "def fg(W1,W2,V1,V2,N2,ctrl):\n",
    "    global plot \n",
    "    pot_array = np.array([pot(x1,W1,W2,V1,V2) for x1 in x])\n",
    "   \n",
    "    plot.y = pot_array\n",
    "    \n",
    "    \n",
    "    Ham = np.zeros(N*N).reshape(N,N)\n",
    "\n",
    "    \n",
    "    if(ctrl==1):\n",
    "        for i in range(N):\n",
    "            for j in range(N):\n",
    "                Ham[i,j] = hamil(i,j,pot_array[i])\n",
    "        Eigval,Eigvect = np.linalg.eigh(Ham)\n",
    "        np.sort(Eigval)\n",
    "        np.sort(Eigvect)\n",
    "        gh(Eigvect,Eigval,N2);\n",
    "        \n",
    "    elif(ctrl==2):\n",
    "                                 \n",
    "        plot = destroy(pot_array)\n",
    "\n",
    "        \n",
    "    else:\n",
    "        return;\n",
    "\n",
    "\n",
    "zx = 0   \n",
    "w = interactive(fg,W1 = IntSlider(description = 'inner width',value = 5,min = 0,max = 58,layout = {'width':'700px'}),\n",
    "                W2 = IntSlider(description = 'Outer width',value = 5,min = 0,max = 20,layout = {'width':'700px'}),\n",
    "                V1 = IntSlider(description = 'V1',value = 5,min = 0,max = 40,layout = {'width':'700px'}),\n",
    "                N2 = IntSlider(description = 'Number of Vectors',value = 6,min = 0,max = 47,layout = {'width':'700px'}),\n",
    "                V2 = IntSlider(description = 'V2',value = 12,min = 0,max = 100,layout = {'width':'700px'}),\n",
    "                ctrl = ToggleButtons(options=[('Modifying well',0),('plot',1), ('reset',2)],value = 0)\n",
    "               ) \n",
    "w\n"
   ]
  }
 ],
 "metadata": {
  "kernelspec": {
   "display_name": "Python 3",
   "language": "python",
   "name": "python3"
  },
  "language_info": {
   "codemirror_mode": {
    "name": "ipython",
    "version": 3
   },
   "file_extension": ".py",
   "mimetype": "text/x-python",
   "name": "python",
   "nbconvert_exporter": "python",
   "pygments_lexer": "ipython3",
   "version": "3.8.3"
  },
  "latex_envs": {
   "LaTeX_envs_menu_present": true,
   "autoclose": false,
   "autocomplete": false,
   "bibliofile": "biblio.bib",
   "cite_by": "apalike",
   "current_citInitial": 1,
   "eqLabelWithNumbers": true,
   "eqNumInitial": 1,
   "hotkeys": {
    "equation": "Ctrl-E",
    "itemize": "Ctrl-I"
   },
   "labels_anchors": false,
   "latex_user_defs": false,
   "report_style_numbering": false,
   "user_envs_cfg": false
  }
 },
 "nbformat": 4,
 "nbformat_minor": 4
}
